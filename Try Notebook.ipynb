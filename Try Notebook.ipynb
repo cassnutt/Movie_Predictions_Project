{
 "cells": [
  {
   "cell_type": "code",
   "execution_count": 50,
   "metadata": {
    "ExecuteTime": {
     "end_time": "2020-12-03T17:09:11.248743Z",
     "start_time": "2020-12-03T17:09:11.244025Z"
    }
   },
   "outputs": [],
   "source": [
    "import pandas as pd\n",
    "import numpy as np\n",
    "import matplotlib.pyplot as plt\n",
    "%matplotlib inline\n",
    "import seaborn as sns\n",
    "sns.set_theme(style=\"whitegrid\")"
   ]
  },
  {
   "cell_type": "code",
   "execution_count": 2,
   "metadata": {
    "ExecuteTime": {
     "end_time": "2020-12-03T16:49:01.817970Z",
     "start_time": "2020-12-03T16:49:01.815444Z"
    }
   },
   "outputs": [
    {
     "name": "stdout",
     "output_type": "stream",
     "text": [
      "['Solarize_Light2', '_classic_test_patch', 'bmh', 'classic', 'dark_background', 'fast', 'fivethirtyeight', 'ggplot', 'grayscale', 'seaborn', 'seaborn-bright', 'seaborn-colorblind', 'seaborn-dark', 'seaborn-dark-palette', 'seaborn-darkgrid', 'seaborn-deep', 'seaborn-muted', 'seaborn-notebook', 'seaborn-paper', 'seaborn-pastel', 'seaborn-poster', 'seaborn-talk', 'seaborn-ticks', 'seaborn-white', 'seaborn-whitegrid', 'tableau-colorblind10']\n"
     ]
    }
   ],
   "source": [
    "# palette = sns.color_palette(\"RdBu\", 10)\n",
    "# sns.palplot(sequential_colors)\n",
    "# sns.set_palette('sequential_colors')\n",
    "plt.style.use('seaborn-talk')\n",
    "\n",
    "print(plt.style.available)"
   ]
  },
  {
   "cell_type": "code",
   "execution_count": 3,
   "metadata": {
    "ExecuteTime": {
     "end_time": "2020-12-03T16:49:02.234347Z",
     "start_time": "2020-12-03T16:49:01.820090Z"
    }
   },
   "outputs": [],
   "source": [
    "title_basics_df = pd.read_csv ('zippedData/imdb.title.basics.csv.gz')\n",
    "title_ratings_df = pd.read_csv ('zippedData/imdb.title.ratings.csv.gz')\n",
    "movie_gross_df = pd.read_csv ('zippedData/bom.movie_gross.csv.gz')\n",
    "movie_budgets_df = pd.read_csv ('zippedData/tn.movie_budgets.csv.gz')"
   ]
  },
  {
   "cell_type": "code",
   "execution_count": 4,
   "metadata": {
    "ExecuteTime": {
     "end_time": "2020-12-03T16:49:02.250792Z",
     "start_time": "2020-12-03T16:49:02.236033Z"
    }
   },
   "outputs": [
    {
     "data": {
      "text/html": [
       "<div>\n",
       "<style scoped>\n",
       "    .dataframe tbody tr th:only-of-type {\n",
       "        vertical-align: middle;\n",
       "    }\n",
       "\n",
       "    .dataframe tbody tr th {\n",
       "        vertical-align: top;\n",
       "    }\n",
       "\n",
       "    .dataframe thead th {\n",
       "        text-align: right;\n",
       "    }\n",
       "</style>\n",
       "<table border=\"1\" class=\"dataframe\">\n",
       "  <thead>\n",
       "    <tr style=\"text-align: right;\">\n",
       "      <th></th>\n",
       "      <th>id</th>\n",
       "      <th>release_date</th>\n",
       "      <th>movie</th>\n",
       "      <th>production_budget</th>\n",
       "      <th>domestic_gross</th>\n",
       "      <th>worldwide_gross</th>\n",
       "    </tr>\n",
       "  </thead>\n",
       "  <tbody>\n",
       "    <tr>\n",
       "      <th>0</th>\n",
       "      <td>1</td>\n",
       "      <td>Dec 18, 2009</td>\n",
       "      <td>Avatar</td>\n",
       "      <td>$425,000,000</td>\n",
       "      <td>$760,507,625</td>\n",
       "      <td>$2,776,345,279</td>\n",
       "    </tr>\n",
       "    <tr>\n",
       "      <th>1</th>\n",
       "      <td>2</td>\n",
       "      <td>May 20, 2011</td>\n",
       "      <td>Pirates of the Caribbean: On Stranger Tides</td>\n",
       "      <td>$410,600,000</td>\n",
       "      <td>$241,063,875</td>\n",
       "      <td>$1,045,663,875</td>\n",
       "    </tr>\n",
       "    <tr>\n",
       "      <th>2</th>\n",
       "      <td>3</td>\n",
       "      <td>Jun 7, 2019</td>\n",
       "      <td>Dark Phoenix</td>\n",
       "      <td>$350,000,000</td>\n",
       "      <td>$42,762,350</td>\n",
       "      <td>$149,762,350</td>\n",
       "    </tr>\n",
       "    <tr>\n",
       "      <th>3</th>\n",
       "      <td>4</td>\n",
       "      <td>May 1, 2015</td>\n",
       "      <td>Avengers: Age of Ultron</td>\n",
       "      <td>$330,600,000</td>\n",
       "      <td>$459,005,868</td>\n",
       "      <td>$1,403,013,963</td>\n",
       "    </tr>\n",
       "    <tr>\n",
       "      <th>4</th>\n",
       "      <td>5</td>\n",
       "      <td>Dec 15, 2017</td>\n",
       "      <td>Star Wars Ep. VIII: The Last Jedi</td>\n",
       "      <td>$317,000,000</td>\n",
       "      <td>$620,181,382</td>\n",
       "      <td>$1,316,721,747</td>\n",
       "    </tr>\n",
       "    <tr>\n",
       "      <th>...</th>\n",
       "      <td>...</td>\n",
       "      <td>...</td>\n",
       "      <td>...</td>\n",
       "      <td>...</td>\n",
       "      <td>...</td>\n",
       "      <td>...</td>\n",
       "    </tr>\n",
       "    <tr>\n",
       "      <th>5777</th>\n",
       "      <td>78</td>\n",
       "      <td>Dec 31, 2018</td>\n",
       "      <td>Red 11</td>\n",
       "      <td>$7,000</td>\n",
       "      <td>$0</td>\n",
       "      <td>$0</td>\n",
       "    </tr>\n",
       "    <tr>\n",
       "      <th>5778</th>\n",
       "      <td>79</td>\n",
       "      <td>Apr 2, 1999</td>\n",
       "      <td>Following</td>\n",
       "      <td>$6,000</td>\n",
       "      <td>$48,482</td>\n",
       "      <td>$240,495</td>\n",
       "    </tr>\n",
       "    <tr>\n",
       "      <th>5779</th>\n",
       "      <td>80</td>\n",
       "      <td>Jul 13, 2005</td>\n",
       "      <td>Return to the Land of Wonders</td>\n",
       "      <td>$5,000</td>\n",
       "      <td>$1,338</td>\n",
       "      <td>$1,338</td>\n",
       "    </tr>\n",
       "    <tr>\n",
       "      <th>5780</th>\n",
       "      <td>81</td>\n",
       "      <td>Sep 29, 2015</td>\n",
       "      <td>A Plague So Pleasant</td>\n",
       "      <td>$1,400</td>\n",
       "      <td>$0</td>\n",
       "      <td>$0</td>\n",
       "    </tr>\n",
       "    <tr>\n",
       "      <th>5781</th>\n",
       "      <td>82</td>\n",
       "      <td>Aug 5, 2005</td>\n",
       "      <td>My Date With Drew</td>\n",
       "      <td>$1,100</td>\n",
       "      <td>$181,041</td>\n",
       "      <td>$181,041</td>\n",
       "    </tr>\n",
       "  </tbody>\n",
       "</table>\n",
       "<p>5782 rows × 6 columns</p>\n",
       "</div>"
      ],
      "text/plain": [
       "      id  release_date                                        movie  \\\n",
       "0      1  Dec 18, 2009                                       Avatar   \n",
       "1      2  May 20, 2011  Pirates of the Caribbean: On Stranger Tides   \n",
       "2      3   Jun 7, 2019                                 Dark Phoenix   \n",
       "3      4   May 1, 2015                      Avengers: Age of Ultron   \n",
       "4      5  Dec 15, 2017            Star Wars Ep. VIII: The Last Jedi   \n",
       "...   ..           ...                                          ...   \n",
       "5777  78  Dec 31, 2018                                       Red 11   \n",
       "5778  79   Apr 2, 1999                                    Following   \n",
       "5779  80  Jul 13, 2005                Return to the Land of Wonders   \n",
       "5780  81  Sep 29, 2015                         A Plague So Pleasant   \n",
       "5781  82   Aug 5, 2005                            My Date With Drew   \n",
       "\n",
       "     production_budget domestic_gross worldwide_gross  \n",
       "0         $425,000,000   $760,507,625  $2,776,345,279  \n",
       "1         $410,600,000   $241,063,875  $1,045,663,875  \n",
       "2         $350,000,000    $42,762,350    $149,762,350  \n",
       "3         $330,600,000   $459,005,868  $1,403,013,963  \n",
       "4         $317,000,000   $620,181,382  $1,316,721,747  \n",
       "...                ...            ...             ...  \n",
       "5777            $7,000             $0              $0  \n",
       "5778            $6,000        $48,482        $240,495  \n",
       "5779            $5,000         $1,338          $1,338  \n",
       "5780            $1,400             $0              $0  \n",
       "5781            $1,100       $181,041        $181,041  \n",
       "\n",
       "[5782 rows x 6 columns]"
      ]
     },
     "execution_count": 4,
     "metadata": {},
     "output_type": "execute_result"
    }
   ],
   "source": [
    "movie_budgets_df"
   ]
  },
  {
   "cell_type": "code",
   "execution_count": 5,
   "metadata": {
    "ExecuteTime": {
     "end_time": "2020-12-03T16:49:02.274030Z",
     "start_time": "2020-12-03T16:49:02.252691Z"
    }
   },
   "outputs": [],
   "source": [
    "# movie_budgets_df.head()\n",
    "def convert_to_int(df, col):\n",
    "    df[col] = df[col].str.replace('$','').str.replace(',', '').astype('int')\n",
    "    return df\n",
    "\n",
    "\n",
    "cols_to_convert = ['production_budget', 'domestic_gross', 'worldwide_gross']\n",
    "\n",
    "for col in cols_to_convert:\n",
    "    movie_budgets_df = convert_to_int(movie_budgets_df, col)"
   ]
  },
  {
   "cell_type": "code",
   "execution_count": 6,
   "metadata": {
    "ExecuteTime": {
     "end_time": "2020-12-03T16:49:02.281618Z",
     "start_time": "2020-12-03T16:49:02.276323Z"
    }
   },
   "outputs": [],
   "source": [
    "movie_budgets_df['difference'] = movie_budgets_df['worldwide_gross'] - movie_budgets_df['production_budget']\n",
    "\n"
   ]
  },
  {
   "cell_type": "code",
   "execution_count": 7,
   "metadata": {
    "ExecuteTime": {
     "end_time": "2020-12-03T16:49:02.291782Z",
     "start_time": "2020-12-03T16:49:02.283085Z"
    }
   },
   "outputs": [
    {
     "data": {
      "text/html": [
       "<div>\n",
       "<style scoped>\n",
       "    .dataframe tbody tr th:only-of-type {\n",
       "        vertical-align: middle;\n",
       "    }\n",
       "\n",
       "    .dataframe tbody tr th {\n",
       "        vertical-align: top;\n",
       "    }\n",
       "\n",
       "    .dataframe thead th {\n",
       "        text-align: right;\n",
       "    }\n",
       "</style>\n",
       "<table border=\"1\" class=\"dataframe\">\n",
       "  <thead>\n",
       "    <tr style=\"text-align: right;\">\n",
       "      <th></th>\n",
       "      <th>id</th>\n",
       "      <th>release_date</th>\n",
       "      <th>movie</th>\n",
       "      <th>production_budget</th>\n",
       "      <th>domestic_gross</th>\n",
       "      <th>worldwide_gross</th>\n",
       "      <th>difference</th>\n",
       "    </tr>\n",
       "  </thead>\n",
       "  <tbody>\n",
       "    <tr>\n",
       "      <th>0</th>\n",
       "      <td>1</td>\n",
       "      <td>Dec 18, 2009</td>\n",
       "      <td>Avatar</td>\n",
       "      <td>425000000</td>\n",
       "      <td>760507625</td>\n",
       "      <td>2776345279</td>\n",
       "      <td>2351345279</td>\n",
       "    </tr>\n",
       "    <tr>\n",
       "      <th>1</th>\n",
       "      <td>2</td>\n",
       "      <td>May 20, 2011</td>\n",
       "      <td>Pirates of the Caribbean: On Stranger Tides</td>\n",
       "      <td>410600000</td>\n",
       "      <td>241063875</td>\n",
       "      <td>1045663875</td>\n",
       "      <td>635063875</td>\n",
       "    </tr>\n",
       "    <tr>\n",
       "      <th>2</th>\n",
       "      <td>3</td>\n",
       "      <td>Jun 7, 2019</td>\n",
       "      <td>Dark Phoenix</td>\n",
       "      <td>350000000</td>\n",
       "      <td>42762350</td>\n",
       "      <td>149762350</td>\n",
       "      <td>-200237650</td>\n",
       "    </tr>\n",
       "    <tr>\n",
       "      <th>3</th>\n",
       "      <td>4</td>\n",
       "      <td>May 1, 2015</td>\n",
       "      <td>Avengers: Age of Ultron</td>\n",
       "      <td>330600000</td>\n",
       "      <td>459005868</td>\n",
       "      <td>1403013963</td>\n",
       "      <td>1072413963</td>\n",
       "    </tr>\n",
       "    <tr>\n",
       "      <th>4</th>\n",
       "      <td>5</td>\n",
       "      <td>Dec 15, 2017</td>\n",
       "      <td>Star Wars Ep. VIII: The Last Jedi</td>\n",
       "      <td>317000000</td>\n",
       "      <td>620181382</td>\n",
       "      <td>1316721747</td>\n",
       "      <td>999721747</td>\n",
       "    </tr>\n",
       "  </tbody>\n",
       "</table>\n",
       "</div>"
      ],
      "text/plain": [
       "   id  release_date                                        movie  \\\n",
       "0   1  Dec 18, 2009                                       Avatar   \n",
       "1   2  May 20, 2011  Pirates of the Caribbean: On Stranger Tides   \n",
       "2   3   Jun 7, 2019                                 Dark Phoenix   \n",
       "3   4   May 1, 2015                      Avengers: Age of Ultron   \n",
       "4   5  Dec 15, 2017            Star Wars Ep. VIII: The Last Jedi   \n",
       "\n",
       "   production_budget  domestic_gross  worldwide_gross  difference  \n",
       "0          425000000       760507625       2776345279  2351345279  \n",
       "1          410600000       241063875       1045663875   635063875  \n",
       "2          350000000        42762350        149762350  -200237650  \n",
       "3          330600000       459005868       1403013963  1072413963  \n",
       "4          317000000       620181382       1316721747   999721747  "
      ]
     },
     "execution_count": 7,
     "metadata": {},
     "output_type": "execute_result"
    }
   ],
   "source": [
    "movie_budgets_df.head()"
   ]
  },
  {
   "cell_type": "code",
   "execution_count": 8,
   "metadata": {
    "ExecuteTime": {
     "end_time": "2020-12-03T16:49:02.299680Z",
     "start_time": "2020-12-03T16:49:02.297186Z"
    }
   },
   "outputs": [],
   "source": [
    "# def convert_to_int(df, col):\n",
    "#     df[col] = df[col].str.replace('$','').str.replace(',', '').astype('int')\n",
    "#     return df\n",
    "# cols_to_convert = ['production_budget', 'domestic_gross', 'worldwide_gross']\n",
    "\n",
    "# for col in cols_to_convert:\n",
    "#     movie_budgets_df = convert_to_int(movie_budgets_df, col)"
   ]
  },
  {
   "cell_type": "code",
   "execution_count": 9,
   "metadata": {
    "ExecuteTime": {
     "end_time": "2020-12-03T16:49:02.306445Z",
     "start_time": "2020-12-03T16:49:02.303781Z"
    }
   },
   "outputs": [],
   "source": [
    "# calculate_world_roi(movie_budgets_df, ['difference'], ['production_budget'])\n",
    "\n"
   ]
  },
  {
   "cell_type": "code",
   "execution_count": 10,
   "metadata": {
    "ExecuteTime": {
     "end_time": "2020-12-03T16:49:02.313837Z",
     "start_time": "2020-12-03T16:49:02.308748Z"
    }
   },
   "outputs": [],
   "source": [
    "movie_budgets_df['roi'] = (movie_budgets_df['difference'] / movie_budgets_df['production_budget']) * 100\n",
    "movie_budgets_df['roi'] = movie_budgets_df['roi'].round(2)\n"
   ]
  },
  {
   "cell_type": "code",
   "execution_count": 11,
   "metadata": {
    "ExecuteTime": {
     "end_time": "2020-12-03T16:49:02.318535Z",
     "start_time": "2020-12-03T16:49:02.316241Z"
    }
   },
   "outputs": [],
   "source": [
    "# movie_budgets_df.head()"
   ]
  },
  {
   "cell_type": "code",
   "execution_count": 12,
   "metadata": {
    "ExecuteTime": {
     "end_time": "2020-12-03T16:49:02.821633Z",
     "start_time": "2020-12-03T16:49:02.320372Z"
    }
   },
   "outputs": [
    {
     "data": {
      "text/html": [
       "<div>\n",
       "<style scoped>\n",
       "    .dataframe tbody tr th:only-of-type {\n",
       "        vertical-align: middle;\n",
       "    }\n",
       "\n",
       "    .dataframe tbody tr th {\n",
       "        vertical-align: top;\n",
       "    }\n",
       "\n",
       "    .dataframe thead th {\n",
       "        text-align: right;\n",
       "    }\n",
       "</style>\n",
       "<table border=\"1\" class=\"dataframe\">\n",
       "  <thead>\n",
       "    <tr style=\"text-align: right;\">\n",
       "      <th></th>\n",
       "      <th>id</th>\n",
       "      <th>release_date</th>\n",
       "      <th>movie</th>\n",
       "      <th>production_budget</th>\n",
       "      <th>domestic_gross</th>\n",
       "      <th>worldwide_gross</th>\n",
       "      <th>difference</th>\n",
       "      <th>roi</th>\n",
       "      <th>release_m</th>\n",
       "      <th>release_y</th>\n",
       "    </tr>\n",
       "  </thead>\n",
       "  <tbody>\n",
       "    <tr>\n",
       "      <th>0</th>\n",
       "      <td>1</td>\n",
       "      <td>2009-12-18</td>\n",
       "      <td>Avatar</td>\n",
       "      <td>425000000</td>\n",
       "      <td>760507625</td>\n",
       "      <td>2776345279</td>\n",
       "      <td>2351345279</td>\n",
       "      <td>553.26</td>\n",
       "      <td>12</td>\n",
       "      <td>2009</td>\n",
       "    </tr>\n",
       "    <tr>\n",
       "      <th>1</th>\n",
       "      <td>2</td>\n",
       "      <td>2011-05-20</td>\n",
       "      <td>Pirates of the Caribbean: On Stranger Tides</td>\n",
       "      <td>410600000</td>\n",
       "      <td>241063875</td>\n",
       "      <td>1045663875</td>\n",
       "      <td>635063875</td>\n",
       "      <td>154.67</td>\n",
       "      <td>5</td>\n",
       "      <td>2011</td>\n",
       "    </tr>\n",
       "    <tr>\n",
       "      <th>2</th>\n",
       "      <td>3</td>\n",
       "      <td>2019-06-07</td>\n",
       "      <td>Dark Phoenix</td>\n",
       "      <td>350000000</td>\n",
       "      <td>42762350</td>\n",
       "      <td>149762350</td>\n",
       "      <td>-200237650</td>\n",
       "      <td>-57.21</td>\n",
       "      <td>6</td>\n",
       "      <td>2019</td>\n",
       "    </tr>\n",
       "    <tr>\n",
       "      <th>3</th>\n",
       "      <td>4</td>\n",
       "      <td>2015-05-01</td>\n",
       "      <td>Avengers: Age of Ultron</td>\n",
       "      <td>330600000</td>\n",
       "      <td>459005868</td>\n",
       "      <td>1403013963</td>\n",
       "      <td>1072413963</td>\n",
       "      <td>324.38</td>\n",
       "      <td>5</td>\n",
       "      <td>2015</td>\n",
       "    </tr>\n",
       "    <tr>\n",
       "      <th>4</th>\n",
       "      <td>5</td>\n",
       "      <td>2017-12-15</td>\n",
       "      <td>Star Wars Ep. VIII: The Last Jedi</td>\n",
       "      <td>317000000</td>\n",
       "      <td>620181382</td>\n",
       "      <td>1316721747</td>\n",
       "      <td>999721747</td>\n",
       "      <td>315.37</td>\n",
       "      <td>12</td>\n",
       "      <td>2017</td>\n",
       "    </tr>\n",
       "  </tbody>\n",
       "</table>\n",
       "</div>"
      ],
      "text/plain": [
       "   id release_date                                        movie  \\\n",
       "0   1   2009-12-18                                       Avatar   \n",
       "1   2   2011-05-20  Pirates of the Caribbean: On Stranger Tides   \n",
       "2   3   2019-06-07                                 Dark Phoenix   \n",
       "3   4   2015-05-01                      Avengers: Age of Ultron   \n",
       "4   5   2017-12-15            Star Wars Ep. VIII: The Last Jedi   \n",
       "\n",
       "   production_budget  domestic_gross  worldwide_gross  difference     roi  \\\n",
       "0          425000000       760507625       2776345279  2351345279  553.26   \n",
       "1          410600000       241063875       1045663875   635063875  154.67   \n",
       "2          350000000        42762350        149762350  -200237650  -57.21   \n",
       "3          330600000       459005868       1403013963  1072413963  324.38   \n",
       "4          317000000       620181382       1316721747   999721747  315.37   \n",
       "\n",
       "   release_m  release_y  \n",
       "0         12       2009  \n",
       "1          5       2011  \n",
       "2          6       2019  \n",
       "3          5       2015  \n",
       "4         12       2017  "
      ]
     },
     "execution_count": 12,
     "metadata": {},
     "output_type": "execute_result"
    }
   ],
   "source": [
    "movie_budgets_df['release_date'] = pd.to_datetime(movie_budgets_df['release_date'])\n",
    "movie_budgets_df ['release_m'] = movie_budgets_df['release_date'].dt.month\n",
    "movie_budgets_df ['release_y'] = movie_budgets_df ['release_date'].dt.year\n",
    "movie_budgets_df.reset_index (drop=True, inplace= True)\n",
    "movie_budgets_df.head()"
   ]
  },
  {
   "cell_type": "code",
   "execution_count": 13,
   "metadata": {
    "ExecuteTime": {
     "end_time": "2020-12-03T16:49:02.828239Z",
     "start_time": "2020-12-03T16:49:02.823187Z"
    }
   },
   "outputs": [],
   "source": [
    "movie_budgets_df.sort_values(by= ['release_date'], ascending= False, inplace= True)\n",
    "movie_budgets_df.reset_index(drop= True, inplace= True)"
   ]
  },
  {
   "cell_type": "code",
   "execution_count": 14,
   "metadata": {
    "ExecuteTime": {
     "end_time": "2020-12-03T16:49:02.843729Z",
     "start_time": "2020-12-03T16:49:02.829770Z"
    }
   },
   "outputs": [
    {
     "data": {
      "text/html": [
       "<div>\n",
       "<style scoped>\n",
       "    .dataframe tbody tr th:only-of-type {\n",
       "        vertical-align: middle;\n",
       "    }\n",
       "\n",
       "    .dataframe tbody tr th {\n",
       "        vertical-align: top;\n",
       "    }\n",
       "\n",
       "    .dataframe thead th {\n",
       "        text-align: right;\n",
       "    }\n",
       "</style>\n",
       "<table border=\"1\" class=\"dataframe\">\n",
       "  <thead>\n",
       "    <tr style=\"text-align: right;\">\n",
       "      <th></th>\n",
       "      <th>id</th>\n",
       "      <th>release_date</th>\n",
       "      <th>movie</th>\n",
       "      <th>production_budget</th>\n",
       "      <th>domestic_gross</th>\n",
       "      <th>worldwide_gross</th>\n",
       "      <th>difference</th>\n",
       "      <th>roi</th>\n",
       "      <th>release_m</th>\n",
       "      <th>release_y</th>\n",
       "    </tr>\n",
       "  </thead>\n",
       "  <tbody>\n",
       "    <tr>\n",
       "      <th>20</th>\n",
       "      <td>42</td>\n",
       "      <td>2019-06-14</td>\n",
       "      <td>Men in Black: International</td>\n",
       "      <td>110000000</td>\n",
       "      <td>3100000</td>\n",
       "      <td>3100000</td>\n",
       "      <td>-106900000</td>\n",
       "      <td>-97.18</td>\n",
       "      <td>6</td>\n",
       "      <td>2019</td>\n",
       "    </tr>\n",
       "    <tr>\n",
       "      <th>21</th>\n",
       "      <td>98</td>\n",
       "      <td>2019-06-14</td>\n",
       "      <td>Shaft</td>\n",
       "      <td>30000000</td>\n",
       "      <td>600000</td>\n",
       "      <td>600000</td>\n",
       "      <td>-29400000</td>\n",
       "      <td>-98.00</td>\n",
       "      <td>6</td>\n",
       "      <td>2019</td>\n",
       "    </tr>\n",
       "    <tr>\n",
       "      <th>22</th>\n",
       "      <td>3</td>\n",
       "      <td>2019-06-07</td>\n",
       "      <td>Dark Phoenix</td>\n",
       "      <td>350000000</td>\n",
       "      <td>42762350</td>\n",
       "      <td>149762350</td>\n",
       "      <td>-200237650</td>\n",
       "      <td>-57.21</td>\n",
       "      <td>6</td>\n",
       "      <td>2019</td>\n",
       "    </tr>\n",
       "    <tr>\n",
       "      <th>23</th>\n",
       "      <td>35</td>\n",
       "      <td>2019-06-07</td>\n",
       "      <td>Late Night</td>\n",
       "      <td>4000000</td>\n",
       "      <td>246305</td>\n",
       "      <td>246305</td>\n",
       "      <td>-3753695</td>\n",
       "      <td>-93.84</td>\n",
       "      <td>6</td>\n",
       "      <td>2019</td>\n",
       "    </tr>\n",
       "    <tr>\n",
       "      <th>24</th>\n",
       "      <td>81</td>\n",
       "      <td>2019-06-07</td>\n",
       "      <td>The Secret Life of Pets 2</td>\n",
       "      <td>80000000</td>\n",
       "      <td>63795655</td>\n",
       "      <td>113351496</td>\n",
       "      <td>33351496</td>\n",
       "      <td>41.69</td>\n",
       "      <td>6</td>\n",
       "      <td>2019</td>\n",
       "    </tr>\n",
       "    <tr>\n",
       "      <th>...</th>\n",
       "      <td>...</td>\n",
       "      <td>...</td>\n",
       "      <td>...</td>\n",
       "      <td>...</td>\n",
       "      <td>...</td>\n",
       "      <td>...</td>\n",
       "      <td>...</td>\n",
       "      <td>...</td>\n",
       "      <td>...</td>\n",
       "      <td>...</td>\n",
       "    </tr>\n",
       "    <tr>\n",
       "      <th>215</th>\n",
       "      <td>16</td>\n",
       "      <td>2017-12-31</td>\n",
       "      <td>The Thousand Miles</td>\n",
       "      <td>20000000</td>\n",
       "      <td>0</td>\n",
       "      <td>0</td>\n",
       "      <td>-20000000</td>\n",
       "      <td>-100.00</td>\n",
       "      <td>12</td>\n",
       "      <td>2017</td>\n",
       "    </tr>\n",
       "    <tr>\n",
       "      <th>216</th>\n",
       "      <td>50</td>\n",
       "      <td>2017-12-31</td>\n",
       "      <td>Posledniy bogatyr</td>\n",
       "      <td>8500000</td>\n",
       "      <td>0</td>\n",
       "      <td>30700192</td>\n",
       "      <td>22200192</td>\n",
       "      <td>261.18</td>\n",
       "      <td>12</td>\n",
       "      <td>2017</td>\n",
       "    </tr>\n",
       "    <tr>\n",
       "      <th>217</th>\n",
       "      <td>23</td>\n",
       "      <td>2017-12-31</td>\n",
       "      <td>Matilda</td>\n",
       "      <td>25000000</td>\n",
       "      <td>0</td>\n",
       "      <td>9370285</td>\n",
       "      <td>-15629715</td>\n",
       "      <td>-62.52</td>\n",
       "      <td>12</td>\n",
       "      <td>2017</td>\n",
       "    </tr>\n",
       "    <tr>\n",
       "      <th>218</th>\n",
       "      <td>89</td>\n",
       "      <td>2017-12-31</td>\n",
       "      <td>The Islands</td>\n",
       "      <td>1200000</td>\n",
       "      <td>0</td>\n",
       "      <td>0</td>\n",
       "      <td>-1200000</td>\n",
       "      <td>-100.00</td>\n",
       "      <td>12</td>\n",
       "      <td>2017</td>\n",
       "    </tr>\n",
       "    <tr>\n",
       "      <th>219</th>\n",
       "      <td>36</td>\n",
       "      <td>2017-12-25</td>\n",
       "      <td>Mollyâs Game</td>\n",
       "      <td>30000000</td>\n",
       "      <td>28780744</td>\n",
       "      <td>53296424</td>\n",
       "      <td>23296424</td>\n",
       "      <td>77.65</td>\n",
       "      <td>12</td>\n",
       "      <td>2017</td>\n",
       "    </tr>\n",
       "  </tbody>\n",
       "</table>\n",
       "<p>200 rows × 10 columns</p>\n",
       "</div>"
      ],
      "text/plain": [
       "     id release_date                        movie  production_budget  \\\n",
       "20   42   2019-06-14  Men in Black: International          110000000   \n",
       "21   98   2019-06-14                        Shaft           30000000   \n",
       "22    3   2019-06-07                 Dark Phoenix          350000000   \n",
       "23   35   2019-06-07                   Late Night            4000000   \n",
       "24   81   2019-06-07    The Secret Life of Pets 2           80000000   \n",
       "..   ..          ...                          ...                ...   \n",
       "215  16   2017-12-31           The Thousand Miles           20000000   \n",
       "216  50   2017-12-31            Posledniy bogatyr            8500000   \n",
       "217  23   2017-12-31                      Matilda           25000000   \n",
       "218  89   2017-12-31                  The Islands            1200000   \n",
       "219  36   2017-12-25               Mollyâs Game           30000000   \n",
       "\n",
       "     domestic_gross  worldwide_gross  difference     roi  release_m  release_y  \n",
       "20          3100000          3100000  -106900000  -97.18          6       2019  \n",
       "21           600000           600000   -29400000  -98.00          6       2019  \n",
       "22         42762350        149762350  -200237650  -57.21          6       2019  \n",
       "23           246305           246305    -3753695  -93.84          6       2019  \n",
       "24         63795655        113351496    33351496   41.69          6       2019  \n",
       "..              ...              ...         ...     ...        ...        ...  \n",
       "215               0                0   -20000000 -100.00         12       2017  \n",
       "216               0         30700192    22200192  261.18         12       2017  \n",
       "217               0          9370285   -15629715  -62.52         12       2017  \n",
       "218               0                0    -1200000 -100.00         12       2017  \n",
       "219        28780744         53296424    23296424   77.65         12       2017  \n",
       "\n",
       "[200 rows x 10 columns]"
      ]
     },
     "execution_count": 14,
     "metadata": {},
     "output_type": "execute_result"
    }
   ],
   "source": [
    "movie_budgets_df[20:220]"
   ]
  },
  {
   "cell_type": "code",
   "execution_count": 15,
   "metadata": {
    "ExecuteTime": {
     "end_time": "2020-12-03T16:49:02.846991Z",
     "start_time": "2020-12-03T16:49:02.845276Z"
    }
   },
   "outputs": [],
   "source": [
    "# release_year = movie_budgets_df['release_date'].sort_values(ascending=False)\n",
    "# release_year.head()"
   ]
  },
  {
   "cell_type": "code",
   "execution_count": 16,
   "metadata": {
    "ExecuteTime": {
     "end_time": "2020-12-03T16:49:02.857009Z",
     "start_time": "2020-12-03T16:49:02.848544Z"
    }
   },
   "outputs": [
    {
     "data": {
      "text/html": [
       "<div>\n",
       "<style scoped>\n",
       "    .dataframe tbody tr th:only-of-type {\n",
       "        vertical-align: middle;\n",
       "    }\n",
       "\n",
       "    .dataframe tbody tr th {\n",
       "        vertical-align: top;\n",
       "    }\n",
       "\n",
       "    .dataframe thead th {\n",
       "        text-align: right;\n",
       "    }\n",
       "</style>\n",
       "<table border=\"1\" class=\"dataframe\">\n",
       "  <thead>\n",
       "    <tr style=\"text-align: right;\">\n",
       "      <th></th>\n",
       "      <th>id</th>\n",
       "      <th>release_date</th>\n",
       "      <th>movie</th>\n",
       "      <th>production_budget</th>\n",
       "      <th>domestic_gross</th>\n",
       "      <th>worldwide_gross</th>\n",
       "      <th>difference</th>\n",
       "      <th>roi</th>\n",
       "      <th>release_m</th>\n",
       "      <th>release_y</th>\n",
       "    </tr>\n",
       "  </thead>\n",
       "  <tbody>\n",
       "    <tr>\n",
       "      <th>0</th>\n",
       "      <td>95</td>\n",
       "      <td>2020-12-31</td>\n",
       "      <td>Moonfall</td>\n",
       "      <td>150000000</td>\n",
       "      <td>0</td>\n",
       "      <td>0</td>\n",
       "      <td>-150000000</td>\n",
       "      <td>-100.0</td>\n",
       "      <td>12</td>\n",
       "      <td>2020</td>\n",
       "    </tr>\n",
       "    <tr>\n",
       "      <th>1</th>\n",
       "      <td>6</td>\n",
       "      <td>2020-12-31</td>\n",
       "      <td>Hannibal the Conqueror</td>\n",
       "      <td>50000000</td>\n",
       "      <td>0</td>\n",
       "      <td>0</td>\n",
       "      <td>-50000000</td>\n",
       "      <td>-100.0</td>\n",
       "      <td>12</td>\n",
       "      <td>2020</td>\n",
       "    </tr>\n",
       "    <tr>\n",
       "      <th>2</th>\n",
       "      <td>36</td>\n",
       "      <td>2020-02-21</td>\n",
       "      <td>Call of the Wild</td>\n",
       "      <td>82000000</td>\n",
       "      <td>0</td>\n",
       "      <td>0</td>\n",
       "      <td>-82000000</td>\n",
       "      <td>-100.0</td>\n",
       "      <td>2</td>\n",
       "      <td>2020</td>\n",
       "    </tr>\n",
       "    <tr>\n",
       "      <th>3</th>\n",
       "      <td>81</td>\n",
       "      <td>2019-12-31</td>\n",
       "      <td>Army of the Dead</td>\n",
       "      <td>90000000</td>\n",
       "      <td>0</td>\n",
       "      <td>0</td>\n",
       "      <td>-90000000</td>\n",
       "      <td>-100.0</td>\n",
       "      <td>12</td>\n",
       "      <td>2019</td>\n",
       "    </tr>\n",
       "    <tr>\n",
       "      <th>4</th>\n",
       "      <td>16</td>\n",
       "      <td>2019-12-31</td>\n",
       "      <td>Eli</td>\n",
       "      <td>11000000</td>\n",
       "      <td>0</td>\n",
       "      <td>0</td>\n",
       "      <td>-11000000</td>\n",
       "      <td>-100.0</td>\n",
       "      <td>12</td>\n",
       "      <td>2019</td>\n",
       "    </tr>\n",
       "  </tbody>\n",
       "</table>\n",
       "</div>"
      ],
      "text/plain": [
       "   id release_date                   movie  production_budget  domestic_gross  \\\n",
       "0  95   2020-12-31                Moonfall          150000000               0   \n",
       "1   6   2020-12-31  Hannibal the Conqueror           50000000               0   \n",
       "2  36   2020-02-21        Call of the Wild           82000000               0   \n",
       "3  81   2019-12-31        Army of the Dead           90000000               0   \n",
       "4  16   2019-12-31                     Eli           11000000               0   \n",
       "\n",
       "   worldwide_gross  difference    roi  release_m  release_y  \n",
       "0                0  -150000000 -100.0         12       2020  \n",
       "1                0   -50000000 -100.0         12       2020  \n",
       "2                0   -82000000 -100.0          2       2020  \n",
       "3                0   -90000000 -100.0         12       2019  \n",
       "4                0   -11000000 -100.0         12       2019  "
      ]
     },
     "execution_count": 16,
     "metadata": {},
     "output_type": "execute_result"
    }
   ],
   "source": [
    "# movie_budgets_df.where (movie_budgets_df['worldwide_gross'] == 0)\n",
    "movie_budgets_df.head()"
   ]
  },
  {
   "cell_type": "code",
   "execution_count": 17,
   "metadata": {
    "ExecuteTime": {
     "end_time": "2020-12-03T16:49:02.864909Z",
     "start_time": "2020-12-03T16:49:02.859596Z"
    }
   },
   "outputs": [
    {
     "data": {
      "text/plain": [
       "5782"
      ]
     },
     "execution_count": 17,
     "metadata": {},
     "output_type": "execute_result"
    }
   ],
   "source": [
    "movie_budgets_df['worldwide_gross']= movie_budgets_df['worldwide_gross'].replace(0, np.nan)\n",
    "len (movie_budgets_df)"
   ]
  },
  {
   "cell_type": "code",
   "execution_count": 18,
   "metadata": {
    "ExecuteTime": {
     "end_time": "2020-12-03T16:49:02.873144Z",
     "start_time": "2020-12-03T16:49:02.866761Z"
    }
   },
   "outputs": [],
   "source": [
    "movie_budgets_df.dropna(inplace= True)"
   ]
  },
  {
   "cell_type": "code",
   "execution_count": 19,
   "metadata": {
    "ExecuteTime": {
     "end_time": "2020-12-03T16:49:02.878802Z",
     "start_time": "2020-12-03T16:49:02.874759Z"
    }
   },
   "outputs": [
    {
     "data": {
      "text/plain": [
       "5415"
      ]
     },
     "execution_count": 19,
     "metadata": {},
     "output_type": "execute_result"
    }
   ],
   "source": [
    "len (movie_budgets_df)"
   ]
  },
  {
   "cell_type": "code",
   "execution_count": 20,
   "metadata": {
    "ExecuteTime": {
     "end_time": "2020-12-03T16:49:02.894464Z",
     "start_time": "2020-12-03T16:49:02.880932Z"
    }
   },
   "outputs": [
    {
     "data": {
      "text/html": [
       "<div>\n",
       "<style scoped>\n",
       "    .dataframe tbody tr th:only-of-type {\n",
       "        vertical-align: middle;\n",
       "    }\n",
       "\n",
       "    .dataframe tbody tr th {\n",
       "        vertical-align: top;\n",
       "    }\n",
       "\n",
       "    .dataframe thead th {\n",
       "        text-align: right;\n",
       "    }\n",
       "</style>\n",
       "<table border=\"1\" class=\"dataframe\">\n",
       "  <thead>\n",
       "    <tr style=\"text-align: right;\">\n",
       "      <th></th>\n",
       "      <th>id</th>\n",
       "      <th>release_date</th>\n",
       "      <th>movie</th>\n",
       "      <th>production_budget</th>\n",
       "      <th>domestic_gross</th>\n",
       "      <th>worldwide_gross</th>\n",
       "      <th>difference</th>\n",
       "      <th>roi</th>\n",
       "      <th>release_m</th>\n",
       "      <th>release_y</th>\n",
       "    </tr>\n",
       "  </thead>\n",
       "  <tbody>\n",
       "    <tr>\n",
       "      <th>18</th>\n",
       "      <td>39</td>\n",
       "      <td>2019-06-21</td>\n",
       "      <td>Kursk</td>\n",
       "      <td>40000000</td>\n",
       "      <td>0</td>\n",
       "      <td>4212799.0</td>\n",
       "      <td>-35787201</td>\n",
       "      <td>-89.47</td>\n",
       "      <td>6</td>\n",
       "      <td>2019</td>\n",
       "    </tr>\n",
       "    <tr>\n",
       "      <th>20</th>\n",
       "      <td>42</td>\n",
       "      <td>2019-06-14</td>\n",
       "      <td>Men in Black: International</td>\n",
       "      <td>110000000</td>\n",
       "      <td>3100000</td>\n",
       "      <td>3100000.0</td>\n",
       "      <td>-106900000</td>\n",
       "      <td>-97.18</td>\n",
       "      <td>6</td>\n",
       "      <td>2019</td>\n",
       "    </tr>\n",
       "    <tr>\n",
       "      <th>21</th>\n",
       "      <td>98</td>\n",
       "      <td>2019-06-14</td>\n",
       "      <td>Shaft</td>\n",
       "      <td>30000000</td>\n",
       "      <td>600000</td>\n",
       "      <td>600000.0</td>\n",
       "      <td>-29400000</td>\n",
       "      <td>-98.00</td>\n",
       "      <td>6</td>\n",
       "      <td>2019</td>\n",
       "    </tr>\n",
       "    <tr>\n",
       "      <th>22</th>\n",
       "      <td>3</td>\n",
       "      <td>2019-06-07</td>\n",
       "      <td>Dark Phoenix</td>\n",
       "      <td>350000000</td>\n",
       "      <td>42762350</td>\n",
       "      <td>149762350.0</td>\n",
       "      <td>-200237650</td>\n",
       "      <td>-57.21</td>\n",
       "      <td>6</td>\n",
       "      <td>2019</td>\n",
       "    </tr>\n",
       "    <tr>\n",
       "      <th>23</th>\n",
       "      <td>35</td>\n",
       "      <td>2019-06-07</td>\n",
       "      <td>Late Night</td>\n",
       "      <td>4000000</td>\n",
       "      <td>246305</td>\n",
       "      <td>246305.0</td>\n",
       "      <td>-3753695</td>\n",
       "      <td>-93.84</td>\n",
       "      <td>6</td>\n",
       "      <td>2019</td>\n",
       "    </tr>\n",
       "  </tbody>\n",
       "</table>\n",
       "</div>"
      ],
      "text/plain": [
       "    id release_date                        movie  production_budget  \\\n",
       "18  39   2019-06-21                        Kursk           40000000   \n",
       "20  42   2019-06-14  Men in Black: International          110000000   \n",
       "21  98   2019-06-14                        Shaft           30000000   \n",
       "22   3   2019-06-07                 Dark Phoenix          350000000   \n",
       "23  35   2019-06-07                   Late Night            4000000   \n",
       "\n",
       "    domestic_gross  worldwide_gross  difference    roi  release_m  release_y  \n",
       "18               0        4212799.0   -35787201 -89.47          6       2019  \n",
       "20         3100000        3100000.0  -106900000 -97.18          6       2019  \n",
       "21          600000         600000.0   -29400000 -98.00          6       2019  \n",
       "22        42762350      149762350.0  -200237650 -57.21          6       2019  \n",
       "23          246305         246305.0    -3753695 -93.84          6       2019  "
      ]
     },
     "execution_count": 20,
     "metadata": {},
     "output_type": "execute_result"
    }
   ],
   "source": [
    "movie_budgets_df.head()"
   ]
  },
  {
   "cell_type": "code",
   "execution_count": 21,
   "metadata": {
    "ExecuteTime": {
     "end_time": "2020-12-03T16:49:02.905888Z",
     "start_time": "2020-12-03T16:49:02.896058Z"
    }
   },
   "outputs": [
    {
     "data": {
      "text/html": [
       "<div>\n",
       "<style scoped>\n",
       "    .dataframe tbody tr th:only-of-type {\n",
       "        vertical-align: middle;\n",
       "    }\n",
       "\n",
       "    .dataframe tbody tr th {\n",
       "        vertical-align: top;\n",
       "    }\n",
       "\n",
       "    .dataframe thead th {\n",
       "        text-align: right;\n",
       "    }\n",
       "</style>\n",
       "<table border=\"1\" class=\"dataframe\">\n",
       "  <thead>\n",
       "    <tr style=\"text-align: right;\">\n",
       "      <th></th>\n",
       "      <th>id</th>\n",
       "      <th>release_date</th>\n",
       "      <th>movie</th>\n",
       "      <th>production_budget</th>\n",
       "      <th>domestic_gross</th>\n",
       "      <th>worldwide_gross</th>\n",
       "      <th>difference</th>\n",
       "      <th>roi</th>\n",
       "      <th>release_m</th>\n",
       "      <th>release_y</th>\n",
       "    </tr>\n",
       "  </thead>\n",
       "  <tbody>\n",
       "    <tr>\n",
       "      <th>872</th>\n",
       "      <td>13</td>\n",
       "      <td>2015-03-13</td>\n",
       "      <td>Cinderella</td>\n",
       "      <td>95000000</td>\n",
       "      <td>201151353</td>\n",
       "      <td>534551353.0</td>\n",
       "      <td>439551353</td>\n",
       "      <td>462.69</td>\n",
       "      <td>3</td>\n",
       "      <td>2015</td>\n",
       "    </tr>\n",
       "    <tr>\n",
       "      <th>5733</th>\n",
       "      <td>76</td>\n",
       "      <td>1950-02-15</td>\n",
       "      <td>Cinderella</td>\n",
       "      <td>2900000</td>\n",
       "      <td>85000000</td>\n",
       "      <td>263591415.0</td>\n",
       "      <td>260691415</td>\n",
       "      <td>8989.36</td>\n",
       "      <td>2</td>\n",
       "      <td>1950</td>\n",
       "    </tr>\n",
       "  </tbody>\n",
       "</table>\n",
       "</div>"
      ],
      "text/plain": [
       "      id release_date       movie  production_budget  domestic_gross  \\\n",
       "872   13   2015-03-13  Cinderella           95000000       201151353   \n",
       "5733  76   1950-02-15  Cinderella            2900000        85000000   \n",
       "\n",
       "      worldwide_gross  difference      roi  release_m  release_y  \n",
       "872       534551353.0   439551353   462.69          3       2015  \n",
       "5733      263591415.0   260691415  8989.36          2       1950  "
      ]
     },
     "execution_count": 21,
     "metadata": {},
     "output_type": "execute_result"
    }
   ],
   "source": [
    "movie_budgets_df[movie_budgets_df.movie == 'Cinderella']"
   ]
  },
  {
   "cell_type": "code",
   "execution_count": 22,
   "metadata": {
    "ExecuteTime": {
     "end_time": "2020-12-03T16:49:02.912456Z",
     "start_time": "2020-12-03T16:49:02.907604Z"
    }
   },
   "outputs": [],
   "source": [
    "movie_budgets_df.sort_values(by= ['release_y'], ascending= False, inplace=True)\n",
    "movie_budgets_df.reset_index(drop=True, inplace=True)"
   ]
  },
  {
   "cell_type": "code",
   "execution_count": 23,
   "metadata": {
    "ExecuteTime": {
     "end_time": "2020-12-03T16:49:02.921659Z",
     "start_time": "2020-12-03T16:49:02.919437Z"
    }
   },
   "outputs": [],
   "source": [
    "recent_movie_budgets_df = movie_budgets_df[:2000]"
   ]
  },
  {
   "cell_type": "code",
   "execution_count": 24,
   "metadata": {
    "ExecuteTime": {
     "end_time": "2020-12-03T16:49:03.201684Z",
     "start_time": "2020-12-03T16:49:02.925516Z"
    }
   },
   "outputs": [
    {
     "data": {
      "text/plain": [
       "<AxesSubplot:xlabel='release_y', ylabel='roi'>"
      ]
     },
     "execution_count": 24,
     "metadata": {},
     "output_type": "execute_result"
    },
    {
     "data": {
      "image/png": "[encoded data removed]",
      "text/plain": [
       "<Figure size 748.8x514.8 with 1 Axes>"
      ]
     },
     "metadata": {
      "needs_background": "light"
     },
     "output_type": "display_data"
    }
   ],
   "source": [
    "sns.boxplot (x='release_y', y= 'roi', data=recent_movie_budgets_df)\n",
    "##what is that outlier?!"
   ]
  },
  {
   "cell_type": "code",
   "execution_count": 25,
   "metadata": {
    "ExecuteTime": {
     "end_time": "2020-12-03T16:49:03.215152Z",
     "start_time": "2020-12-03T16:49:03.203992Z"
    }
   },
   "outputs": [
    {
     "data": {
      "text/html": [
       "<div>\n",
       "<style scoped>\n",
       "    .dataframe tbody tr th:only-of-type {\n",
       "        vertical-align: middle;\n",
       "    }\n",
       "\n",
       "    .dataframe tbody tr th {\n",
       "        vertical-align: top;\n",
       "    }\n",
       "\n",
       "    .dataframe thead th {\n",
       "        text-align: right;\n",
       "    }\n",
       "</style>\n",
       "<table border=\"1\" class=\"dataframe\">\n",
       "  <thead>\n",
       "    <tr style=\"text-align: right;\">\n",
       "      <th></th>\n",
       "      <th>id</th>\n",
       "      <th>release_date</th>\n",
       "      <th>movie</th>\n",
       "      <th>production_budget</th>\n",
       "      <th>domestic_gross</th>\n",
       "      <th>worldwide_gross</th>\n",
       "      <th>difference</th>\n",
       "      <th>roi</th>\n",
       "      <th>release_m</th>\n",
       "      <th>release_y</th>\n",
       "    </tr>\n",
       "  </thead>\n",
       "  <tbody>\n",
       "    <tr>\n",
       "      <th>592</th>\n",
       "      <td>80</td>\n",
       "      <td>2015-07-10</td>\n",
       "      <td>The Gallows</td>\n",
       "      <td>100000</td>\n",
       "      <td>22764410</td>\n",
       "      <td>41656474.0</td>\n",
       "      <td>41556474</td>\n",
       "      <td>41556.47</td>\n",
       "      <td>7</td>\n",
       "      <td>2015</td>\n",
       "    </tr>\n",
       "  </tbody>\n",
       "</table>\n",
       "</div>"
      ],
      "text/plain": [
       "     id release_date        movie  production_budget  domestic_gross  \\\n",
       "592  80   2015-07-10  The Gallows             100000        22764410   \n",
       "\n",
       "     worldwide_gross  difference       roi  release_m  release_y  \n",
       "592       41656474.0    41556474  41556.47          7       2015  "
      ]
     },
     "execution_count": 25,
     "metadata": {},
     "output_type": "execute_result"
    }
   ],
   "source": [
    "recent_movie_budgets_df[recent_movie_budgets_df.roi > 30000]"
   ]
  },
  {
   "cell_type": "markdown",
   "metadata": {},
   "source": [
    "The Gallows \n",
    "A quick Google search reveals that, yep! The data is accurate and the graph reflects it. \n",
    "\n",
    "But it doesn't make for a pretty graph. Let's eliminate it so we can see everything else."
   ]
  },
  {
   "cell_type": "code",
   "execution_count": 26,
   "metadata": {
    "ExecuteTime": {
     "end_time": "2020-12-03T16:49:03.219115Z",
     "start_time": "2020-12-03T16:49:03.216936Z"
    }
   },
   "outputs": [],
   "source": [
    "# recent_movie_budgets_df.drop([638], inplace= True)"
   ]
  },
  {
   "cell_type": "code",
   "execution_count": 27,
   "metadata": {
    "ExecuteTime": {
     "end_time": "2020-12-03T16:49:03.540449Z",
     "start_time": "2020-12-03T16:49:03.220565Z"
    }
   },
   "outputs": [
    {
     "data": {
      "text/plain": [
       "<AxesSubplot:xlabel='release_y', ylabel='roi'>"
      ]
     },
     "execution_count": 27,
     "metadata": {},
     "output_type": "execute_result"
    },
    {
     "data": {
      "image/png": "[encoded data removed]",
      "text/plain": [
       "<Figure size 748.8x514.8 with 1 Axes>"
      ]
     },
     "metadata": {
      "needs_background": "light"
     },
     "output_type": "display_data"
    }
   ],
   "source": [
    "sns.violinplot (x='release_y', y= 'roi', data=recent_movie_budgets_df)"
   ]
  },
  {
   "cell_type": "code",
   "execution_count": 51,
   "metadata": {
    "ExecuteTime": {
     "end_time": "2020-12-03T17:09:18.063146Z",
     "start_time": "2020-12-03T17:09:17.890900Z"
    }
   },
   "outputs": [
    {
     "data": {
      "text/plain": [
       "[Text(0.5, 0, 'Released Month'), Text(0, 0.5, 'Counts')]"
      ]
     },
     "execution_count": 51,
     "metadata": {},
     "output_type": "execute_result"
    },
    {
     "data": {
      "image/png": "[encoded data removed]",
      "text/plain": [
       "<Figure size 576x432 with 1 Axes>"
      ]
     },
     "metadata": {},
     "output_type": "display_data"
    }
   ],
   "source": [
    "plt.figure(figsize= (8,6))\n",
    "released_month_img = sns.countplot(x='release_m', data= movie_budgets_df)\n",
    "released_month_img.set(xlabel='Released Month', ylabel= 'Counts')"
   ]
  },
  {
   "cell_type": "markdown",
   "metadata": {},
   "source": [
    "Let's merge the cleaned up ROI with the original DataFrame that has the genres in it."
   ]
  },
  {
   "cell_type": "code",
   "execution_count": 29,
   "metadata": {
    "ExecuteTime": {
     "end_time": "2020-12-03T16:49:03.769644Z",
     "start_time": "2020-12-03T16:49:03.722417Z"
    }
   },
   "outputs": [],
   "source": [
    "genres_and_roi_df = pd.merge(recent_movie_budgets_df, title_basics_df, how= 'inner', left_on= 'movie', right_on= 'primary_title'  )\n"
   ]
  },
  {
   "cell_type": "code",
   "execution_count": 30,
   "metadata": {
    "ExecuteTime": {
     "end_time": "2020-12-03T16:49:03.780381Z",
     "start_time": "2020-12-03T16:49:03.771055Z"
    }
   },
   "outputs": [
    {
     "data": {
      "text/plain": [
       "id                     0\n",
       "release_date           0\n",
       "movie                  0\n",
       "production_budget      0\n",
       "domestic_gross         0\n",
       "worldwide_gross        0\n",
       "difference             0\n",
       "roi                    0\n",
       "release_m              0\n",
       "release_y              0\n",
       "tconst                 0\n",
       "primary_title          0\n",
       "original_title         0\n",
       "start_year             0\n",
       "runtime_minutes      175\n",
       "genres                30\n",
       "dtype: int64"
      ]
     },
     "execution_count": 30,
     "metadata": {},
     "output_type": "execute_result"
    }
   ],
   "source": [
    "# genres_and_roi_df.head()\n",
    "genres_and_roi_df.isna().sum()"
   ]
  },
  {
   "cell_type": "code",
   "execution_count": 31,
   "metadata": {
    "ExecuteTime": {
     "end_time": "2020-12-03T16:49:03.790710Z",
     "start_time": "2020-12-03T16:49:03.782317Z"
    }
   },
   "outputs": [],
   "source": [
    "#Drop columns with NaN values before dropping NaN to reduce loss of data for genres\n",
    "genres_and_roi_df.drop(columns= ['original_title', 'runtime_minutes', 'tconst', 'start_year'], inplace= True)"
   ]
  },
  {
   "cell_type": "code",
   "execution_count": 32,
   "metadata": {
    "ExecuteTime": {
     "end_time": "2020-12-03T16:49:03.801817Z",
     "start_time": "2020-12-03T16:49:03.793312Z"
    }
   },
   "outputs": [],
   "source": [
    "genres_and_roi_df.dropna(axis=0, inplace= True)"
   ]
  },
  {
   "cell_type": "code",
   "execution_count": 33,
   "metadata": {
    "ExecuteTime": {
     "end_time": "2020-12-03T16:49:03.816013Z",
     "start_time": "2020-12-03T16:49:03.805344Z"
    }
   },
   "outputs": [
    {
     "name": "stdout",
     "output_type": "stream",
     "text": [
      "2288\n"
     ]
    },
    {
     "data": {
      "text/plain": [
       "id                   0\n",
       "release_date         0\n",
       "movie                0\n",
       "production_budget    0\n",
       "domestic_gross       0\n",
       "worldwide_gross      0\n",
       "difference           0\n",
       "roi                  0\n",
       "release_m            0\n",
       "release_y            0\n",
       "primary_title        0\n",
       "genres               0\n",
       "dtype: int64"
      ]
     },
     "execution_count": 33,
     "metadata": {},
     "output_type": "execute_result"
    }
   ],
   "source": [
    "print (len (genres_and_roi_df))\n",
    "genres_and_roi_df.isna().sum()"
   ]
  },
  {
   "cell_type": "code",
   "execution_count": 34,
   "metadata": {
    "ExecuteTime": {
     "end_time": "2020-12-03T16:49:03.857168Z",
     "start_time": "2020-12-03T16:49:03.821555Z"
    }
   },
   "outputs": [
    {
     "data": {
      "text/html": [
       "<div>\n",
       "<style scoped>\n",
       "    .dataframe tbody tr th:only-of-type {\n",
       "        vertical-align: middle;\n",
       "    }\n",
       "\n",
       "    .dataframe tbody tr th {\n",
       "        vertical-align: top;\n",
       "    }\n",
       "\n",
       "    .dataframe thead th {\n",
       "        text-align: right;\n",
       "    }\n",
       "</style>\n",
       "<table border=\"1\" class=\"dataframe\">\n",
       "  <thead>\n",
       "    <tr style=\"text-align: right;\">\n",
       "      <th></th>\n",
       "      <th>id</th>\n",
       "      <th>release_date</th>\n",
       "      <th>movie</th>\n",
       "      <th>production_budget</th>\n",
       "      <th>domestic_gross</th>\n",
       "      <th>worldwide_gross</th>\n",
       "      <th>difference</th>\n",
       "      <th>roi</th>\n",
       "      <th>release_m</th>\n",
       "      <th>release_y</th>\n",
       "      <th>primary_title</th>\n",
       "      <th>genres</th>\n",
       "    </tr>\n",
       "  </thead>\n",
       "  <tbody>\n",
       "    <tr>\n",
       "      <th>11</th>\n",
       "      <td>88</td>\n",
       "      <td>2019-03-22</td>\n",
       "      <td>Us</td>\n",
       "      <td>20000000</td>\n",
       "      <td>175006930</td>\n",
       "      <td>254210310.0</td>\n",
       "      <td>234210310</td>\n",
       "      <td>1171.05</td>\n",
       "      <td>3</td>\n",
       "      <td>2019</td>\n",
       "      <td>Us</td>\n",
       "      <td>Comedy</td>\n",
       "    </tr>\n",
       "    <tr>\n",
       "      <th>12</th>\n",
       "      <td>88</td>\n",
       "      <td>2019-03-22</td>\n",
       "      <td>Us</td>\n",
       "      <td>20000000</td>\n",
       "      <td>175006930</td>\n",
       "      <td>254210310.0</td>\n",
       "      <td>234210310</td>\n",
       "      <td>1171.05</td>\n",
       "      <td>3</td>\n",
       "      <td>2019</td>\n",
       "      <td>Us</td>\n",
       "      <td>Horror,Mystery,Thriller</td>\n",
       "    </tr>\n",
       "    <tr>\n",
       "      <th>15</th>\n",
       "      <td>81</td>\n",
       "      <td>2019-02-01</td>\n",
       "      <td>Miss Bala</td>\n",
       "      <td>15000000</td>\n",
       "      <td>14998027</td>\n",
       "      <td>15362298.0</td>\n",
       "      <td>362298</td>\n",
       "      <td>2.42</td>\n",
       "      <td>2</td>\n",
       "      <td>2019</td>\n",
       "      <td>Miss Bala</td>\n",
       "      <td>Action,Crime,Drama</td>\n",
       "    </tr>\n",
       "    <tr>\n",
       "      <th>17</th>\n",
       "      <td>93</td>\n",
       "      <td>2019-01-25</td>\n",
       "      <td>Serenity</td>\n",
       "      <td>25000000</td>\n",
       "      <td>8547045</td>\n",
       "      <td>11367029.0</td>\n",
       "      <td>-13632971</td>\n",
       "      <td>-54.53</td>\n",
       "      <td>1</td>\n",
       "      <td>2019</td>\n",
       "      <td>Serenity</td>\n",
       "      <td>Drama,Mystery,Sci-Fi</td>\n",
       "    </tr>\n",
       "    <tr>\n",
       "      <th>20</th>\n",
       "      <td>100</td>\n",
       "      <td>2019-01-18</td>\n",
       "      <td>Glass</td>\n",
       "      <td>20000000</td>\n",
       "      <td>111035005</td>\n",
       "      <td>245303505.0</td>\n",
       "      <td>225303505</td>\n",
       "      <td>1126.52</td>\n",
       "      <td>1</td>\n",
       "      <td>2019</td>\n",
       "      <td>Glass</td>\n",
       "      <td>Crime,Horror,Mystery</td>\n",
       "    </tr>\n",
       "    <tr>\n",
       "      <th>...</th>\n",
       "      <td>...</td>\n",
       "      <td>...</td>\n",
       "      <td>...</td>\n",
       "      <td>...</td>\n",
       "      <td>...</td>\n",
       "      <td>...</td>\n",
       "      <td>...</td>\n",
       "      <td>...</td>\n",
       "      <td>...</td>\n",
       "      <td>...</td>\n",
       "      <td>...</td>\n",
       "      <td>...</td>\n",
       "    </tr>\n",
       "    <tr>\n",
       "      <th>2307</th>\n",
       "      <td>59</td>\n",
       "      <td>2009-07-29</td>\n",
       "      <td>Adam</td>\n",
       "      <td>3200000</td>\n",
       "      <td>2283291</td>\n",
       "      <td>2834485.0</td>\n",
       "      <td>-365515</td>\n",
       "      <td>-11.42</td>\n",
       "      <td>7</td>\n",
       "      <td>2009</td>\n",
       "      <td>Adam</td>\n",
       "      <td>Horror,Thriller</td>\n",
       "    </tr>\n",
       "    <tr>\n",
       "      <th>2308</th>\n",
       "      <td>59</td>\n",
       "      <td>2009-07-29</td>\n",
       "      <td>Adam</td>\n",
       "      <td>3200000</td>\n",
       "      <td>2283291</td>\n",
       "      <td>2834485.0</td>\n",
       "      <td>-365515</td>\n",
       "      <td>-11.42</td>\n",
       "      <td>7</td>\n",
       "      <td>2009</td>\n",
       "      <td>Adam</td>\n",
       "      <td>Comedy</td>\n",
       "    </tr>\n",
       "    <tr>\n",
       "      <th>2309</th>\n",
       "      <td>59</td>\n",
       "      <td>2009-07-29</td>\n",
       "      <td>Adam</td>\n",
       "      <td>3200000</td>\n",
       "      <td>2283291</td>\n",
       "      <td>2834485.0</td>\n",
       "      <td>-365515</td>\n",
       "      <td>-11.42</td>\n",
       "      <td>7</td>\n",
       "      <td>2009</td>\n",
       "      <td>Adam</td>\n",
       "      <td>Drama</td>\n",
       "    </tr>\n",
       "    <tr>\n",
       "      <th>2310</th>\n",
       "      <td>59</td>\n",
       "      <td>2009-07-29</td>\n",
       "      <td>Adam</td>\n",
       "      <td>3200000</td>\n",
       "      <td>2283291</td>\n",
       "      <td>2834485.0</td>\n",
       "      <td>-365515</td>\n",
       "      <td>-11.42</td>\n",
       "      <td>7</td>\n",
       "      <td>2009</td>\n",
       "      <td>Adam</td>\n",
       "      <td>Action</td>\n",
       "    </tr>\n",
       "    <tr>\n",
       "      <th>2314</th>\n",
       "      <td>70</td>\n",
       "      <td>2009-02-06</td>\n",
       "      <td>Push</td>\n",
       "      <td>38000000</td>\n",
       "      <td>31811527</td>\n",
       "      <td>49678401.0</td>\n",
       "      <td>11678401</td>\n",
       "      <td>30.73</td>\n",
       "      <td>2</td>\n",
       "      <td>2009</td>\n",
       "      <td>Push</td>\n",
       "      <td>Documentary</td>\n",
       "    </tr>\n",
       "  </tbody>\n",
       "</table>\n",
       "<p>684 rows × 12 columns</p>\n",
       "</div>"
      ],
      "text/plain": [
       "       id release_date      movie  production_budget  domestic_gross  \\\n",
       "11     88   2019-03-22         Us           20000000       175006930   \n",
       "12     88   2019-03-22         Us           20000000       175006930   \n",
       "15     81   2019-02-01  Miss Bala           15000000        14998027   \n",
       "17     93   2019-01-25   Serenity           25000000         8547045   \n",
       "20    100   2019-01-18      Glass           20000000       111035005   \n",
       "...   ...          ...        ...                ...             ...   \n",
       "2307   59   2009-07-29       Adam            3200000         2283291   \n",
       "2308   59   2009-07-29       Adam            3200000         2283291   \n",
       "2309   59   2009-07-29       Adam            3200000         2283291   \n",
       "2310   59   2009-07-29       Adam            3200000         2283291   \n",
       "2314   70   2009-02-06       Push           38000000        31811527   \n",
       "\n",
       "      worldwide_gross  difference      roi  release_m  release_y  \\\n",
       "11        254210310.0   234210310  1171.05          3       2019   \n",
       "12        254210310.0   234210310  1171.05          3       2019   \n",
       "15         15362298.0      362298     2.42          2       2019   \n",
       "17         11367029.0   -13632971   -54.53          1       2019   \n",
       "20        245303505.0   225303505  1126.52          1       2019   \n",
       "...               ...         ...      ...        ...        ...   \n",
       "2307        2834485.0     -365515   -11.42          7       2009   \n",
       "2308        2834485.0     -365515   -11.42          7       2009   \n",
       "2309        2834485.0     -365515   -11.42          7       2009   \n",
       "2310        2834485.0     -365515   -11.42          7       2009   \n",
       "2314       49678401.0    11678401    30.73          2       2009   \n",
       "\n",
       "     primary_title                   genres  \n",
       "11              Us                   Comedy  \n",
       "12              Us  Horror,Mystery,Thriller  \n",
       "15       Miss Bala       Action,Crime,Drama  \n",
       "17        Serenity     Drama,Mystery,Sci-Fi  \n",
       "20           Glass     Crime,Horror,Mystery  \n",
       "...            ...                      ...  \n",
       "2307          Adam          Horror,Thriller  \n",
       "2308          Adam                   Comedy  \n",
       "2309          Adam                    Drama  \n",
       "2310          Adam                   Action  \n",
       "2314          Push              Documentary  \n",
       "\n",
       "[684 rows x 12 columns]"
      ]
     },
     "execution_count": 34,
     "metadata": {},
     "output_type": "execute_result"
    }
   ],
   "source": [
    "#Better check for duplicates!\n",
    "dupd_df = genres_and_roi_df[genres_and_roi_df.duplicated(subset= 'movie')]\n",
    "dupd_df"
   ]
  },
  {
   "cell_type": "code",
   "execution_count": 35,
   "metadata": {
    "ExecuteTime": {
     "end_time": "2020-12-03T16:49:03.876362Z",
     "start_time": "2020-12-03T16:49:03.859478Z"
    }
   },
   "outputs": [
    {
     "data": {
      "text/html": [
       "<div>\n",
       "<style scoped>\n",
       "    .dataframe tbody tr th:only-of-type {\n",
       "        vertical-align: middle;\n",
       "    }\n",
       "\n",
       "    .dataframe tbody tr th {\n",
       "        vertical-align: top;\n",
       "    }\n",
       "\n",
       "    .dataframe thead th {\n",
       "        text-align: right;\n",
       "    }\n",
       "</style>\n",
       "<table border=\"1\" class=\"dataframe\">\n",
       "  <thead>\n",
       "    <tr style=\"text-align: right;\">\n",
       "      <th></th>\n",
       "      <th>id</th>\n",
       "      <th>release_date</th>\n",
       "      <th>movie</th>\n",
       "      <th>production_budget</th>\n",
       "      <th>domestic_gross</th>\n",
       "      <th>worldwide_gross</th>\n",
       "      <th>difference</th>\n",
       "      <th>roi</th>\n",
       "      <th>release_m</th>\n",
       "      <th>release_y</th>\n",
       "      <th>primary_title</th>\n",
       "      <th>genres</th>\n",
       "    </tr>\n",
       "  </thead>\n",
       "  <tbody>\n",
       "    <tr>\n",
       "      <th>10</th>\n",
       "      <td>88</td>\n",
       "      <td>2019-03-22</td>\n",
       "      <td>Us</td>\n",
       "      <td>20000000</td>\n",
       "      <td>175006930</td>\n",
       "      <td>254210310.0</td>\n",
       "      <td>234210310</td>\n",
       "      <td>1171.05</td>\n",
       "      <td>3</td>\n",
       "      <td>2019</td>\n",
       "      <td>Us</td>\n",
       "      <td>Drama</td>\n",
       "    </tr>\n",
       "    <tr>\n",
       "      <th>11</th>\n",
       "      <td>88</td>\n",
       "      <td>2019-03-22</td>\n",
       "      <td>Us</td>\n",
       "      <td>20000000</td>\n",
       "      <td>175006930</td>\n",
       "      <td>254210310.0</td>\n",
       "      <td>234210310</td>\n",
       "      <td>1171.05</td>\n",
       "      <td>3</td>\n",
       "      <td>2019</td>\n",
       "      <td>Us</td>\n",
       "      <td>Comedy</td>\n",
       "    </tr>\n",
       "    <tr>\n",
       "      <th>12</th>\n",
       "      <td>88</td>\n",
       "      <td>2019-03-22</td>\n",
       "      <td>Us</td>\n",
       "      <td>20000000</td>\n",
       "      <td>175006930</td>\n",
       "      <td>254210310.0</td>\n",
       "      <td>234210310</td>\n",
       "      <td>1171.05</td>\n",
       "      <td>3</td>\n",
       "      <td>2019</td>\n",
       "      <td>Us</td>\n",
       "      <td>Horror,Mystery,Thriller</td>\n",
       "    </tr>\n",
       "  </tbody>\n",
       "</table>\n",
       "</div>"
      ],
      "text/plain": [
       "    id release_date movie  production_budget  domestic_gross  worldwide_gross  \\\n",
       "10  88   2019-03-22    Us           20000000       175006930      254210310.0   \n",
       "11  88   2019-03-22    Us           20000000       175006930      254210310.0   \n",
       "12  88   2019-03-22    Us           20000000       175006930      254210310.0   \n",
       "\n",
       "    difference      roi  release_m  release_y primary_title  \\\n",
       "10   234210310  1171.05          3       2019            Us   \n",
       "11   234210310  1171.05          3       2019            Us   \n",
       "12   234210310  1171.05          3       2019            Us   \n",
       "\n",
       "                     genres  \n",
       "10                    Drama  \n",
       "11                   Comedy  \n",
       "12  Horror,Mystery,Thriller  "
      ]
     },
     "execution_count": 35,
     "metadata": {},
     "output_type": "execute_result"
    }
   ],
   "source": [
    "# Whoa! 684 rows! Let's investigate some.\n",
    "genres_and_roi_df[genres_and_roi_df.movie == 'Us']\n",
    "# After checking a few different ones, it looks like all duplicates are exactly that.\n",
    "# Get 'em outta here!"
   ]
  },
  {
   "cell_type": "code",
   "execution_count": 36,
   "metadata": {
    "ExecuteTime": {
     "end_time": "2020-12-03T16:49:03.886862Z",
     "start_time": "2020-12-03T16:49:03.879141Z"
    }
   },
   "outputs": [],
   "source": [
    "genres_and_roi_df.drop_duplicates(subset='movie', inplace= True)\n",
    "genres_and_roi_df.reset_index(drop=True, inplace=True)\n",
    "# genres_and_roi_df.head(10)"
   ]
  },
  {
   "cell_type": "markdown",
   "metadata": {},
   "source": [
    "YAY! Now we can work on those genres."
   ]
  },
  {
   "cell_type": "code",
   "execution_count": 37,
   "metadata": {
    "ExecuteTime": {
     "end_time": "2020-12-03T16:49:03.915391Z",
     "start_time": "2020-12-03T16:49:03.892199Z"
    }
   },
   "outputs": [
    {
     "data": {
      "text/html": [
       "<div>\n",
       "<style scoped>\n",
       "    .dataframe tbody tr th:only-of-type {\n",
       "        vertical-align: middle;\n",
       "    }\n",
       "\n",
       "    .dataframe tbody tr th {\n",
       "        vertical-align: top;\n",
       "    }\n",
       "\n",
       "    .dataframe thead th {\n",
       "        text-align: right;\n",
       "    }\n",
       "</style>\n",
       "<table border=\"1\" class=\"dataframe\">\n",
       "  <thead>\n",
       "    <tr style=\"text-align: right;\">\n",
       "      <th></th>\n",
       "      <th>id</th>\n",
       "      <th>release_date</th>\n",
       "      <th>movie</th>\n",
       "      <th>production_budget</th>\n",
       "      <th>domestic_gross</th>\n",
       "      <th>worldwide_gross</th>\n",
       "      <th>difference</th>\n",
       "      <th>roi</th>\n",
       "      <th>release_m</th>\n",
       "      <th>release_y</th>\n",
       "      <th>primary_title</th>\n",
       "      <th>genres</th>\n",
       "      <th>genres_split</th>\n",
       "    </tr>\n",
       "  </thead>\n",
       "  <tbody>\n",
       "    <tr>\n",
       "      <th>0</th>\n",
       "      <td>39</td>\n",
       "      <td>2019-06-21</td>\n",
       "      <td>Kursk</td>\n",
       "      <td>40000000</td>\n",
       "      <td>0</td>\n",
       "      <td>4.212799e+06</td>\n",
       "      <td>-35787201</td>\n",
       "      <td>-89.47</td>\n",
       "      <td>6</td>\n",
       "      <td>2019</td>\n",
       "      <td>Kursk</td>\n",
       "      <td>Drama</td>\n",
       "      <td>[Drama]</td>\n",
       "    </tr>\n",
       "    <tr>\n",
       "      <th>1</th>\n",
       "      <td>23</td>\n",
       "      <td>2019-02-08</td>\n",
       "      <td>Cold Pursuit</td>\n",
       "      <td>60000000</td>\n",
       "      <td>32138862</td>\n",
       "      <td>6.259916e+07</td>\n",
       "      <td>2599159</td>\n",
       "      <td>4.33</td>\n",
       "      <td>2</td>\n",
       "      <td>2019</td>\n",
       "      <td>Cold Pursuit</td>\n",
       "      <td>Action,Crime,Drama</td>\n",
       "      <td>[Action, Crime, Drama]</td>\n",
       "    </tr>\n",
       "    <tr>\n",
       "      <th>2</th>\n",
       "      <td>97</td>\n",
       "      <td>2019-03-15</td>\n",
       "      <td>Captive State</td>\n",
       "      <td>25000000</td>\n",
       "      <td>5958315</td>\n",
       "      <td>8.993300e+06</td>\n",
       "      <td>-16006700</td>\n",
       "      <td>-64.03</td>\n",
       "      <td>3</td>\n",
       "      <td>2019</td>\n",
       "      <td>Captive State</td>\n",
       "      <td>Sci-Fi,Thriller</td>\n",
       "      <td>[Sci-Fi, Thriller]</td>\n",
       "    </tr>\n",
       "    <tr>\n",
       "      <th>3</th>\n",
       "      <td>91</td>\n",
       "      <td>2019-03-15</td>\n",
       "      <td>Five Feet Apart</td>\n",
       "      <td>7000000</td>\n",
       "      <td>45729221</td>\n",
       "      <td>8.050442e+07</td>\n",
       "      <td>73504421</td>\n",
       "      <td>1050.06</td>\n",
       "      <td>3</td>\n",
       "      <td>2019</td>\n",
       "      <td>Five Feet Apart</td>\n",
       "      <td>Drama,Romance</td>\n",
       "      <td>[Drama, Romance]</td>\n",
       "    </tr>\n",
       "    <tr>\n",
       "      <th>4</th>\n",
       "      <td>96</td>\n",
       "      <td>2019-03-08</td>\n",
       "      <td>Captain Marvel</td>\n",
       "      <td>175000000</td>\n",
       "      <td>426525952</td>\n",
       "      <td>1.123062e+09</td>\n",
       "      <td>948061550</td>\n",
       "      <td>541.75</td>\n",
       "      <td>3</td>\n",
       "      <td>2019</td>\n",
       "      <td>Captain Marvel</td>\n",
       "      <td>Action,Adventure,Sci-Fi</td>\n",
       "      <td>[Action, Adventure, Sci-Fi]</td>\n",
       "    </tr>\n",
       "  </tbody>\n",
       "</table>\n",
       "</div>"
      ],
      "text/plain": [
       "   id release_date            movie  production_budget  domestic_gross  \\\n",
       "0  39   2019-06-21            Kursk           40000000               0   \n",
       "1  23   2019-02-08     Cold Pursuit           60000000        32138862   \n",
       "2  97   2019-03-15    Captive State           25000000         5958315   \n",
       "3  91   2019-03-15  Five Feet Apart            7000000        45729221   \n",
       "4  96   2019-03-08   Captain Marvel          175000000       426525952   \n",
       "\n",
       "   worldwide_gross  difference      roi  release_m  release_y  \\\n",
       "0     4.212799e+06   -35787201   -89.47          6       2019   \n",
       "1     6.259916e+07     2599159     4.33          2       2019   \n",
       "2     8.993300e+06   -16006700   -64.03          3       2019   \n",
       "3     8.050442e+07    73504421  1050.06          3       2019   \n",
       "4     1.123062e+09   948061550   541.75          3       2019   \n",
       "\n",
       "     primary_title                   genres                 genres_split  \n",
       "0            Kursk                    Drama                      [Drama]  \n",
       "1     Cold Pursuit       Action,Crime,Drama       [Action, Crime, Drama]  \n",
       "2    Captive State          Sci-Fi,Thriller           [Sci-Fi, Thriller]  \n",
       "3  Five Feet Apart            Drama,Romance             [Drama, Romance]  \n",
       "4   Captain Marvel  Action,Adventure,Sci-Fi  [Action, Adventure, Sci-Fi]  "
      ]
     },
     "execution_count": 37,
     "metadata": {},
     "output_type": "execute_result"
    }
   ],
   "source": [
    "genres_and_roi_df['genres_split'] = genres_and_roi_df['genres'].map (lambda x: x.split(',') if x else x) \n",
    "genres_and_roi_df.head()"
   ]
  },
  {
   "cell_type": "code",
   "execution_count": 38,
   "metadata": {
    "ExecuteTime": {
     "end_time": "2020-12-03T16:49:03.919795Z",
     "start_time": "2020-12-03T16:49:03.917025Z"
    }
   },
   "outputs": [],
   "source": [
    "all_genres = set ()\n",
    "for genre in genres_and_roi_df['genres_split']:\n",
    "    if genre:\n",
    "        all_genres.update(genre)"
   ]
  },
  {
   "cell_type": "code",
   "execution_count": 39,
   "metadata": {
    "ExecuteTime": {
     "end_time": "2020-12-03T16:49:03.923328Z",
     "start_time": "2020-12-03T16:49:03.921324Z"
    }
   },
   "outputs": [],
   "source": [
    "# y = 'N/A'\n",
    "# genres_and_roi_df['one_genre'] = genres_and_roi_df['genres_split'].map (lambda x: x[0])\n",
    "# genres_and_roi_df['two_genre'] = genres_and_roi_df['genres_split'].map (lambda x: y if len(x) < 2 else x[1])\n",
    "# genres_and_roi_df['three_genre'] = genres_and_roi_df['genres_split'].map (lambda x: y if len (x) < 3 else x[2])"
   ]
  },
  {
   "cell_type": "code",
   "execution_count": 40,
   "metadata": {
    "ExecuteTime": {
     "end_time": "2020-12-03T16:49:03.932660Z",
     "start_time": "2020-12-03T16:49:03.925204Z"
    }
   },
   "outputs": [],
   "source": [
    "y = np.nan\n",
    "genres_and_roi_df['one_genre'] = genres_and_roi_df['genres_split'].map (lambda x: x[0])\n",
    "genres_and_roi_df['two_genre'] = genres_and_roi_df['genres_split'].map (lambda x: y if len(x) < 2 else x[1])\n",
    "genres_and_roi_df['three_genre'] = genres_and_roi_df['genres_split'].map (lambda x: y if len (x) < 3 else x[2])"
   ]
  },
  {
   "cell_type": "code",
   "execution_count": 41,
   "metadata": {
    "ExecuteTime": {
     "end_time": "2020-12-03T16:49:03.958518Z",
     "start_time": "2020-12-03T16:49:03.934618Z"
    }
   },
   "outputs": [
    {
     "data": {
      "text/html": [
       "<div>\n",
       "<style scoped>\n",
       "    .dataframe tbody tr th:only-of-type {\n",
       "        vertical-align: middle;\n",
       "    }\n",
       "\n",
       "    .dataframe tbody tr th {\n",
       "        vertical-align: top;\n",
       "    }\n",
       "\n",
       "    .dataframe thead th {\n",
       "        text-align: right;\n",
       "    }\n",
       "</style>\n",
       "<table border=\"1\" class=\"dataframe\">\n",
       "  <thead>\n",
       "    <tr style=\"text-align: right;\">\n",
       "      <th></th>\n",
       "      <th>id</th>\n",
       "      <th>release_date</th>\n",
       "      <th>movie</th>\n",
       "      <th>production_budget</th>\n",
       "      <th>domestic_gross</th>\n",
       "      <th>worldwide_gross</th>\n",
       "      <th>difference</th>\n",
       "      <th>roi</th>\n",
       "      <th>release_m</th>\n",
       "      <th>release_y</th>\n",
       "      <th>primary_title</th>\n",
       "      <th>one_genre</th>\n",
       "      <th>two_genre</th>\n",
       "      <th>three_genre</th>\n",
       "    </tr>\n",
       "  </thead>\n",
       "  <tbody>\n",
       "    <tr>\n",
       "      <th>0</th>\n",
       "      <td>39</td>\n",
       "      <td>2019-06-21</td>\n",
       "      <td>Kursk</td>\n",
       "      <td>40000000</td>\n",
       "      <td>0</td>\n",
       "      <td>4.212799e+06</td>\n",
       "      <td>-35787201</td>\n",
       "      <td>-89.47</td>\n",
       "      <td>6</td>\n",
       "      <td>2019</td>\n",
       "      <td>Kursk</td>\n",
       "      <td>Drama</td>\n",
       "      <td>NaN</td>\n",
       "      <td>NaN</td>\n",
       "    </tr>\n",
       "    <tr>\n",
       "      <th>1</th>\n",
       "      <td>23</td>\n",
       "      <td>2019-02-08</td>\n",
       "      <td>Cold Pursuit</td>\n",
       "      <td>60000000</td>\n",
       "      <td>32138862</td>\n",
       "      <td>6.259916e+07</td>\n",
       "      <td>2599159</td>\n",
       "      <td>4.33</td>\n",
       "      <td>2</td>\n",
       "      <td>2019</td>\n",
       "      <td>Cold Pursuit</td>\n",
       "      <td>Action</td>\n",
       "      <td>Crime</td>\n",
       "      <td>Drama</td>\n",
       "    </tr>\n",
       "    <tr>\n",
       "      <th>2</th>\n",
       "      <td>97</td>\n",
       "      <td>2019-03-15</td>\n",
       "      <td>Captive State</td>\n",
       "      <td>25000000</td>\n",
       "      <td>5958315</td>\n",
       "      <td>8.993300e+06</td>\n",
       "      <td>-16006700</td>\n",
       "      <td>-64.03</td>\n",
       "      <td>3</td>\n",
       "      <td>2019</td>\n",
       "      <td>Captive State</td>\n",
       "      <td>Sci-Fi</td>\n",
       "      <td>Thriller</td>\n",
       "      <td>NaN</td>\n",
       "    </tr>\n",
       "    <tr>\n",
       "      <th>3</th>\n",
       "      <td>91</td>\n",
       "      <td>2019-03-15</td>\n",
       "      <td>Five Feet Apart</td>\n",
       "      <td>7000000</td>\n",
       "      <td>45729221</td>\n",
       "      <td>8.050442e+07</td>\n",
       "      <td>73504421</td>\n",
       "      <td>1050.06</td>\n",
       "      <td>3</td>\n",
       "      <td>2019</td>\n",
       "      <td>Five Feet Apart</td>\n",
       "      <td>Drama</td>\n",
       "      <td>Romance</td>\n",
       "      <td>NaN</td>\n",
       "    </tr>\n",
       "    <tr>\n",
       "      <th>4</th>\n",
       "      <td>96</td>\n",
       "      <td>2019-03-08</td>\n",
       "      <td>Captain Marvel</td>\n",
       "      <td>175000000</td>\n",
       "      <td>426525952</td>\n",
       "      <td>1.123062e+09</td>\n",
       "      <td>948061550</td>\n",
       "      <td>541.75</td>\n",
       "      <td>3</td>\n",
       "      <td>2019</td>\n",
       "      <td>Captain Marvel</td>\n",
       "      <td>Action</td>\n",
       "      <td>Adventure</td>\n",
       "      <td>Sci-Fi</td>\n",
       "    </tr>\n",
       "  </tbody>\n",
       "</table>\n",
       "</div>"
      ],
      "text/plain": [
       "   id release_date            movie  production_budget  domestic_gross  \\\n",
       "0  39   2019-06-21            Kursk           40000000               0   \n",
       "1  23   2019-02-08     Cold Pursuit           60000000        32138862   \n",
       "2  97   2019-03-15    Captive State           25000000         5958315   \n",
       "3  91   2019-03-15  Five Feet Apart            7000000        45729221   \n",
       "4  96   2019-03-08   Captain Marvel          175000000       426525952   \n",
       "\n",
       "   worldwide_gross  difference      roi  release_m  release_y  \\\n",
       "0     4.212799e+06   -35787201   -89.47          6       2019   \n",
       "1     6.259916e+07     2599159     4.33          2       2019   \n",
       "2     8.993300e+06   -16006700   -64.03          3       2019   \n",
       "3     8.050442e+07    73504421  1050.06          3       2019   \n",
       "4     1.123062e+09   948061550   541.75          3       2019   \n",
       "\n",
       "     primary_title one_genre  two_genre three_genre  \n",
       "0            Kursk     Drama        NaN         NaN  \n",
       "1     Cold Pursuit    Action      Crime       Drama  \n",
       "2    Captive State    Sci-Fi   Thriller         NaN  \n",
       "3  Five Feet Apart     Drama    Romance         NaN  \n",
       "4   Captain Marvel    Action  Adventure      Sci-Fi  "
      ]
     },
     "execution_count": 41,
     "metadata": {},
     "output_type": "execute_result"
    }
   ],
   "source": [
    "genres_and_roi_df.drop (columns= ['genres', 'genres_split'], inplace= True)\n",
    "genres_and_roi_df.head()"
   ]
  },
  {
   "cell_type": "markdown",
   "metadata": {},
   "source": [
    "Okay! So now we have three columns for genres. Let's check these puppies out!"
   ]
  },
  {
   "cell_type": "code",
   "execution_count": 52,
   "metadata": {
    "ExecuteTime": {
     "end_time": "2020-12-03T17:09:29.326194Z",
     "start_time": "2020-12-03T17:09:28.815070Z"
    }
   },
   "outputs": [
    {
     "data": {
      "text/plain": [
       "<AxesSubplot:title={'center':'Third Genre Listed'}, xlabel='count', ylabel='three_genre'>"
      ]
     },
     "execution_count": 52,
     "metadata": {},
     "output_type": "execute_result"
    },
    {
     "data": {
      "image/png": "[encoded data removed]",
      "text/plain": [
       "<Figure size 576x1440 with 3 Axes>"
      ]
     },
     "metadata": {},
     "output_type": "display_data"
    }
   ],
   "source": [
    "fig, axes = plt.subplots (3, 1, sharex= True, figsize = (8, 20))\n",
    "\n",
    "fig.suptitle('Genres by Position in Column')\n",
    "\n",
    "axes[0].set_title ('First Genre Listed')\n",
    "axes[1].set_title ('Second Genre Listed')\n",
    "axes[2].set_title ('Third Genre Listed')\n",
    "\n",
    "sns.countplot (ax= axes[0], y= 'one_genre', data= genres_and_roi_df)\n",
    "sns.countplot (ax= axes[1], y= 'two_genre', data= genres_and_roi_df)\n",
    "sns.countplot (ax= axes[2], y= 'three_genre', data= genres_and_roi_df)"
   ]
  },
  {
   "cell_type": "code",
   "execution_count": 43,
   "metadata": {
    "ExecuteTime": {
     "end_time": "2020-12-03T16:49:04.742731Z",
     "start_time": "2020-12-03T16:49:04.731324Z"
    }
   },
   "outputs": [],
   "source": [
    "grouped_genres_df = genres_and_roi_df.groupby(by= ['one_genre'], as_index= False).mean()\n",
    "grouped_genres2_df = genres_and_roi_df.groupby(by= ['two_genre'], as_index= False).mean()\n",
    "grouped_genres3_df = genres_and_roi_df.groupby (by=['three_genre'], as_index= False).mean()"
   ]
  },
  {
   "cell_type": "code",
   "execution_count": 44,
   "metadata": {
    "ExecuteTime": {
     "end_time": "2020-12-03T16:49:04.754039Z",
     "start_time": "2020-12-03T16:49:04.744161Z"
    }
   },
   "outputs": [
    {
     "data": {
      "text/html": [
       "<div>\n",
       "<style scoped>\n",
       "    .dataframe tbody tr th:only-of-type {\n",
       "        vertical-align: middle;\n",
       "    }\n",
       "\n",
       "    .dataframe tbody tr th {\n",
       "        vertical-align: top;\n",
       "    }\n",
       "\n",
       "    .dataframe thead th {\n",
       "        text-align: right;\n",
       "    }\n",
       "</style>\n",
       "<table border=\"1\" class=\"dataframe\">\n",
       "  <thead>\n",
       "    <tr style=\"text-align: right;\">\n",
       "      <th></th>\n",
       "      <th>two_genre</th>\n",
       "      <th>id</th>\n",
       "      <th>production_budget</th>\n",
       "      <th>domestic_gross</th>\n",
       "      <th>worldwide_gross</th>\n",
       "      <th>difference</th>\n",
       "      <th>roi</th>\n",
       "      <th>release_m</th>\n",
       "      <th>release_y</th>\n",
       "    </tr>\n",
       "  </thead>\n",
       "  <tbody>\n",
       "    <tr>\n",
       "      <th>0</th>\n",
       "      <td>Adventure</td>\n",
       "      <td>49.760417</td>\n",
       "      <td>1.265703e+08</td>\n",
       "      <td>1.410374e+08</td>\n",
       "      <td>4.045291e+08</td>\n",
       "      <td>2.779588e+08</td>\n",
       "      <td>201.689010</td>\n",
       "      <td>6.291667</td>\n",
       "      <td>2014.473958</td>\n",
       "    </tr>\n",
       "    <tr>\n",
       "      <th>1</th>\n",
       "      <td>Animation</td>\n",
       "      <td>45.144737</td>\n",
       "      <td>9.461184e+07</td>\n",
       "      <td>1.230426e+08</td>\n",
       "      <td>3.453390e+08</td>\n",
       "      <td>2.507272e+08</td>\n",
       "      <td>257.630395</td>\n",
       "      <td>6.986842</td>\n",
       "      <td>2014.407895</td>\n",
       "    </tr>\n",
       "    <tr>\n",
       "      <th>2</th>\n",
       "      <td>Biography</td>\n",
       "      <td>59.526316</td>\n",
       "      <td>2.534211e+07</td>\n",
       "      <td>3.839566e+07</td>\n",
       "      <td>7.809751e+07</td>\n",
       "      <td>5.275541e+07</td>\n",
       "      <td>261.903684</td>\n",
       "      <td>8.368421</td>\n",
       "      <td>2015.000000</td>\n",
       "    </tr>\n",
       "    <tr>\n",
       "      <th>3</th>\n",
       "      <td>Comedy</td>\n",
       "      <td>49.141732</td>\n",
       "      <td>3.653386e+07</td>\n",
       "      <td>4.717753e+07</td>\n",
       "      <td>9.703902e+07</td>\n",
       "      <td>6.050516e+07</td>\n",
       "      <td>178.912677</td>\n",
       "      <td>7.086614</td>\n",
       "      <td>2013.472441</td>\n",
       "    </tr>\n",
       "    <tr>\n",
       "      <th>4</th>\n",
       "      <td>Crime</td>\n",
       "      <td>48.100000</td>\n",
       "      <td>3.312942e+07</td>\n",
       "      <td>3.447298e+07</td>\n",
       "      <td>8.809565e+07</td>\n",
       "      <td>5.496624e+07</td>\n",
       "      <td>107.240273</td>\n",
       "      <td>6.600000</td>\n",
       "      <td>2013.954545</td>\n",
       "    </tr>\n",
       "  </tbody>\n",
       "</table>\n",
       "</div>"
      ],
      "text/plain": [
       "   two_genre         id  production_budget  domestic_gross  worldwide_gross  \\\n",
       "0  Adventure  49.760417       1.265703e+08    1.410374e+08     4.045291e+08   \n",
       "1  Animation  45.144737       9.461184e+07    1.230426e+08     3.453390e+08   \n",
       "2  Biography  59.526316       2.534211e+07    3.839566e+07     7.809751e+07   \n",
       "3     Comedy  49.141732       3.653386e+07    4.717753e+07     9.703902e+07   \n",
       "4      Crime  48.100000       3.312942e+07    3.447298e+07     8.809565e+07   \n",
       "\n",
       "     difference         roi  release_m    release_y  \n",
       "0  2.779588e+08  201.689010   6.291667  2014.473958  \n",
       "1  2.507272e+08  257.630395   6.986842  2014.407895  \n",
       "2  5.275541e+07  261.903684   8.368421  2015.000000  \n",
       "3  6.050516e+07  178.912677   7.086614  2013.472441  \n",
       "4  5.496624e+07  107.240273   6.600000  2013.954545  "
      ]
     },
     "execution_count": 44,
     "metadata": {},
     "output_type": "execute_result"
    }
   ],
   "source": [
    "grouped_genres2_df.head()"
   ]
  },
  {
   "cell_type": "code",
   "execution_count": 53,
   "metadata": {
    "ExecuteTime": {
     "end_time": "2020-12-03T17:10:25.443268Z",
     "start_time": "2020-12-03T17:10:24.841069Z"
    },
    "scrolled": true
   },
   "outputs": [
    {
     "data": {
      "text/plain": [
       "<AxesSubplot:title={'center':'Third Genre Listed'}, xlabel='roi', ylabel='three_genre'>"
      ]
     },
     "execution_count": 53,
     "metadata": {},
     "output_type": "execute_result"
    },
    {
     "data": {
      "image/png": "[encoded data removed]",
      "text/plain": [
       "<Figure size 1800x576 with 3 Axes>"
      ]
     },
     "metadata": {},
     "output_type": "display_data"
    }
   ],
   "source": [
    "fig, axes = plt.subplots (1, 3, figsize= (25, 8))\n",
    "\n",
    "fig.suptitle ('Genres and their Average ROI')\n",
    "axes[0].set_title ('First Genre Listed')\n",
    "axes[1].set_title ('Second Genre Listed')\n",
    "axes[2].set_title ('Third Genre Listed')\n",
    "\n",
    "sns.barplot (ax= axes[0], x= 'roi', y= 'one_genre', data= grouped_genres_df)\n",
    "sns.barplot (ax= axes[1], x= 'roi', y= 'two_genre', data= grouped_genres2_df)\n",
    "sns.barplot (ax= axes[2], x= 'roi', y= 'three_genre', data= grouped_genres3_df)"
   ]
  },
  {
   "cell_type": "code",
   "execution_count": 69,
   "metadata": {
    "ExecuteTime": {
     "end_time": "2020-12-03T19:39:14.095429Z",
     "start_time": "2020-12-03T19:39:14.078569Z"
    }
   },
   "outputs": [],
   "source": [
    "median_genres_df = genres_and_roi_df.groupby(by= ['one_genre'], as_index= False).median()\n",
    "median_genres2_df = genres_and_roi_df.groupby(by= ['two_genre'], as_index= False).median()\n",
    "median_genres3_df = genres_and_roi_df.groupby (by=['three_genre'], as_index= False).median()"
   ]
  },
  {
   "cell_type": "code",
   "execution_count": 70,
   "metadata": {
    "ExecuteTime": {
     "end_time": "2020-12-03T19:40:22.336629Z",
     "start_time": "2020-12-03T19:40:21.587853Z"
    }
   },
   "outputs": [
    {
     "data": {
      "text/plain": [
       "<AxesSubplot:title={'center':'Third Genre Listed'}, xlabel='roi', ylabel='three_genre'>"
      ]
     },
     "execution_count": 70,
     "metadata": {},
     "output_type": "execute_result"
    },
    {
     "data": {
      "image/png": "[encoded data removed]",
      "text/plain": [
       "<Figure size 1800x576 with 3 Axes>"
      ]
     },
     "metadata": {},
     "output_type": "display_data"
    }
   ],
   "source": [
    "fig, axes = plt.subplots (1, 3, figsize= (25, 8))\n",
    "\n",
    "fig.suptitle ('Genres and their Median ROI')\n",
    "axes[0].set_title ('First Genre Listed')\n",
    "axes[1].set_title ('Second Genre Listed')\n",
    "axes[2].set_title ('Third Genre Listed')\n",
    "\n",
    "sns.barplot (ax= axes[0], x= 'roi', y= 'one_genre', data= median_genres_df)\n",
    "sns.barplot (ax= axes[1], x= 'roi', y= 'two_genre', data= median_genres2_df)\n",
    "sns.barplot (ax= axes[2], x= 'roi', y= 'three_genre', data= median_genres3_df)"
   ]
  },
  {
   "cell_type": "code",
   "execution_count": 68,
   "metadata": {
    "ExecuteTime": {
     "end_time": "2020-12-03T17:22:39.591272Z",
     "start_time": "2020-12-03T17:22:38.534483Z"
    }
   },
   "outputs": [
    {
     "data": {
      "text/plain": [
       "<AxesSubplot:xlabel='roi', ylabel='three_genre'>"
      ]
     },
     "execution_count": 68,
     "metadata": {},
     "output_type": "execute_result"
    },
    {
     "data": {
      "image/png": "[encoded data removed]",
      "text/plain": [
       "<Figure size 432x1080 with 1 Axes>"
      ]
     },
     "metadata": {},
     "output_type": "display_data"
    }
   ],
   "source": [
    "# fig, ax = plt.subplots (figsize = (6, 15))\n",
    "# sns.set_color_codes ('pastel')\n",
    "# sns.barplot (x= 'roi', y= 'one_genre', data= genres_and_roi_df, label= 'First Genre', color='b')\n",
    "\n",
    "# sns.set_color_codes('pastel')\n",
    "# sns.barplot (x= 'roi', y= 'two_genre', data= genres_and_roi_df, label= 'Second Genre', color= 'r')\n",
    "\n",
    "# sns.set_color_codes('pastel')\n",
    "# sns.barplot (x= 'roi', y= 'three_genre', data= genres_and_roi_df, label= 'Third Genre', color= 'y')"
   ]
  },
  {
   "cell_type": "code",
   "execution_count": null,
   "metadata": {
    "ExecuteTime": {
     "end_time": "2020-12-03T16:49:04.781353Z",
     "start_time": "2020-12-03T16:49:00.685Z"
    }
   },
   "outputs": [],
   "source": [
    "genres_and_roi_df[genres_and_roi_df.one_genre == 'Horror']"
   ]
  },
  {
   "cell_type": "code",
   "execution_count": null,
   "metadata": {
    "ExecuteTime": {
     "end_time": "2020-12-03T16:49:04.782594Z",
     "start_time": "2020-12-03T16:49:00.688Z"
    }
   },
   "outputs": [],
   "source": [
    "genres_and_roi_df[genres_and_roi_df.three_genre == 'Thriller']"
   ]
  },
  {
   "cell_type": "markdown",
   "metadata": {},
   "source": [
    "### WHOA! OKAY! Welp. It looks like if you want to make a decent return on your investment, give making a horror/mystery/thriller a go!\n",
    "\n",
    "Of course, it's important to point out that a lot of those movies will contain all three of those genres in that order, making them all successes. If the campy horror flicks don't suit you, drama hits high on the list as well.\n",
    "\n",
    "We saw before that Action/Adventure movies do well in box offices, but it looks like the cost to make them cuts into the profits."
   ]
  },
  {
   "cell_type": "code",
   "execution_count": null,
   "metadata": {
    "ExecuteTime": {
     "end_time": "2020-12-03T16:49:04.783750Z",
     "start_time": "2020-12-03T16:49:00.690Z"
    }
   },
   "outputs": [],
   "source": []
  }
 ],
 "metadata": {
  "kernelspec": {
   "display_name": "Python 3",
   "language": "python",
   "name": "python3"
  },
  "language_info": {
   "codemirror_mode": {
    "name": "ipython",
    "version": 3
   },
   "file_extension": ".py",
   "mimetype": "text/x-python",
   "name": "python",
   "nbconvert_exporter": "python",
   "pygments_lexer": "ipython3",
   "version": "3.8.5"
  },
  "toc": {
   "base_numbering": 1,
   "nav_menu": {},
   "number_sections": true,
   "sideBar": true,
   "skip_h1_title": false,
   "title_cell": "Table of Contents",
   "title_sidebar": "Contents",
   "toc_cell": false,
   "toc_position": {},
   "toc_section_display": true,
   "toc_window_display": false
  },
  "varInspector": {
   "cols": {
    "lenName": 16,
    "lenType": 16,
    "lenVar": 40
   },
   "kernels_config": {
    "python": {
     "delete_cmd_postfix": "",
     "delete_cmd_prefix": "del ",
     "library": "var_list.py",
     "varRefreshCmd": "print(var_dic_list())"
    },
    "r": {
     "delete_cmd_postfix": ") ",
     "delete_cmd_prefix": "rm(",
     "library": "var_list.r",
     "varRefreshCmd": "cat(var_dic_list()) "
    }
   },
   "types_to_exclude": [
    "module",
    "function",
    "builtin_function_or_method",
    "instance",
    "_Feature"
   ],
   "window_display": false
  }
 },
 "nbformat": 4,
 "nbformat_minor": 4
}
