{
 "cells": [
  {
   "cell_type": "code",
   "execution_count": null,
   "metadata": {},
   "outputs": [],
   "source": [
    "import pandas as pd\n",
    "import numpy as np\n",
    "import matplotlib.pyplot as plt\n",
    "%matplotlib inline\n",
    "import seaborn as sns\n",
    "sns.set_theme(style=\"whitegrid\")\n",
    "#libraries and themes"
   ]
  },
  {
   "cell_type": "code",
   "execution_count": null,
   "metadata": {},
   "outputs": [],
   "source": [
    "import requests\n",
    "from bs4 import BeautifulSoup\n",
    "import re"
   ]
  },
  {
   "cell_type": "code",
   "execution_count": null,
   "metadata": {},
   "outputs": [],
   "source": [
    "response = requests.get('https://.html', 'html.parser')"
   ]
  },
  {
   "cell_type": "code",
   "execution_count": null,
   "metadata": {},
   "outputs": [],
   "source": [
    "soup = BeautifulSoup (response.content)"
   ]
  },
  {
   "cell_type": "code",
   "execution_count": null,
   "metadata": {},
   "outputs": [],
   "source": [
    "print (soup.tag) # replace \"tag\" with div or p or whatever!\n",
    "print(soup.div.name) # get the name of the div (div)\n",
    "print(soup.div.attrs) # return a dictionary with it's attributes {'id': 'example'}\n",
    "print(soup.div.string) # return string inside tag\n",
    "for child in soup.ul.children: # get children of a tag\n",
    "    print(child)\n",
    "for parent in soup.li.parents: # navigate up the tree and get parents from children\n",
    "    print(parent)\n",
    "print(soup.find_all(\"h1\"))\n",
    "\n",
    "import re\n",
    "soup.find_all(re.compile(\"[ou]l\")) #find every <ol> and <ul> tag on the page (re = using regex)\n",
    "\n",
    "import re\n",
    "soup.find_all(re.compile(\"h[1-9]\")) # find h1-h9 tags (re = using regex)\n",
    "\n",
    "# We can also just specify all of the elements we want to find by \n",
    "# supplying the function with a list of the tag names we are looking for:\n",
    "soup.find_all(['h1', 'a', 'p'])\n",
    "\n",
    "soup.find_all(attrs={'class':'banner'}) #find all elements with class and 'banner'\n",
    "soup.find_all(attrs={'class':'banner', 'id':'jumbotron'})"
   ]
  },
  {
   "cell_type": "code",
   "execution_count": null,
   "metadata": {},
   "outputs": [],
   "source": [
    "#Using a function to find all\n",
    "def has_banner_class_and_hello_world(tag):\n",
    "    return tag.attr('class') == \"banner\" and tag.string == \"Hello world\"\n",
    " \n",
    "soup.find_all(has_banner_class_and_hello_world)"
   ]
  },
  {
   "cell_type": "code",
   "execution_count": null,
   "metadata": {},
   "outputs": [],
   "source": [
    "# The .select() method will take in all of the CSS selectors you normally use in a .css file!\n",
    "\n",
    "soup.select(\".recipeLink\") #select elements that have class 'recipeLink'\n",
    "soup.select(\"#selected\") #select elements that have id 'selected'\n",
    "\n",
    "# loop through all links \n",
    "for link in soup.select(\".recipeLink > a\"):\n",
    "  webpage = requests.get(link)\n",
    "  new_soup = BeautifulSoup(webpage)"
   ]
  },
  {
   "cell_type": "code",
   "execution_count": null,
   "metadata": {},
   "outputs": [],
   "source": [
    "soup.get_text() # will return ALL the strings from the whole tag\n",
    "soup.get_text('|') #add character to separate the strings\n",
    "# ex: 'Search Results for: |Funfetti'"
   ]
  },
  {
   "cell_type": "code",
   "execution_count": null,
   "metadata": {},
   "outputs": [],
   "source": [
    "import requests\n",
    "from bs4 import BeautifulSoup\n",
    "\n",
    "prefix = \"https://content.codecademy.com/courses/beautifulsoup/\"\n",
    "webpage_response = requests.get('https://content.codecademy.com/courses/beautifulsoup/shellter.html')\n",
    "\n",
    "webpage = webpage_response.content\n",
    "soup = BeautifulSoup(webpage, \"html.parser\")\n",
    "\n",
    "turtle_links = soup.find_all(\"a\")\n",
    "links = []\n",
    "#go through all of the a tags and get the links associated with them:\n",
    "for a in turtle_links:\n",
    "  links.append(prefix+a[\"href\"])\n",
    "    \n",
    "#Define turtle_data:\n",
    "turtle_data = {}\n",
    "\n",
    "#follow each link:\n",
    "for link in links:\n",
    "  webpage = requests.get(link)\n",
    "  turtle = BeautifulSoup(webpage.content, \"html.parser\")\n",
    "  #Add your code here:\n",
    "  turtle_name = turtle.select(\".name\")[0]\n",
    "  turtle_data[turtle_name] = []\n",
    "  \n",
    "print(turtle_data)"
   ]
  },
  {
   "cell_type": "code",
   "execution_count": null,
   "metadata": {},
   "outputs": [],
   "source": [
    "import requests\n",
    "from bs4 import BeautifulSoup\n",
    "\n",
    "prefix = \"https://content.codecademy.com/courses/beautifulsoup/\"\n",
    "webpage_response = requests.get('https://content.codecademy.com/courses/beautifulsoup/shellter.html')\n",
    "\n",
    "webpage = webpage_response.content\n",
    "soup = BeautifulSoup(webpage, \"html.parser\")\n",
    "\n",
    "turtle_links = soup.find_all(\"a\")\n",
    "links = []\n",
    "#go through all of the a tags and get the links associated with them\"\n",
    "for a in turtle_links:\n",
    "  links.append(prefix+a[\"href\"])\n",
    "    \n",
    "#Define turtle_data:\n",
    "turtle_data = {}\n",
    "\n",
    "#follow each link:\n",
    "for link in links:\n",
    "  webpage = requests.get(link)\n",
    "  turtle = BeautifulSoup(webpage.content, \"html.parser\")\n",
    "  turtle_name = turtle.select(\".name\")[0].get_text()\n",
    "  \n",
    "  stats = turtle.find(\"ul\")\n",
    "  stats_text = stats.get_text(\"|\")\n",
    "  turtle_data[turtle_name] = stats_text.split(\"|\")\n",
    "\n",
    "turtle_df = pd.DataFrame(turtle_data)"
   ]
  },
  {
   "cell_type": "code",
   "execution_count": null,
   "metadata": {},
   "outputs": [],
   "source": [
    "soup = BeautifulSoup(\"<div class='tweet'><span>New year, new me. </span></div><div id='user'><p>MirandaRights</p></div>\")\n",
    " \n",
    "print(soup.find(id=\"user\").get_text())\n",
    "# displays 'MirandaRights'"
   ]
  },
  {
   "cell_type": "code",
   "execution_count": null,
   "metadata": {},
   "outputs": [],
   "source": [
    "soup = BeautifulSoup(\"<div class='tweet'><span>New year, new me. </span></div><div id='user'><p>MirandaRights</p></div>\")\n",
    " \n",
    "print(soup.div.get_text())\n",
    "# 'New year,new me.'"
   ]
  },
  {
   "cell_type": "code",
   "execution_count": null,
   "metadata": {},
   "outputs": [],
   "source": [
    "<ul>\n",
    "<li class=\"one\">Red</li>\n",
    "<li class=\"fish\">Fish</li>\n",
    "<li class=\"two\">Blue</li>\n",
    "<li class=\"fish\">Fish</li>\n",
    "</ul>\n",
    "\n",
    "soup = BeautifulSoup(\"seuss.html\")\n",
    " \n",
    "print(soup._______)\n",
    "# use \n",
    "select(\".two\").get_text()"
   ]
  },
  {
   "cell_type": "code",
   "execution_count": null,
   "metadata": {},
   "outputs": [],
   "source": [
    "soup = BeautifulSoup(\"\"\"\n",
    "<h1>Syllabus</h1>\n",
    "<div><h3>Unit 1: Variables</h3><p>Learn the basics!</p></div>\n",
    "<div><h3>Unit 2: Loops</h3> <p>Repeat stuff!</p></div>\n",
    "<div><h3>Unit 3: Review</h3></div>\n",
    "\"\"\")\n",
    " \n",
    "for child in soup.div.children:\n",
    "  print(type(child))\n",
    " #displays\n",
    "<class 'bs4.element.Tag'> <class 'bs4.element.Tag'"
   ]
  },
  {
   "cell_type": "markdown",
   "metadata": {},
   "source": [
    "Chocolate project"
   ]
  },
  {
   "cell_type": "code",
   "execution_count": 2,
   "metadata": {
    "ExecuteTime": {
     "end_time": "2020-12-03T20:15:01.203977Z",
     "start_time": "2020-12-03T20:14:58.127586Z"
    }
   },
   "outputs": [
    {
     "data": {
      "image/png": "[encoded data removed]",
      "text/plain": [
       "<Figure size 432x288 with 1 Axes>"
      ]
     },
     "metadata": {
      "needs_background": "light"
     },
     "output_type": "display_data"
    }
   ],
   "source": [
    "# import codecademylib3_seaborn\n",
    "from bs4 import BeautifulSoup\n",
    "import requests\n",
    "import pandas as pd\n",
    "import matplotlib.pyplot as plt\n",
    "import numpy as np\n",
    "\n",
    "response = requests.get ('https://content.codecademy.com/courses/beautifulsoup/cacao/index.html', 'html.parser')\n",
    "\n",
    "soup = BeautifulSoup (response.content)\n",
    "# <td class=\"Rating\">2.75</td>\n",
    "\n",
    "r = soup.find_all(attrs={\"class\": \"Rating\"})\n",
    "\n",
    "ratings = []\n",
    "for rating in r[1:]:\n",
    "  ratings.append(float(rating.get_text()))\n",
    "\n",
    "plt.hist(ratings)\n",
    "plt.show()"
   ]
  },
  {
   "cell_type": "code",
   "execution_count": 7,
   "metadata": {
    "ExecuteTime": {
     "end_time": "2020-12-03T20:28:24.408434Z",
     "start_time": "2020-12-03T20:28:24.250743Z"
    }
   },
   "outputs": [],
   "source": [
    "c = soup.select(\".Company\")\n",
    "\n",
    "companies = []\n",
    "for company in c[1:]:\n",
    "  companies.append (company.get_text())\n",
    "\n",
    "dict = {'Company' : companies, 'Rating': ratings}\n",
    "\n",
    "df = pd.DataFrame.from_dict(dict)\n",
    "df.info\n",
    "\n",
    "avg_ratings = df.groupby('Company').Rating.mean()\n",
    "ten_best = avg_ratings.nlargest(10)\n",
    "print (ten_best)\n"
   ]
  },
  {
   "cell_type": "code",
   "execution_count": 9,
   "metadata": {
    "ExecuteTime": {
     "end_time": "2020-12-03T20:40:23.332523Z",
     "start_time": "2020-12-03T20:40:23.164335Z"
    }
   },
   "outputs": [
    {
     "data": {
      "text/html": [
       "<div>\n",
       "<style scoped>\n",
       "    .dataframe tbody tr th:only-of-type {\n",
       "        vertical-align: middle;\n",
       "    }\n",
       "\n",
       "    .dataframe tbody tr th {\n",
       "        vertical-align: top;\n",
       "    }\n",
       "\n",
       "    .dataframe thead th {\n",
       "        text-align: right;\n",
       "    }\n",
       "</style>\n",
       "<table border=\"1\" class=\"dataframe\">\n",
       "  <thead>\n",
       "    <tr style=\"text-align: right;\">\n",
       "      <th></th>\n",
       "      <th>Company</th>\n",
       "      <th>Rating</th>\n",
       "      <th>CocoaPercentage</th>\n",
       "    </tr>\n",
       "  </thead>\n",
       "  <tbody>\n",
       "    <tr>\n",
       "      <th>0</th>\n",
       "      <td>A. Morin</td>\n",
       "      <td>3.75</td>\n",
       "      <td>63</td>\n",
       "    </tr>\n",
       "    <tr>\n",
       "      <th>1</th>\n",
       "      <td>A. Morin</td>\n",
       "      <td>2.75</td>\n",
       "      <td>70</td>\n",
       "    </tr>\n",
       "    <tr>\n",
       "      <th>2</th>\n",
       "      <td>A. Morin</td>\n",
       "      <td>3.00</td>\n",
       "      <td>70</td>\n",
       "    </tr>\n",
       "    <tr>\n",
       "      <th>3</th>\n",
       "      <td>A. Morin</td>\n",
       "      <td>3.50</td>\n",
       "      <td>70</td>\n",
       "    </tr>\n",
       "    <tr>\n",
       "      <th>4</th>\n",
       "      <td>A. Morin</td>\n",
       "      <td>3.50</td>\n",
       "      <td>70</td>\n",
       "    </tr>\n",
       "  </tbody>\n",
       "</table>\n",
       "</div>"
      ],
      "text/plain": [
       "    Company  Rating  CocoaPercentage\n",
       "0  A. Morin    3.75               63\n",
       "1  A. Morin    2.75               70\n",
       "2  A. Morin    3.00               70\n",
       "3  A. Morin    3.50               70\n",
       "4  A. Morin    3.50               70"
      ]
     },
     "execution_count": 9,
     "metadata": {},
     "output_type": "execute_result"
    }
   ],
   "source": [
    "cocoa_percents = []\n",
    "cocoa_percent_tags = soup.select(\".CocoaPercent\")\n",
    " \n",
    "for td in cocoa_percent_tags[1:]:\n",
    "  percent = int (float(td.get_text().strip('%')))\n",
    "  cocoa_percents.append(percent)\n",
    "\n",
    "df['CocoaPercentage'] = cocoa_percents\n",
    "df.head()"
   ]
  },
  {
   "cell_type": "code",
   "execution_count": 11,
   "metadata": {
    "ExecuteTime": {
     "end_time": "2020-12-03T20:42:40.188790Z",
     "start_time": "2020-12-03T20:42:40.066720Z"
    }
   },
   "outputs": [
    {
     "data": {
      "image/png": "[encoded data removed]",
      "text/plain": [
       "<Figure size 432x288 with 1 Axes>"
      ]
     },
     "metadata": {
      "needs_background": "light"
     },
     "output_type": "display_data"
    }
   ],
   "source": [
    "#Make scatter plot\n",
    "plt.scatter (df.CocoaPercentage, df.Rating)\n",
    "# Make a best-fit line\n",
    "z = np.polyfit(df.CocoaPercentage, df.Rating, 1)\n",
    "line_function = np.poly1d(z)\n",
    "plt.plot(df.CocoaPercentage, line_function(df.CocoaPercentage), \"r--\")\n",
    "plt.show()"
   ]
  },
  {
   "cell_type": "code",
   "execution_count": null,
   "metadata": {},
   "outputs": [],
   "source": [
    "###############################################"
   ]
  },
  {
   "cell_type": "code",
   "execution_count": null,
   "metadata": {},
   "outputs": [],
   "source": [
    "#data vis\n",
    "import codecademylib\n",
    "from matplotlib import pyplot as plt\n",
    "\n",
    "drinks = [\"cappuccino\", \"latte\", \"chai\", \"americano\", \"mocha\", \"espresso\"]\n",
    "sales1 =  [91, 76, 56, 66, 52, 27]\n",
    "sales2 = [65, 82, 36, 68, 38, 40]\n",
    "  \n",
    "plt.bar(range(len(drinks)), sales1)\n",
    "plt.bar(range(len(drinks)), sales2, bottom=sales1)\n",
    "\n",
    "plt.legend([\"Location 1\", \"Location 2\"])\n",
    "\n",
    "plt.show()"
   ]
  },
  {
   "cell_type": "code",
   "execution_count": null,
   "metadata": {},
   "outputs": [],
   "source": [
    "import codecademylib\n",
    "from matplotlib import pyplot as plt\n",
    "\n",
    "drinks = [\"cappuccino\", \"latte\", \"chai\", \"americano\", \"mocha\", \"espresso\"]\n",
    "sales1 =  [91, 76, 56, 66, 52, 27]\n",
    "sales2 = [65, 82, 36, 68, 38, 40]\n",
    "\n",
    "#Paste the x_values code here\n",
    "n = 1  # This is our first dataset (out of 2)\n",
    "t = 2 # Number of datasets\n",
    "d = 6 # Number of sets of bars\n",
    "w = 0.8 # Width of each bar\n",
    "store1_x = [t*element + w*n for element\n",
    "             in range(d)]\n",
    "\n",
    "plt.bar (store1_x, sales1)\n",
    "\n",
    "n = 2  # This is our second dataset (out of 2)\n",
    "t = 2 # Number of datasets\n",
    "d = 6 # Number of sets of bars\n",
    "w = .8 # Width of each bar\n",
    "store2_x = [t*element + w*n for element\n",
    "             in range(d)]\n",
    "\n",
    "plt.bar (store2_x, sales2)\n",
    "\n",
    "plt.show()"
   ]
  },
  {
   "cell_type": "code",
   "execution_count": null,
   "metadata": {},
   "outputs": [],
   "source": []
  }
 ],
 "metadata": {
  "kernelspec": {
   "display_name": "Python 3",
   "language": "python",
   "name": "python3"
  },
  "language_info": {
   "codemirror_mode": {
    "name": "ipython",
    "version": 3
   },
   "file_extension": ".py",
   "mimetype": "text/x-python",
   "name": "python",
   "nbconvert_exporter": "python",
   "pygments_lexer": "ipython3",
   "version": "3.8.5"
  },
  "toc": {
   "base_numbering": 1,
   "nav_menu": {},
   "number_sections": true,
   "sideBar": true,
   "skip_h1_title": false,
   "title_cell": "Table of Contents",
   "title_sidebar": "Contents",
   "toc_cell": false,
   "toc_position": {},
   "toc_section_display": true,
   "toc_window_display": false
  },
  "varInspector": {
   "cols": {
    "lenName": 16,
    "lenType": 16,
    "lenVar": 40
   },
   "kernels_config": {
    "python": {
     "delete_cmd_postfix": "",
     "delete_cmd_prefix": "del ",
     "library": "var_list.py",
     "varRefreshCmd": "print(var_dic_list())"
    },
    "r": {
     "delete_cmd_postfix": ") ",
     "delete_cmd_prefix": "rm(",
     "library": "var_list.r",
     "varRefreshCmd": "cat(var_dic_list()) "
    }
   },
   "types_to_exclude": [
    "module",
    "function",
    "builtin_function_or_method",
    "instance",
    "_Feature"
   ],
   "window_display": false
  }
 },
 "nbformat": 4,
 "nbformat_minor": 4
}
