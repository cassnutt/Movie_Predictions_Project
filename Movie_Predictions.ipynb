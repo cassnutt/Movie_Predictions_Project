{
 "cells": [
  {
   "cell_type": "markdown",
   "metadata": {},
   "source": [
    "# Final Project Submission\n",
    "\n",
    "Please fill out:\n",
    "* Student name: Cassie Nutter\n",
    "* Student pace: Full time\n",
    "* Scheduled project review date/time: \n",
    "* Instructor name: Abhineet Kulkarni\n",
    "* Blog post URL:\n"
   ]
  },
  {
   "cell_type": "markdown",
   "metadata": {},
   "source": [
    "## You've got to ask yourself one question: Do I feel lucky?\"               Well, do ya, punk?"
   ]
  },
  {
   "cell_type": "markdown",
   "metadata": {},
   "source": [
    "Import necessary tools for project here"
   ]
  },
  {
   "cell_type": "code",
   "execution_count": 1,
   "metadata": {},
   "outputs": [
    {
     "data": {
      "text/plain": [
       "<matplotlib.colors.ListedColormap at 0x7f9eb21b6d90>"
      ]
     },
     "execution_count": 1,
     "metadata": {},
     "output_type": "execute_result"
    }
   ],
   "source": [
    "import pandas as pd\n",
    "import numpy as np\n",
    "import matplotlib.pyplot as plt\n",
    "%matplotlib inline\n",
    "import seaborn as sns"
   ]
  },
  {
   "cell_type": "markdown",
   "metadata": {},
   "source": [
    "Load data files here"
   ]
  },
  {
   "cell_type": "code",
   "execution_count": 2,
   "metadata": {},
   "outputs": [],
   "source": [
    "title_basics_df = pd.read_csv ('zippedData/imdb.title.basics.csv.gz')\n",
    "title_ratings_df = pd.read_csv ('zippedData/imdb.title.ratings.csv.gz')\n",
    "movie_gross_df = pd.read_csv ('zippedData/bom.movie_gross.csv.gz')\n",
    "movie_budgets_df = pd.read_csv ('zippedData/tn.movie_budgets.csv.gz')"
   ]
  },
  {
   "cell_type": "code",
   "execution_count": 3,
   "metadata": {},
   "outputs": [
    {
     "name": "stdout",
     "output_type": "stream",
     "text": [
      "<class 'pandas.core.frame.DataFrame'>\n",
      "RangeIndex: 146144 entries, 0 to 146143\n",
      "Data columns (total 6 columns):\n",
      " #   Column           Non-Null Count   Dtype  \n",
      "---  ------           --------------   -----  \n",
      " 0   tconst           146144 non-null  object \n",
      " 1   primary_title    146144 non-null  object \n",
      " 2   original_title   146123 non-null  object \n",
      " 3   start_year       146144 non-null  int64  \n",
      " 4   runtime_minutes  114405 non-null  float64\n",
      " 5   genres           140736 non-null  object \n",
      "dtypes: float64(1), int64(1), object(4)\n",
      "memory usage: 6.7+ MB\n",
      "None\n"
     ]
    },
    {
     "data": {
      "text/html": [
       "<div>\n",
       "<style scoped>\n",
       "    .dataframe tbody tr th:only-of-type {\n",
       "        vertical-align: middle;\n",
       "    }\n",
       "\n",
       "    .dataframe tbody tr th {\n",
       "        vertical-align: top;\n",
       "    }\n",
       "\n",
       "    .dataframe thead th {\n",
       "        text-align: right;\n",
       "    }\n",
       "</style>\n",
       "<table border=\"1\" class=\"dataframe\">\n",
       "  <thead>\n",
       "    <tr style=\"text-align: right;\">\n",
       "      <th></th>\n",
       "      <th>tconst</th>\n",
       "      <th>primary_title</th>\n",
       "      <th>original_title</th>\n",
       "      <th>start_year</th>\n",
       "      <th>runtime_minutes</th>\n",
       "      <th>genres</th>\n",
       "    </tr>\n",
       "  </thead>\n",
       "  <tbody>\n",
       "    <tr>\n",
       "      <th>0</th>\n",
       "      <td>tt0063540</td>\n",
       "      <td>Sunghursh</td>\n",
       "      <td>Sunghursh</td>\n",
       "      <td>2013</td>\n",
       "      <td>175.0</td>\n",
       "      <td>Action,Crime,Drama</td>\n",
       "    </tr>\n",
       "    <tr>\n",
       "      <th>1</th>\n",
       "      <td>tt0066787</td>\n",
       "      <td>One Day Before the Rainy Season</td>\n",
       "      <td>Ashad Ka Ek Din</td>\n",
       "      <td>2019</td>\n",
       "      <td>114.0</td>\n",
       "      <td>Biography,Drama</td>\n",
       "    </tr>\n",
       "    <tr>\n",
       "      <th>2</th>\n",
       "      <td>tt0069049</td>\n",
       "      <td>The Other Side of the Wind</td>\n",
       "      <td>The Other Side of the Wind</td>\n",
       "      <td>2018</td>\n",
       "      <td>122.0</td>\n",
       "      <td>Drama</td>\n",
       "    </tr>\n",
       "    <tr>\n",
       "      <th>3</th>\n",
       "      <td>tt0069204</td>\n",
       "      <td>Sabse Bada Sukh</td>\n",
       "      <td>Sabse Bada Sukh</td>\n",
       "      <td>2018</td>\n",
       "      <td>NaN</td>\n",
       "      <td>Comedy,Drama</td>\n",
       "    </tr>\n",
       "    <tr>\n",
       "      <th>4</th>\n",
       "      <td>tt0100275</td>\n",
       "      <td>The Wandering Soap Opera</td>\n",
       "      <td>La Telenovela Errante</td>\n",
       "      <td>2017</td>\n",
       "      <td>80.0</td>\n",
       "      <td>Comedy,Drama,Fantasy</td>\n",
       "    </tr>\n",
       "  </tbody>\n",
       "</table>\n",
       "</div>"
      ],
      "text/plain": [
       "      tconst                    primary_title              original_title  \\\n",
       "0  tt0063540                        Sunghursh                   Sunghursh   \n",
       "1  tt0066787  One Day Before the Rainy Season             Ashad Ka Ek Din   \n",
       "2  tt0069049       The Other Side of the Wind  The Other Side of the Wind   \n",
       "3  tt0069204                  Sabse Bada Sukh             Sabse Bada Sukh   \n",
       "4  tt0100275         The Wandering Soap Opera       La Telenovela Errante   \n",
       "\n",
       "   start_year  runtime_minutes                genres  \n",
       "0        2013            175.0    Action,Crime,Drama  \n",
       "1        2019            114.0       Biography,Drama  \n",
       "2        2018            122.0                 Drama  \n",
       "3        2018              NaN          Comedy,Drama  \n",
       "4        2017             80.0  Comedy,Drama,Fantasy  "
      ]
     },
     "execution_count": 3,
     "metadata": {},
     "output_type": "execute_result"
    }
   ],
   "source": [
    "print (title_basics_df.info())\n",
    "title_basics_df.head()"
   ]
  },
  {
   "cell_type": "code",
   "execution_count": 4,
   "metadata": {},
   "outputs": [
    {
     "name": "stdout",
     "output_type": "stream",
     "text": [
      "<class 'pandas.core.frame.DataFrame'>\n",
      "RangeIndex: 73856 entries, 0 to 73855\n",
      "Data columns (total 3 columns):\n",
      " #   Column         Non-Null Count  Dtype  \n",
      "---  ------         --------------  -----  \n",
      " 0   tconst         73856 non-null  object \n",
      " 1   averagerating  73856 non-null  float64\n",
      " 2   numvotes       73856 non-null  int64  \n",
      "dtypes: float64(1), int64(1), object(1)\n",
      "memory usage: 1.7+ MB\n",
      "None\n"
     ]
    },
    {
     "data": {
      "text/html": [
       "<div>\n",
       "<style scoped>\n",
       "    .dataframe tbody tr th:only-of-type {\n",
       "        vertical-align: middle;\n",
       "    }\n",
       "\n",
       "    .dataframe tbody tr th {\n",
       "        vertical-align: top;\n",
       "    }\n",
       "\n",
       "    .dataframe thead th {\n",
       "        text-align: right;\n",
       "    }\n",
       "</style>\n",
       "<table border=\"1\" class=\"dataframe\">\n",
       "  <thead>\n",
       "    <tr style=\"text-align: right;\">\n",
       "      <th></th>\n",
       "      <th>tconst</th>\n",
       "      <th>averagerating</th>\n",
       "      <th>numvotes</th>\n",
       "    </tr>\n",
       "  </thead>\n",
       "  <tbody>\n",
       "    <tr>\n",
       "      <th>0</th>\n",
       "      <td>tt10356526</td>\n",
       "      <td>8.3</td>\n",
       "      <td>31</td>\n",
       "    </tr>\n",
       "    <tr>\n",
       "      <th>1</th>\n",
       "      <td>tt10384606</td>\n",
       "      <td>8.9</td>\n",
       "      <td>559</td>\n",
       "    </tr>\n",
       "    <tr>\n",
       "      <th>2</th>\n",
       "      <td>tt1042974</td>\n",
       "      <td>6.4</td>\n",
       "      <td>20</td>\n",
       "    </tr>\n",
       "    <tr>\n",
       "      <th>3</th>\n",
       "      <td>tt1043726</td>\n",
       "      <td>4.2</td>\n",
       "      <td>50352</td>\n",
       "    </tr>\n",
       "    <tr>\n",
       "      <th>4</th>\n",
       "      <td>tt1060240</td>\n",
       "      <td>6.5</td>\n",
       "      <td>21</td>\n",
       "    </tr>\n",
       "  </tbody>\n",
       "</table>\n",
       "</div>"
      ],
      "text/plain": [
       "       tconst  averagerating  numvotes\n",
       "0  tt10356526            8.3        31\n",
       "1  tt10384606            8.9       559\n",
       "2   tt1042974            6.4        20\n",
       "3   tt1043726            4.2     50352\n",
       "4   tt1060240            6.5        21"
      ]
     },
     "execution_count": 4,
     "metadata": {},
     "output_type": "execute_result"
    }
   ],
   "source": [
    "print (title_ratings_df.info())\n",
    "title_ratings_df.head()"
   ]
  },
  {
   "cell_type": "code",
   "execution_count": 5,
   "metadata": {
    "scrolled": true
   },
   "outputs": [
    {
     "name": "stdout",
     "output_type": "stream",
     "text": [
      "<class 'pandas.core.frame.DataFrame'>\n",
      "RangeIndex: 3387 entries, 0 to 3386\n",
      "Data columns (total 5 columns):\n",
      " #   Column          Non-Null Count  Dtype  \n",
      "---  ------          --------------  -----  \n",
      " 0   title           3387 non-null   object \n",
      " 1   studio          3382 non-null   object \n",
      " 2   domestic_gross  3359 non-null   float64\n",
      " 3   foreign_gross   2037 non-null   object \n",
      " 4   year            3387 non-null   int64  \n",
      "dtypes: float64(1), int64(1), object(3)\n",
      "memory usage: 132.4+ KB\n",
      "None\n"
     ]
    },
    {
     "data": {
      "text/html": [
       "<div>\n",
       "<style scoped>\n",
       "    .dataframe tbody tr th:only-of-type {\n",
       "        vertical-align: middle;\n",
       "    }\n",
       "\n",
       "    .dataframe tbody tr th {\n",
       "        vertical-align: top;\n",
       "    }\n",
       "\n",
       "    .dataframe thead th {\n",
       "        text-align: right;\n",
       "    }\n",
       "</style>\n",
       "<table border=\"1\" class=\"dataframe\">\n",
       "  <thead>\n",
       "    <tr style=\"text-align: right;\">\n",
       "      <th></th>\n",
       "      <th>title</th>\n",
       "      <th>studio</th>\n",
       "      <th>domestic_gross</th>\n",
       "      <th>foreign_gross</th>\n",
       "      <th>year</th>\n",
       "    </tr>\n",
       "  </thead>\n",
       "  <tbody>\n",
       "    <tr>\n",
       "      <th>0</th>\n",
       "      <td>Toy Story 3</td>\n",
       "      <td>BV</td>\n",
       "      <td>415000000.0</td>\n",
       "      <td>652000000</td>\n",
       "      <td>2010</td>\n",
       "    </tr>\n",
       "    <tr>\n",
       "      <th>1</th>\n",
       "      <td>Alice in Wonderland (2010)</td>\n",
       "      <td>BV</td>\n",
       "      <td>334200000.0</td>\n",
       "      <td>691300000</td>\n",
       "      <td>2010</td>\n",
       "    </tr>\n",
       "    <tr>\n",
       "      <th>2</th>\n",
       "      <td>Harry Potter and the Deathly Hallows Part 1</td>\n",
       "      <td>WB</td>\n",
       "      <td>296000000.0</td>\n",
       "      <td>664300000</td>\n",
       "      <td>2010</td>\n",
       "    </tr>\n",
       "    <tr>\n",
       "      <th>3</th>\n",
       "      <td>Inception</td>\n",
       "      <td>WB</td>\n",
       "      <td>292600000.0</td>\n",
       "      <td>535700000</td>\n",
       "      <td>2010</td>\n",
       "    </tr>\n",
       "    <tr>\n",
       "      <th>4</th>\n",
       "      <td>Shrek Forever After</td>\n",
       "      <td>P/DW</td>\n",
       "      <td>238700000.0</td>\n",
       "      <td>513900000</td>\n",
       "      <td>2010</td>\n",
       "    </tr>\n",
       "  </tbody>\n",
       "</table>\n",
       "</div>"
      ],
      "text/plain": [
       "                                         title studio  domestic_gross  \\\n",
       "0                                  Toy Story 3     BV     415000000.0   \n",
       "1                   Alice in Wonderland (2010)     BV     334200000.0   \n",
       "2  Harry Potter and the Deathly Hallows Part 1     WB     296000000.0   \n",
       "3                                    Inception     WB     292600000.0   \n",
       "4                          Shrek Forever After   P/DW     238700000.0   \n",
       "\n",
       "  foreign_gross  year  \n",
       "0     652000000  2010  \n",
       "1     691300000  2010  \n",
       "2     664300000  2010  \n",
       "3     535700000  2010  \n",
       "4     513900000  2010  "
      ]
     },
     "execution_count": 5,
     "metadata": {},
     "output_type": "execute_result"
    }
   ],
   "source": [
    "print(movie_gross_df.info())\n",
    "movie_gross_df.head()"
   ]
  },
  {
   "cell_type": "code",
   "execution_count": 6,
   "metadata": {},
   "outputs": [
    {
     "name": "stdout",
     "output_type": "stream",
     "text": [
      "<class 'pandas.core.frame.DataFrame'>\n",
      "RangeIndex: 5782 entries, 0 to 5781\n",
      "Data columns (total 6 columns):\n",
      " #   Column             Non-Null Count  Dtype \n",
      "---  ------             --------------  ----- \n",
      " 0   id                 5782 non-null   int64 \n",
      " 1   release_date       5782 non-null   object\n",
      " 2   movie              5782 non-null   object\n",
      " 3   production_budget  5782 non-null   object\n",
      " 4   domestic_gross     5782 non-null   object\n",
      " 5   worldwide_gross    5782 non-null   object\n",
      "dtypes: int64(1), object(5)\n",
      "memory usage: 271.2+ KB\n",
      "None\n"
     ]
    },
    {
     "data": {
      "text/html": [
       "<div>\n",
       "<style scoped>\n",
       "    .dataframe tbody tr th:only-of-type {\n",
       "        vertical-align: middle;\n",
       "    }\n",
       "\n",
       "    .dataframe tbody tr th {\n",
       "        vertical-align: top;\n",
       "    }\n",
       "\n",
       "    .dataframe thead th {\n",
       "        text-align: right;\n",
       "    }\n",
       "</style>\n",
       "<table border=\"1\" class=\"dataframe\">\n",
       "  <thead>\n",
       "    <tr style=\"text-align: right;\">\n",
       "      <th></th>\n",
       "      <th>id</th>\n",
       "      <th>release_date</th>\n",
       "      <th>movie</th>\n",
       "      <th>production_budget</th>\n",
       "      <th>domestic_gross</th>\n",
       "      <th>worldwide_gross</th>\n",
       "    </tr>\n",
       "  </thead>\n",
       "  <tbody>\n",
       "    <tr>\n",
       "      <th>0</th>\n",
       "      <td>1</td>\n",
       "      <td>Dec 18, 2009</td>\n",
       "      <td>Avatar</td>\n",
       "      <td>$425,000,000</td>\n",
       "      <td>$760,507,625</td>\n",
       "      <td>$2,776,345,279</td>\n",
       "    </tr>\n",
       "    <tr>\n",
       "      <th>1</th>\n",
       "      <td>2</td>\n",
       "      <td>May 20, 2011</td>\n",
       "      <td>Pirates of the Caribbean: On Stranger Tides</td>\n",
       "      <td>$410,600,000</td>\n",
       "      <td>$241,063,875</td>\n",
       "      <td>$1,045,663,875</td>\n",
       "    </tr>\n",
       "    <tr>\n",
       "      <th>2</th>\n",
       "      <td>3</td>\n",
       "      <td>Jun 7, 2019</td>\n",
       "      <td>Dark Phoenix</td>\n",
       "      <td>$350,000,000</td>\n",
       "      <td>$42,762,350</td>\n",
       "      <td>$149,762,350</td>\n",
       "    </tr>\n",
       "    <tr>\n",
       "      <th>3</th>\n",
       "      <td>4</td>\n",
       "      <td>May 1, 2015</td>\n",
       "      <td>Avengers: Age of Ultron</td>\n",
       "      <td>$330,600,000</td>\n",
       "      <td>$459,005,868</td>\n",
       "      <td>$1,403,013,963</td>\n",
       "    </tr>\n",
       "    <tr>\n",
       "      <th>4</th>\n",
       "      <td>5</td>\n",
       "      <td>Dec 15, 2017</td>\n",
       "      <td>Star Wars Ep. VIII: The Last Jedi</td>\n",
       "      <td>$317,000,000</td>\n",
       "      <td>$620,181,382</td>\n",
       "      <td>$1,316,721,747</td>\n",
       "    </tr>\n",
       "  </tbody>\n",
       "</table>\n",
       "</div>"
      ],
      "text/plain": [
       "   id  release_date                                        movie  \\\n",
       "0   1  Dec 18, 2009                                       Avatar   \n",
       "1   2  May 20, 2011  Pirates of the Caribbean: On Stranger Tides   \n",
       "2   3   Jun 7, 2019                                 Dark Phoenix   \n",
       "3   4   May 1, 2015                      Avengers: Age of Ultron   \n",
       "4   5  Dec 15, 2017            Star Wars Ep. VIII: The Last Jedi   \n",
       "\n",
       "  production_budget domestic_gross worldwide_gross  \n",
       "0      $425,000,000   $760,507,625  $2,776,345,279  \n",
       "1      $410,600,000   $241,063,875  $1,045,663,875  \n",
       "2      $350,000,000    $42,762,350    $149,762,350  \n",
       "3      $330,600,000   $459,005,868  $1,403,013,963  \n",
       "4      $317,000,000   $620,181,382  $1,316,721,747  "
      ]
     },
     "execution_count": 6,
     "metadata": {},
     "output_type": "execute_result"
    }
   ],
   "source": [
    "print (movie_budgets_df.info())\n",
    "movie_budgets_df.head()"
   ]
  },
  {
   "cell_type": "markdown",
   "metadata": {},
   "source": [
    "# Most Popular Month to Release a Movie"
   ]
  },
  {
   "cell_type": "code",
   "execution_count": 7,
   "metadata": {},
   "outputs": [
    {
     "data": {
      "text/plain": [
       "id                   0\n",
       "release_date         0\n",
       "movie                0\n",
       "production_budget    0\n",
       "domestic_gross       0\n",
       "worldwide_gross      0\n",
       "dtype: int64"
      ]
     },
     "execution_count": 7,
     "metadata": {},
     "output_type": "execute_result"
    }
   ],
   "source": [
    "# Quick check on the data\n",
    "movie_budgets_df.isna().sum()"
   ]
  },
  {
   "cell_type": "code",
   "execution_count": 8,
   "metadata": {},
   "outputs": [
    {
     "data": {
      "text/plain": [
       "id                   0\n",
       "release_date         0\n",
       "movie                0\n",
       "production_budget    0\n",
       "domestic_gross       0\n",
       "worldwide_gross      0\n",
       "dtype: int64"
      ]
     },
     "execution_count": 8,
     "metadata": {},
     "output_type": "execute_result"
    }
   ],
   "source": [
    "# Quick check on the data\n",
    "movie_budgets_df.isna().sum()"
   ]
  },
  {
   "cell_type": "code",
   "execution_count": 9,
   "metadata": {},
   "outputs": [
    {
     "name": "stdout",
     "output_type": "stream",
     "text": [
      "Currently check values from column: id\n",
      "Top 5 values: \n",
      " 4     0.010031\n",
      "53    0.010031\n",
      "61    0.010031\n",
      "65    0.010031\n",
      "69    0.010031\n",
      "Name: id, dtype: float64\n",
      "-----------------------------\n",
      "Currently check values from column: release_date\n",
      "Top 5 values: \n",
      " Dec 31, 2014    0.004151\n",
      "Dec 31, 2015    0.003978\n",
      "Dec 31, 2010    0.002594\n",
      "Dec 31, 2008    0.002421\n",
      "Dec 31, 2013    0.002248\n",
      "Name: release_date, dtype: float64\n",
      "-----------------------------\n",
      "Currently check values from column: movie\n",
      "Top 5 values: \n",
      " Halloween    0.000519\n",
      "Home         0.000519\n",
      "King Kong    0.000519\n",
      "Snitch       0.000346\n",
      "Hellboy      0.000346\n",
      "Name: movie, dtype: float64\n",
      "-----------------------------\n",
      "Currently check values from column: production_budget\n",
      "Top 5 values: \n",
      " $20,000,000    0.039952\n",
      "$10,000,000    0.036666\n",
      "$30,000,000    0.030612\n",
      "$15,000,000    0.029920\n",
      "$25,000,000    0.029575\n",
      "Name: production_budget, dtype: float64\n",
      "-----------------------------\n",
      "Currently check values from column: domestic_gross\n",
      "Top 5 values: \n",
      " $0             0.094777\n",
      "$8,000,000     0.001557\n",
      "$7,000,000     0.001211\n",
      "$2,000,000     0.001211\n",
      "$10,000,000    0.001038\n",
      "Name: domestic_gross, dtype: float64\n",
      "-----------------------------\n",
      "Currently check values from column: worldwide_gross\n",
      "Top 5 values: \n",
      " $0             0.063473\n",
      "$8,000,000     0.001557\n",
      "$2,000,000     0.001038\n",
      "$7,000,000     0.001038\n",
      "$10,000,000    0.000692\n",
      "Name: worldwide_gross, dtype: float64\n",
      "-----------------------------\n"
     ]
    }
   ],
   "source": [
    "#check for duplicates or commonly reoccuring values\n",
    "for col in movie_budgets_df:\n",
    "    print (f'Currently check values from column: {col}')\n",
    "    print (f'Top 5 values: \\n {movie_budgets_df[col].value_counts(normalize = True)[:5]}')\n",
    "    print ('-----------------------------')"
   ]
  },
  {
   "cell_type": "markdown",
   "metadata": {},
   "source": [
    "Data looks clean! Let's use it!\n"
   ]
  },
  {
   "cell_type": "code",
   "execution_count": 10,
   "metadata": {
    "scrolled": false
   },
   "outputs": [
    {
     "data": {
      "text/html": [
       "<div>\n",
       "<style scoped>\n",
       "    .dataframe tbody tr th:only-of-type {\n",
       "        vertical-align: middle;\n",
       "    }\n",
       "\n",
       "    .dataframe tbody tr th {\n",
       "        vertical-align: top;\n",
       "    }\n",
       "\n",
       "    .dataframe thead th {\n",
       "        text-align: right;\n",
       "    }\n",
       "</style>\n",
       "<table border=\"1\" class=\"dataframe\">\n",
       "  <thead>\n",
       "    <tr style=\"text-align: right;\">\n",
       "      <th></th>\n",
       "      <th>id</th>\n",
       "      <th>release_date</th>\n",
       "      <th>movie</th>\n",
       "      <th>production_budget</th>\n",
       "      <th>domestic_gross</th>\n",
       "      <th>worldwide_gross</th>\n",
       "      <th>release_m</th>\n",
       "    </tr>\n",
       "  </thead>\n",
       "  <tbody>\n",
       "    <tr>\n",
       "      <th>0</th>\n",
       "      <td>1</td>\n",
       "      <td>2009-12-18</td>\n",
       "      <td>Avatar</td>\n",
       "      <td>$425,000,000</td>\n",
       "      <td>$760,507,625</td>\n",
       "      <td>$2,776,345,279</td>\n",
       "      <td>12</td>\n",
       "    </tr>\n",
       "    <tr>\n",
       "      <th>1</th>\n",
       "      <td>2</td>\n",
       "      <td>2011-05-20</td>\n",
       "      <td>Pirates of the Caribbean: On Stranger Tides</td>\n",
       "      <td>$410,600,000</td>\n",
       "      <td>$241,063,875</td>\n",
       "      <td>$1,045,663,875</td>\n",
       "      <td>5</td>\n",
       "    </tr>\n",
       "    <tr>\n",
       "      <th>2</th>\n",
       "      <td>3</td>\n",
       "      <td>2019-06-07</td>\n",
       "      <td>Dark Phoenix</td>\n",
       "      <td>$350,000,000</td>\n",
       "      <td>$42,762,350</td>\n",
       "      <td>$149,762,350</td>\n",
       "      <td>6</td>\n",
       "    </tr>\n",
       "    <tr>\n",
       "      <th>3</th>\n",
       "      <td>4</td>\n",
       "      <td>2015-05-01</td>\n",
       "      <td>Avengers: Age of Ultron</td>\n",
       "      <td>$330,600,000</td>\n",
       "      <td>$459,005,868</td>\n",
       "      <td>$1,403,013,963</td>\n",
       "      <td>5</td>\n",
       "    </tr>\n",
       "    <tr>\n",
       "      <th>4</th>\n",
       "      <td>5</td>\n",
       "      <td>2017-12-15</td>\n",
       "      <td>Star Wars Ep. VIII: The Last Jedi</td>\n",
       "      <td>$317,000,000</td>\n",
       "      <td>$620,181,382</td>\n",
       "      <td>$1,316,721,747</td>\n",
       "      <td>12</td>\n",
       "    </tr>\n",
       "  </tbody>\n",
       "</table>\n",
       "</div>"
      ],
      "text/plain": [
       "   id release_date                                        movie  \\\n",
       "0   1   2009-12-18                                       Avatar   \n",
       "1   2   2011-05-20  Pirates of the Caribbean: On Stranger Tides   \n",
       "2   3   2019-06-07                                 Dark Phoenix   \n",
       "3   4   2015-05-01                      Avengers: Age of Ultron   \n",
       "4   5   2017-12-15            Star Wars Ep. VIII: The Last Jedi   \n",
       "\n",
       "  production_budget domestic_gross worldwide_gross  release_m  \n",
       "0      $425,000,000   $760,507,625  $2,776,345,279         12  \n",
       "1      $410,600,000   $241,063,875  $1,045,663,875          5  \n",
       "2      $350,000,000    $42,762,350    $149,762,350          6  \n",
       "3      $330,600,000   $459,005,868  $1,403,013,963          5  \n",
       "4      $317,000,000   $620,181,382  $1,316,721,747         12  "
      ]
     },
     "execution_count": 10,
     "metadata": {},
     "output_type": "execute_result"
    }
   ],
   "source": [
    "movie_budgets_df['release_date'] = pd.to_datetime(movie_budgets_df['release_date'])\n",
    "movie_budgets_df ['release_m'] = movie_budgets_df['release_date'].dt.month\n",
    "movie_budgets_df.reset_index (drop=True, inplace= True)\n",
    "movie_budgets_df.head()"
   ]
  },
  {
   "cell_type": "code",
   "execution_count": 11,
   "metadata": {},
   "outputs": [
    {
     "data": {
      "text/plain": [
       "[Text(0.5, 0, 'Released Month'), Text(0, 0.5, 'Counts')]"
      ]
     },
     "execution_count": 11,
     "metadata": {},
     "output_type": "execute_result"
    },
    {
     "data": {
      "image/png": "[encoded data removed]",
      "text/plain": [
       "<Figure size 576x432 with 1 Axes>"
      ]
     },
     "metadata": {
      "needs_background": "light"
     },
     "output_type": "display_data"
    }
   ],
   "source": [
    "plt.figure(figsize= (8,6))\n",
    "released_month_img = sns.countplot(x='release_m', data= movie_budgets_df, palette= 'Greens_d')\n",
    "released_month_img.set(xlabel='Released Month', ylabel= 'Counts')"
   ]
  },
  {
   "cell_type": "markdown",
   "metadata": {},
   "source": [
    "### If you build it, he will come.\n",
    "\n",
    "December looks like the most popular month to release a movie, followed by October.\n",
    "\n",
    "January is the least popular month for movie releases.\n",
    "\n",
    "...But does that mean these movies make money? Or is that just a time when people decide to release them?"
   ]
  },
  {
   "cell_type": "markdown",
   "metadata": {},
   "source": [
    "### Show me the money!"
   ]
  },
  {
   "cell_type": "markdown",
   "metadata": {},
   "source": [
    "First, turn strings to integers and remove '$' and ','"
   ]
  },
  {
   "cell_type": "code",
   "execution_count": 12,
   "metadata": {},
   "outputs": [],
   "source": [
    "def convert_to_int(df, col):\n",
    "    df[col] = df[col].str.replace('$','').str.replace(',', '').astype('int')\n",
    "    return df"
   ]
  },
  {
   "cell_type": "code",
   "execution_count": 13,
   "metadata": {},
   "outputs": [],
   "source": [
    "cols_to_convert = ['production_budget', 'domestic_gross', 'worldwide_gross']\n",
    "\n",
    "for col in cols_to_convert:\n",
    "    movie_budgets_df = convert_to_int(movie_budgets_df, col)"
   ]
  },
  {
   "cell_type": "code",
   "execution_count": 14,
   "metadata": {
    "scrolled": true
   },
   "outputs": [
    {
     "name": "stdout",
     "output_type": "stream",
     "text": [
      "<class 'pandas.core.frame.DataFrame'>\n",
      "RangeIndex: 5782 entries, 0 to 5781\n",
      "Data columns (total 7 columns):\n",
      " #   Column             Non-Null Count  Dtype         \n",
      "---  ------             --------------  -----         \n",
      " 0   id                 5782 non-null   int64         \n",
      " 1   release_date       5782 non-null   datetime64[ns]\n",
      " 2   movie              5782 non-null   object        \n",
      " 3   production_budget  5782 non-null   int64         \n",
      " 4   domestic_gross     5782 non-null   int64         \n",
      " 5   worldwide_gross    5782 non-null   int64         \n",
      " 6   release_m          5782 non-null   int64         \n",
      "dtypes: datetime64[ns](1), int64(5), object(1)\n",
      "memory usage: 316.3+ KB\n"
     ]
    }
   ],
   "source": [
    "#Did it work?\n",
    "movie_budgets_df.info()\n",
    "# movie_budgets_df.head()"
   ]
  },
  {
   "cell_type": "markdown",
   "metadata": {},
   "source": [
    "### Say \"hello\" to my little friend!"
   ]
  },
  {
   "cell_type": "code",
   "execution_count": 15,
   "metadata": {},
   "outputs": [
    {
     "data": {
      "text/plain": [
       "[Text(0.5, 0, 'Month Released'), Text(0, 0.5, 'Domestic Gross')]"
      ]
     },
     "execution_count": 15,
     "metadata": {},
     "output_type": "execute_result"
    },
    {
     "data": {
      "image/png": "[encoded data removed]",
      "text/plain": [
       "<Figure size 432x288 with 1 Axes>"
      ]
     },
     "metadata": {
      "needs_background": "light"
     },
     "output_type": "display_data"
    }
   ],
   "source": [
    "dom_month_img = sns.stripplot(x= 'release_m', y= 'domestic_gross', data=movie_budgets_df, palette= 'Purples_d')\n",
    "dom_month_img.set (xlabel= 'Month Released', ylabel= 'Domestic Gross')"
   ]
  },
  {
   "cell_type": "code",
   "execution_count": 16,
   "metadata": {},
   "outputs": [],
   "source": [
    "dom_gross_df = movie_budgets_df.sort_values (by= 'domestic_gross', ascending= False)"
   ]
  },
  {
   "cell_type": "code",
   "execution_count": 17,
   "metadata": {},
   "outputs": [
    {
     "data": {
      "text/html": [
       "<div>\n",
       "<style scoped>\n",
       "    .dataframe tbody tr th:only-of-type {\n",
       "        vertical-align: middle;\n",
       "    }\n",
       "\n",
       "    .dataframe tbody tr th {\n",
       "        vertical-align: top;\n",
       "    }\n",
       "\n",
       "    .dataframe thead th {\n",
       "        text-align: right;\n",
       "    }\n",
       "</style>\n",
       "<table border=\"1\" class=\"dataframe\">\n",
       "  <thead>\n",
       "    <tr style=\"text-align: right;\">\n",
       "      <th></th>\n",
       "      <th>id</th>\n",
       "      <th>release_date</th>\n",
       "      <th>movie</th>\n",
       "      <th>production_budget</th>\n",
       "      <th>domestic_gross</th>\n",
       "      <th>worldwide_gross</th>\n",
       "      <th>release_m</th>\n",
       "    </tr>\n",
       "  </thead>\n",
       "  <tbody>\n",
       "    <tr>\n",
       "      <th>0</th>\n",
       "      <td>6</td>\n",
       "      <td>2015-12-18</td>\n",
       "      <td>Star Wars Ep. VII: The Force Awakens</td>\n",
       "      <td>306000000</td>\n",
       "      <td>936662225</td>\n",
       "      <td>2053311220</td>\n",
       "      <td>12</td>\n",
       "    </tr>\n",
       "    <tr>\n",
       "      <th>1</th>\n",
       "      <td>1</td>\n",
       "      <td>2009-12-18</td>\n",
       "      <td>Avatar</td>\n",
       "      <td>425000000</td>\n",
       "      <td>760507625</td>\n",
       "      <td>2776345279</td>\n",
       "      <td>12</td>\n",
       "    </tr>\n",
       "    <tr>\n",
       "      <th>2</th>\n",
       "      <td>42</td>\n",
       "      <td>2018-02-16</td>\n",
       "      <td>Black Panther</td>\n",
       "      <td>200000000</td>\n",
       "      <td>700059566</td>\n",
       "      <td>1348258224</td>\n",
       "      <td>2</td>\n",
       "    </tr>\n",
       "    <tr>\n",
       "      <th>3</th>\n",
       "      <td>7</td>\n",
       "      <td>2018-04-27</td>\n",
       "      <td>Avengers: Infinity War</td>\n",
       "      <td>300000000</td>\n",
       "      <td>678815482</td>\n",
       "      <td>2048134200</td>\n",
       "      <td>4</td>\n",
       "    </tr>\n",
       "    <tr>\n",
       "      <th>4</th>\n",
       "      <td>43</td>\n",
       "      <td>1997-12-19</td>\n",
       "      <td>Titanic</td>\n",
       "      <td>200000000</td>\n",
       "      <td>659363944</td>\n",
       "      <td>2208208395</td>\n",
       "      <td>12</td>\n",
       "    </tr>\n",
       "    <tr>\n",
       "      <th>5</th>\n",
       "      <td>34</td>\n",
       "      <td>2015-06-12</td>\n",
       "      <td>Jurassic World</td>\n",
       "      <td>215000000</td>\n",
       "      <td>652270625</td>\n",
       "      <td>1648854864</td>\n",
       "      <td>6</td>\n",
       "    </tr>\n",
       "    <tr>\n",
       "      <th>6</th>\n",
       "      <td>27</td>\n",
       "      <td>2012-05-04</td>\n",
       "      <td>The Avengers</td>\n",
       "      <td>225000000</td>\n",
       "      <td>623279547</td>\n",
       "      <td>1517935897</td>\n",
       "      <td>5</td>\n",
       "    </tr>\n",
       "    <tr>\n",
       "      <th>7</th>\n",
       "      <td>5</td>\n",
       "      <td>2017-12-15</td>\n",
       "      <td>Star Wars Ep. VIII: The Last Jedi</td>\n",
       "      <td>317000000</td>\n",
       "      <td>620181382</td>\n",
       "      <td>1316721747</td>\n",
       "      <td>12</td>\n",
       "    </tr>\n",
       "    <tr>\n",
       "      <th>8</th>\n",
       "      <td>44</td>\n",
       "      <td>2018-06-15</td>\n",
       "      <td>Incredibles 2</td>\n",
       "      <td>200000000</td>\n",
       "      <td>608581744</td>\n",
       "      <td>1242520711</td>\n",
       "      <td>6</td>\n",
       "    </tr>\n",
       "    <tr>\n",
       "      <th>9</th>\n",
       "      <td>75</td>\n",
       "      <td>2008-07-18</td>\n",
       "      <td>The Dark Knight</td>\n",
       "      <td>185000000</td>\n",
       "      <td>533720947</td>\n",
       "      <td>1001996207</td>\n",
       "      <td>7</td>\n",
       "    </tr>\n",
       "  </tbody>\n",
       "</table>\n",
       "</div>"
      ],
      "text/plain": [
       "   id release_date                                 movie  production_budget  \\\n",
       "0   6   2015-12-18  Star Wars Ep. VII: The Force Awakens          306000000   \n",
       "1   1   2009-12-18                                Avatar          425000000   \n",
       "2  42   2018-02-16                         Black Panther          200000000   \n",
       "3   7   2018-04-27                Avengers: Infinity War          300000000   \n",
       "4  43   1997-12-19                               Titanic          200000000   \n",
       "5  34   2015-06-12                        Jurassic World          215000000   \n",
       "6  27   2012-05-04                          The Avengers          225000000   \n",
       "7   5   2017-12-15     Star Wars Ep. VIII: The Last Jedi          317000000   \n",
       "8  44   2018-06-15                         Incredibles 2          200000000   \n",
       "9  75   2008-07-18                       The Dark Knight          185000000   \n",
       "\n",
       "   domestic_gross  worldwide_gross  release_m  \n",
       "0       936662225       2053311220         12  \n",
       "1       760507625       2776345279         12  \n",
       "2       700059566       1348258224          2  \n",
       "3       678815482       2048134200          4  \n",
       "4       659363944       2208208395         12  \n",
       "5       652270625       1648854864          6  \n",
       "6       623279547       1517935897          5  \n",
       "7       620181382       1316721747         12  \n",
       "8       608581744       1242520711          6  \n",
       "9       533720947       1001996207          7  "
      ]
     },
     "execution_count": 17,
     "metadata": {},
     "output_type": "execute_result"
    }
   ],
   "source": [
    "dom_gross_df.reset_index(drop=True, inplace=True)\n",
    "dom_gross_df.head(10)"
   ]
  },
  {
   "cell_type": "markdown",
   "metadata": {},
   "source": [
    "Using the graph, we can see that movies that are released in December do well in the box office (domestically). Out of the top 10 movies that made the most, 4 were released in December."
   ]
  },
  {
   "cell_type": "markdown",
   "metadata": {},
   "source": [
    "### Of all the gin joints in all the towns in all the world...\n",
    "But what about worldwide? Does December prove a good month for that too?"
   ]
  },
  {
   "cell_type": "code",
   "execution_count": 18,
   "metadata": {},
   "outputs": [
    {
     "data": {
      "text/plain": [
       "[Text(0.5, 0, 'Month Released'), Text(0, 0.5, 'Worldwide Gross')]"
      ]
     },
     "execution_count": 18,
     "metadata": {},
     "output_type": "execute_result"
    },
    {
     "data": {
      "image/png": "[encoded data removed]",
      "text/plain": [
       "<Figure size 432x288 with 1 Axes>"
      ]
     },
     "metadata": {
      "needs_background": "light"
     },
     "output_type": "display_data"
    }
   ],
   "source": [
    "world_month_img = sns.stripplot (x= 'release_m', y= 'worldwide_gross', data = movie_budgets_df, palette= 'Blues_d')\n",
    "world_month_img.set (xlabel= 'Month Released', ylabel= 'Worldwide Gross')"
   ]
  },
  {
   "cell_type": "code",
   "execution_count": 19,
   "metadata": {},
   "outputs": [],
   "source": [
    "world_gross_df = movie_budgets_df.sort_values(by= 'worldwide_gross', ascending= False)"
   ]
  },
  {
   "cell_type": "code",
   "execution_count": 20,
   "metadata": {
    "scrolled": true
   },
   "outputs": [
    {
     "data": {
      "text/html": [
       "<div>\n",
       "<style scoped>\n",
       "    .dataframe tbody tr th:only-of-type {\n",
       "        vertical-align: middle;\n",
       "    }\n",
       "\n",
       "    .dataframe tbody tr th {\n",
       "        vertical-align: top;\n",
       "    }\n",
       "\n",
       "    .dataframe thead th {\n",
       "        text-align: right;\n",
       "    }\n",
       "</style>\n",
       "<table border=\"1\" class=\"dataframe\">\n",
       "  <thead>\n",
       "    <tr style=\"text-align: right;\">\n",
       "      <th></th>\n",
       "      <th>id</th>\n",
       "      <th>release_date</th>\n",
       "      <th>movie</th>\n",
       "      <th>production_budget</th>\n",
       "      <th>domestic_gross</th>\n",
       "      <th>worldwide_gross</th>\n",
       "      <th>release_m</th>\n",
       "    </tr>\n",
       "  </thead>\n",
       "  <tbody>\n",
       "    <tr>\n",
       "      <th>0</th>\n",
       "      <td>1</td>\n",
       "      <td>2009-12-18</td>\n",
       "      <td>Avatar</td>\n",
       "      <td>425000000</td>\n",
       "      <td>760507625</td>\n",
       "      <td>2776345279</td>\n",
       "      <td>12</td>\n",
       "    </tr>\n",
       "    <tr>\n",
       "      <th>1</th>\n",
       "      <td>43</td>\n",
       "      <td>1997-12-19</td>\n",
       "      <td>Titanic</td>\n",
       "      <td>200000000</td>\n",
       "      <td>659363944</td>\n",
       "      <td>2208208395</td>\n",
       "      <td>12</td>\n",
       "    </tr>\n",
       "    <tr>\n",
       "      <th>2</th>\n",
       "      <td>6</td>\n",
       "      <td>2015-12-18</td>\n",
       "      <td>Star Wars Ep. VII: The Force Awakens</td>\n",
       "      <td>306000000</td>\n",
       "      <td>936662225</td>\n",
       "      <td>2053311220</td>\n",
       "      <td>12</td>\n",
       "    </tr>\n",
       "    <tr>\n",
       "      <th>3</th>\n",
       "      <td>7</td>\n",
       "      <td>2018-04-27</td>\n",
       "      <td>Avengers: Infinity War</td>\n",
       "      <td>300000000</td>\n",
       "      <td>678815482</td>\n",
       "      <td>2048134200</td>\n",
       "      <td>4</td>\n",
       "    </tr>\n",
       "    <tr>\n",
       "      <th>4</th>\n",
       "      <td>34</td>\n",
       "      <td>2015-06-12</td>\n",
       "      <td>Jurassic World</td>\n",
       "      <td>215000000</td>\n",
       "      <td>652270625</td>\n",
       "      <td>1648854864</td>\n",
       "      <td>6</td>\n",
       "    </tr>\n",
       "  </tbody>\n",
       "</table>\n",
       "</div>"
      ],
      "text/plain": [
       "   id release_date                                 movie  production_budget  \\\n",
       "0   1   2009-12-18                                Avatar          425000000   \n",
       "1  43   1997-12-19                               Titanic          200000000   \n",
       "2   6   2015-12-18  Star Wars Ep. VII: The Force Awakens          306000000   \n",
       "3   7   2018-04-27                Avengers: Infinity War          300000000   \n",
       "4  34   2015-06-12                        Jurassic World          215000000   \n",
       "\n",
       "   domestic_gross  worldwide_gross  release_m  \n",
       "0       760507625       2776345279         12  \n",
       "1       659363944       2208208395         12  \n",
       "2       936662225       2053311220         12  \n",
       "3       678815482       2048134200          4  \n",
       "4       652270625       1648854864          6  "
      ]
     },
     "execution_count": 20,
     "metadata": {},
     "output_type": "execute_result"
    }
   ],
   "source": [
    "world_gross_df.reset_index(drop=True, inplace= True)\n",
    "world_gross_df.head()"
   ]
  },
  {
   "cell_type": "markdown",
   "metadata": {},
   "source": [
    "The top 3 highest grossing movies worldwide were all released in December!"
   ]
  },
  {
   "cell_type": "markdown",
   "metadata": {},
   "source": [
    "### Wait a minute, wait a minute. You ain't heard nothin' yet!\n",
    "\n",
    "It looks like, overall, December is a good month to release a film.\n",
    "\n",
    "Let's see which day in December ends up being the most popular to release a movie."
   ]
  },
  {
   "cell_type": "code",
   "execution_count": 21,
   "metadata": {},
   "outputs": [],
   "source": [
    "movie_budgets_df.sort_values (by= 'release_m', ascending= False, inplace= True)\n",
    "movie_budgets_df.reset_index(drop=True, inplace=True)"
   ]
  },
  {
   "cell_type": "code",
   "execution_count": 22,
   "metadata": {},
   "outputs": [],
   "source": [
    "dec_movies_df = movie_budgets_df[:621]\n",
    "dec_movies_df.reset_index(drop= True, inplace= True)"
   ]
  },
  {
   "cell_type": "code",
   "execution_count": 23,
   "metadata": {},
   "outputs": [
    {
     "name": "stderr",
     "output_type": "stream",
     "text": [
      "<ipython-input-23-791ae6e79051>:1: SettingWithCopyWarning: \n",
      "A value is trying to be set on a copy of a slice from a DataFrame.\n",
      "Try using .loc[row_indexer,col_indexer] = value instead\n",
      "\n",
      "See the caveats in the documentation: https://pandas.pydata.org/pandas-docs/stable/user_guide/indexing.html#returning-a-view-versus-a-copy\n",
      "  dec_movies_df['dec_day'] = dec_movies_df['release_date'].dt.day\n"
     ]
    }
   ],
   "source": [
    "dec_movies_df['dec_day'] = dec_movies_df['release_date'].dt.day\n",
    "# dec_movies_df.head(15)"
   ]
  },
  {
   "cell_type": "code",
   "execution_count": 24,
   "metadata": {},
   "outputs": [
    {
     "name": "stderr",
     "output_type": "stream",
     "text": [
      "/Users/cassienutter/opt/anaconda3/envs/learn-env/lib/python3.8/site-packages/seaborn/_decorators.py:36: FutureWarning: Pass the following variable as a keyword arg: x. From version 0.12, the only valid positional argument will be `data`, and passing other arguments without an explicit keyword will result in an error or misinterpretation.\n",
      "  warnings.warn(\n"
     ]
    },
    {
     "data": {
      "text/plain": [
       "[Text(0.5, 0, 'Day in December'), Text(0, 0.5, '# Movies Released')]"
      ]
     },
     "execution_count": 24,
     "metadata": {},
     "output_type": "execute_result"
    },
    {
     "data": {
      "image/png": "[encoded data removed]",
      "text/plain": [
       "<Figure size 864x432 with 1 Axes>"
      ]
     },
     "metadata": {
      "needs_background": "light"
     },
     "output_type": "display_data"
    }
   ],
   "source": [
    "plt.figure(figsize= (12, 6))\n",
    "d_days_img = sns.countplot(dec_movies_df['dec_day'], palette= 'Blues_d')\n",
    "d_days_img.set (xlabel= 'Day in December', ylabel= '# Movies Released')"
   ]
  },
  {
   "cell_type": "markdown",
   "metadata": {},
   "source": [
    "### Go ahead, make my day.\n",
    "\n",
    "Looks like the 25th and 31st are the most popular day to release a film in "
   ]
  },
  {
   "cell_type": "markdown",
   "metadata": {},
   "source": [
    "# Ratings on Top 15 Highest Grossing Films and Studios that Made Them"
   ]
  },
  {
   "cell_type": "code",
   "execution_count": 25,
   "metadata": {},
   "outputs": [
    {
     "data": {
      "text/plain": [
       "tconst                 0\n",
       "primary_title          0\n",
       "original_title        21\n",
       "start_year             0\n",
       "runtime_minutes    31739\n",
       "genres              5408\n",
       "dtype: int64"
      ]
     },
     "execution_count": 25,
     "metadata": {},
     "output_type": "execute_result"
    }
   ],
   "source": [
    "title_basics_df.isna().any()\n",
    "title_basics_df.isna().sum()"
   ]
  },
  {
   "cell_type": "markdown",
   "metadata": {},
   "source": [
    "Going to drop the runtime_minutes column. Not going to do an analysis with it and it has such a large amount of missing data. Don't want to delete all of entries because there is still some good information there."
   ]
  },
  {
   "cell_type": "code",
   "execution_count": 26,
   "metadata": {},
   "outputs": [],
   "source": [
    "new_title_basics_df = title_basics_df.drop(columns = 'runtime_minutes', axis = 1)"
   ]
  },
  {
   "cell_type": "code",
   "execution_count": 27,
   "metadata": {
    "scrolled": true
   },
   "outputs": [
    {
     "data": {
      "text/plain": [
       "tconst            0.000000\n",
       "primary_title     0.000000\n",
       "original_title    0.000144\n",
       "start_year        0.000000\n",
       "genres            0.037005\n",
       "dtype: float64"
      ]
     },
     "execution_count": 27,
     "metadata": {},
     "output_type": "execute_result"
    }
   ],
   "source": [
    "new_title_basics_df.isna().sum() / len (new_title_basics_df)"
   ]
  },
  {
   "cell_type": "markdown",
   "metadata": {},
   "source": [
    "I'd really like to do some analysis in genres. It looks like I can stand to lose 3.7% of data and a very small amount due to the 'original_title' missing. I'll go ahead and drop all that."
   ]
  },
  {
   "cell_type": "code",
   "execution_count": 28,
   "metadata": {},
   "outputs": [],
   "source": [
    "new_title_basics_df.dropna (axis = 0, inplace=True)"
   ]
  },
  {
   "cell_type": "code",
   "execution_count": 29,
   "metadata": {},
   "outputs": [
    {
     "data": {
      "text/plain": [
       "tconst            0\n",
       "primary_title     0\n",
       "original_title    0\n",
       "start_year        0\n",
       "genres            0\n",
       "dtype: int64"
      ]
     },
     "execution_count": 29,
     "metadata": {},
     "output_type": "execute_result"
    }
   ],
   "source": [
    "#did it work? YEP!\n",
    "new_title_basics_df.isna().sum()"
   ]
  },
  {
   "cell_type": "code",
   "execution_count": 30,
   "metadata": {},
   "outputs": [
    {
     "data": {
      "text/plain": [
       "140734"
      ]
     },
     "execution_count": 30,
     "metadata": {},
     "output_type": "execute_result"
    }
   ],
   "source": [
    "#And we still have plenty of data to work with\n",
    "len (new_title_basics_df) "
   ]
  },
  {
   "cell_type": "markdown",
   "metadata": {},
   "source": [
    "Going to join another file and then see the other missing values that are present."
   ]
  },
  {
   "cell_type": "code",
   "execution_count": 31,
   "metadata": {},
   "outputs": [],
   "source": [
    "titles_together_df = pd.merge(new_title_basics_df, title_ratings_df, how = 'left', left_on = 'tconst', right_on = 'tconst')"
   ]
  },
  {
   "cell_type": "code",
   "execution_count": 32,
   "metadata": {},
   "outputs": [
    {
     "data": {
      "text/plain": [
       "tconst                0\n",
       "primary_title         0\n",
       "original_title        0\n",
       "start_year            0\n",
       "genres                0\n",
       "averagerating     67682\n",
       "numvotes          67682\n",
       "dtype: int64"
      ]
     },
     "execution_count": 32,
     "metadata": {},
     "output_type": "execute_result"
    }
   ],
   "source": [
    "# len (titles_together_df)\n",
    "# titles_together_df.head()\n",
    "titles_together_df.isna().sum()"
   ]
  },
  {
   "cell_type": "code",
   "execution_count": 33,
   "metadata": {},
   "outputs": [
    {
     "data": {
      "text/plain": [
       "tconst            0.000000\n",
       "primary_title     0.000000\n",
       "original_title    0.000000\n",
       "start_year        0.000000\n",
       "genres            0.000000\n",
       "averagerating     0.480921\n",
       "numvotes          0.480921\n",
       "dtype: float64"
      ]
     },
     "execution_count": 33,
     "metadata": {},
     "output_type": "execute_result"
    }
   ],
   "source": [
    "titles_together_df.isna().sum() / len (titles_together_df)"
   ]
  },
  {
   "cell_type": "markdown",
   "metadata": {},
   "source": [
    "WHOA! Almost 50% of our data is null for 'averagerating' and 'numvotes'!\n",
    "\n",
    "We are going to merge in a much smaller DataFrame, so there is a good chance a lot of those will fall off."
   ]
  },
  {
   "cell_type": "code",
   "execution_count": 34,
   "metadata": {},
   "outputs": [],
   "source": [
    "#Merge movie_gross_df to the titles df to be able to analyze studios, ratings, money made, and genres\n",
    "titles_and_gross_df = pd.merge(movie_gross_df, titles_together_df, how = 'inner', left_on= 'title', right_on= 'primary_title')"
   ]
  },
  {
   "cell_type": "code",
   "execution_count": 35,
   "metadata": {},
   "outputs": [
    {
     "data": {
      "text/plain": [
       "title             0.000000\n",
       "studio            0.000902\n",
       "domestic_gross    0.007216\n",
       "foreign_gross     0.393867\n",
       "year              0.000000\n",
       "tconst            0.000000\n",
       "primary_title     0.000000\n",
       "original_title    0.000000\n",
       "start_year        0.000000\n",
       "genres            0.000000\n",
       "averagerating     0.092002\n",
       "numvotes          0.092002\n",
       "dtype: float64"
      ]
     },
     "execution_count": 35,
     "metadata": {},
     "output_type": "execute_result"
    }
   ],
   "source": [
    "titles_and_gross_df.isna().sum() / len (titles_and_gross_df)"
   ]
  },
  {
   "cell_type": "markdown",
   "metadata": {},
   "source": [
    "Let's get rid of those pesky NaN values!\n",
    "But I don't want to lose over a third of my data, so I'm going to drop the foreign_gross column (along with some other columns) and just look at domestic_gross. \n",
    "Then I'll drop the NaN values."
   ]
  },
  {
   "cell_type": "code",
   "execution_count": 36,
   "metadata": {},
   "outputs": [],
   "source": [
    "titles_and_gross_df = titles_and_gross_df.drop (['foreign_gross', 'primary_title', 'original_title', 'tconst'], axis = 1)"
   ]
  },
  {
   "cell_type": "code",
   "execution_count": 37,
   "metadata": {},
   "outputs": [],
   "source": [
    "titles_and_gross_df.dropna(axis= 0, inplace= True)"
   ]
  },
  {
   "cell_type": "code",
   "execution_count": 38,
   "metadata": {},
   "outputs": [
    {
     "data": {
      "text/plain": [
       "title             0\n",
       "studio            0\n",
       "domestic_gross    0\n",
       "year              0\n",
       "start_year        0\n",
       "genres            0\n",
       "averagerating     0\n",
       "numvotes          0\n",
       "dtype: int64"
      ]
     },
     "execution_count": 38,
     "metadata": {},
     "output_type": "execute_result"
    }
   ],
   "source": [
    "titles_and_gross_df.isna().sum()\n",
    "# len (titles_and_gross_df)\n",
    "# titles_and_gross_df.head()"
   ]
  },
  {
   "cell_type": "code",
   "execution_count": 39,
   "metadata": {},
   "outputs": [],
   "source": [
    "titles_and_gross_df = titles_and_gross_df.sort_values (by= ['domestic_gross'], ascending= False)\n",
    "titles_and_gross_df.reset_index(drop=True, inplace=True)"
   ]
  },
  {
   "cell_type": "code",
   "execution_count": 40,
   "metadata": {},
   "outputs": [
    {
     "data": {
      "text/html": [
       "<div>\n",
       "<style scoped>\n",
       "    .dataframe tbody tr th:only-of-type {\n",
       "        vertical-align: middle;\n",
       "    }\n",
       "\n",
       "    .dataframe tbody tr th {\n",
       "        vertical-align: top;\n",
       "    }\n",
       "\n",
       "    .dataframe thead th {\n",
       "        text-align: right;\n",
       "    }\n",
       "</style>\n",
       "<table border=\"1\" class=\"dataframe\">\n",
       "  <thead>\n",
       "    <tr style=\"text-align: right;\">\n",
       "      <th></th>\n",
       "      <th>title</th>\n",
       "      <th>studio</th>\n",
       "      <th>domestic_gross</th>\n",
       "      <th>year</th>\n",
       "      <th>start_year</th>\n",
       "      <th>genres</th>\n",
       "      <th>averagerating</th>\n",
       "      <th>numvotes</th>\n",
       "    </tr>\n",
       "  </thead>\n",
       "  <tbody>\n",
       "    <tr>\n",
       "      <th>0</th>\n",
       "      <td>Black Panther</td>\n",
       "      <td>BV</td>\n",
       "      <td>700100000.0</td>\n",
       "      <td>2018</td>\n",
       "      <td>2018</td>\n",
       "      <td>Action,Adventure,Sci-Fi</td>\n",
       "      <td>7.3</td>\n",
       "      <td>516148.0</td>\n",
       "    </tr>\n",
       "    <tr>\n",
       "      <th>1</th>\n",
       "      <td>Avengers: Infinity War</td>\n",
       "      <td>BV</td>\n",
       "      <td>678800000.0</td>\n",
       "      <td>2018</td>\n",
       "      <td>2018</td>\n",
       "      <td>Action,Adventure,Sci-Fi</td>\n",
       "      <td>8.5</td>\n",
       "      <td>670926.0</td>\n",
       "    </tr>\n",
       "    <tr>\n",
       "      <th>2</th>\n",
       "      <td>Jurassic World</td>\n",
       "      <td>Uni.</td>\n",
       "      <td>652300000.0</td>\n",
       "      <td>2015</td>\n",
       "      <td>2015</td>\n",
       "      <td>Action,Adventure,Sci-Fi</td>\n",
       "      <td>7.0</td>\n",
       "      <td>539338.0</td>\n",
       "    </tr>\n",
       "    <tr>\n",
       "      <th>3</th>\n",
       "      <td>Star Wars: The Last Jedi</td>\n",
       "      <td>BV</td>\n",
       "      <td>620200000.0</td>\n",
       "      <td>2017</td>\n",
       "      <td>2017</td>\n",
       "      <td>Action,Adventure,Fantasy</td>\n",
       "      <td>7.1</td>\n",
       "      <td>462903.0</td>\n",
       "    </tr>\n",
       "    <tr>\n",
       "      <th>4</th>\n",
       "      <td>Incredibles 2</td>\n",
       "      <td>BV</td>\n",
       "      <td>608600000.0</td>\n",
       "      <td>2018</td>\n",
       "      <td>2018</td>\n",
       "      <td>Action,Adventure,Animation</td>\n",
       "      <td>7.7</td>\n",
       "      <td>203510.0</td>\n",
       "    </tr>\n",
       "    <tr>\n",
       "      <th>5</th>\n",
       "      <td>Rogue One: A Star Wars Story</td>\n",
       "      <td>BV</td>\n",
       "      <td>532200000.0</td>\n",
       "      <td>2016</td>\n",
       "      <td>2016</td>\n",
       "      <td>Action,Adventure,Sci-Fi</td>\n",
       "      <td>7.8</td>\n",
       "      <td>478592.0</td>\n",
       "    </tr>\n",
       "    <tr>\n",
       "      <th>6</th>\n",
       "      <td>Finding Dory</td>\n",
       "      <td>BV</td>\n",
       "      <td>486300000.0</td>\n",
       "      <td>2016</td>\n",
       "      <td>2016</td>\n",
       "      <td>Adventure,Animation,Comedy</td>\n",
       "      <td>7.3</td>\n",
       "      <td>213542.0</td>\n",
       "    </tr>\n",
       "    <tr>\n",
       "      <th>7</th>\n",
       "      <td>Avengers: Age of Ultron</td>\n",
       "      <td>BV</td>\n",
       "      <td>459000000.0</td>\n",
       "      <td>2015</td>\n",
       "      <td>2015</td>\n",
       "      <td>Action,Adventure,Sci-Fi</td>\n",
       "      <td>7.3</td>\n",
       "      <td>665594.0</td>\n",
       "    </tr>\n",
       "    <tr>\n",
       "      <th>8</th>\n",
       "      <td>The Dark Knight Rises</td>\n",
       "      <td>WB</td>\n",
       "      <td>448100000.0</td>\n",
       "      <td>2012</td>\n",
       "      <td>2012</td>\n",
       "      <td>Action,Thriller</td>\n",
       "      <td>8.4</td>\n",
       "      <td>1387769.0</td>\n",
       "    </tr>\n",
       "    <tr>\n",
       "      <th>9</th>\n",
       "      <td>The Hunger Games: Catching Fire</td>\n",
       "      <td>LGF</td>\n",
       "      <td>424700000.0</td>\n",
       "      <td>2013</td>\n",
       "      <td>2013</td>\n",
       "      <td>Action,Adventure,Sci-Fi</td>\n",
       "      <td>7.5</td>\n",
       "      <td>575455.0</td>\n",
       "    </tr>\n",
       "    <tr>\n",
       "      <th>10</th>\n",
       "      <td>Jurassic World: Fallen Kingdom</td>\n",
       "      <td>Uni.</td>\n",
       "      <td>417700000.0</td>\n",
       "      <td>2018</td>\n",
       "      <td>2018</td>\n",
       "      <td>Action,Adventure,Sci-Fi</td>\n",
       "      <td>6.2</td>\n",
       "      <td>219125.0</td>\n",
       "    </tr>\n",
       "    <tr>\n",
       "      <th>11</th>\n",
       "      <td>Toy Story 3</td>\n",
       "      <td>BV</td>\n",
       "      <td>415000000.0</td>\n",
       "      <td>2010</td>\n",
       "      <td>2010</td>\n",
       "      <td>Adventure,Animation,Comedy</td>\n",
       "      <td>8.3</td>\n",
       "      <td>682218.0</td>\n",
       "    </tr>\n",
       "    <tr>\n",
       "      <th>12</th>\n",
       "      <td>Wonder Woman</td>\n",
       "      <td>WB</td>\n",
       "      <td>412600000.0</td>\n",
       "      <td>2017</td>\n",
       "      <td>2016</td>\n",
       "      <td>Documentary,Drama,Sport</td>\n",
       "      <td>6.9</td>\n",
       "      <td>13.0</td>\n",
       "    </tr>\n",
       "    <tr>\n",
       "      <th>13</th>\n",
       "      <td>Wonder Woman</td>\n",
       "      <td>WB</td>\n",
       "      <td>412600000.0</td>\n",
       "      <td>2017</td>\n",
       "      <td>2014</td>\n",
       "      <td>Sci-Fi</td>\n",
       "      <td>4.2</td>\n",
       "      <td>20.0</td>\n",
       "    </tr>\n",
       "    <tr>\n",
       "      <th>14</th>\n",
       "      <td>Wonder Woman</td>\n",
       "      <td>WB</td>\n",
       "      <td>412600000.0</td>\n",
       "      <td>2017</td>\n",
       "      <td>2017</td>\n",
       "      <td>Action,Adventure,Fantasy</td>\n",
       "      <td>7.5</td>\n",
       "      <td>487527.0</td>\n",
       "    </tr>\n",
       "  </tbody>\n",
       "</table>\n",
       "</div>"
      ],
      "text/plain": [
       "                              title studio  domestic_gross  year  start_year  \\\n",
       "0                     Black Panther     BV     700100000.0  2018        2018   \n",
       "1            Avengers: Infinity War     BV     678800000.0  2018        2018   \n",
       "2                    Jurassic World   Uni.     652300000.0  2015        2015   \n",
       "3          Star Wars: The Last Jedi     BV     620200000.0  2017        2017   \n",
       "4                     Incredibles 2     BV     608600000.0  2018        2018   \n",
       "5      Rogue One: A Star Wars Story     BV     532200000.0  2016        2016   \n",
       "6                      Finding Dory     BV     486300000.0  2016        2016   \n",
       "7           Avengers: Age of Ultron     BV     459000000.0  2015        2015   \n",
       "8             The Dark Knight Rises     WB     448100000.0  2012        2012   \n",
       "9   The Hunger Games: Catching Fire    LGF     424700000.0  2013        2013   \n",
       "10   Jurassic World: Fallen Kingdom   Uni.     417700000.0  2018        2018   \n",
       "11                      Toy Story 3     BV     415000000.0  2010        2010   \n",
       "12                     Wonder Woman     WB     412600000.0  2017        2016   \n",
       "13                     Wonder Woman     WB     412600000.0  2017        2014   \n",
       "14                     Wonder Woman     WB     412600000.0  2017        2017   \n",
       "\n",
       "                        genres  averagerating   numvotes  \n",
       "0      Action,Adventure,Sci-Fi            7.3   516148.0  \n",
       "1      Action,Adventure,Sci-Fi            8.5   670926.0  \n",
       "2      Action,Adventure,Sci-Fi            7.0   539338.0  \n",
       "3     Action,Adventure,Fantasy            7.1   462903.0  \n",
       "4   Action,Adventure,Animation            7.7   203510.0  \n",
       "5      Action,Adventure,Sci-Fi            7.8   478592.0  \n",
       "6   Adventure,Animation,Comedy            7.3   213542.0  \n",
       "7      Action,Adventure,Sci-Fi            7.3   665594.0  \n",
       "8              Action,Thriller            8.4  1387769.0  \n",
       "9      Action,Adventure,Sci-Fi            7.5   575455.0  \n",
       "10     Action,Adventure,Sci-Fi            6.2   219125.0  \n",
       "11  Adventure,Animation,Comedy            8.3   682218.0  \n",
       "12     Documentary,Drama,Sport            6.9       13.0  \n",
       "13                      Sci-Fi            4.2       20.0  \n",
       "14    Action,Adventure,Fantasy            7.5   487527.0  "
      ]
     },
     "execution_count": 40,
     "metadata": {},
     "output_type": "execute_result"
    }
   ],
   "source": [
    "titles_and_gross_df.head(15)"
   ]
  },
  {
   "cell_type": "markdown",
   "metadata": {},
   "source": [
    "WHOA! I see some duplicates! Let's get rid of those."
   ]
  },
  {
   "cell_type": "code",
   "execution_count": 41,
   "metadata": {},
   "outputs": [],
   "source": [
    "# dup_df = titles_and_gross_df.duplicated(subset = 'title')\n",
    "# dup_df.sum()\n",
    "# Does that say 417 duplicates?!"
   ]
  },
  {
   "cell_type": "code",
   "execution_count": 42,
   "metadata": {},
   "outputs": [],
   "source": [
    "#How about we drop those guys!\n",
    "titles_and_gross_df= titles_and_gross_df.drop_duplicates(subset = 'title').reset_index(drop= True)"
   ]
  },
  {
   "cell_type": "code",
   "execution_count": 43,
   "metadata": {},
   "outputs": [
    {
     "data": {
      "text/plain": [
       "2580"
      ]
     },
     "execution_count": 43,
     "metadata": {},
     "output_type": "execute_result"
    }
   ],
   "source": [
    "len (titles_and_gross_df)\n",
    "# titles_and_gross_df.head(15)"
   ]
  },
  {
   "cell_type": "markdown",
   "metadata": {},
   "source": [
    "Finally!\n",
    "\n",
    "Duplicates are gone, as are NaN values. \n",
    "\n",
    "Let's get to work!"
   ]
  },
  {
   "cell_type": "code",
   "execution_count": 44,
   "metadata": {},
   "outputs": [
    {
     "data": {
      "text/plain": [
       "[Text(0.5, 0, 'Average Rating'), Text(0, 0.5, 'Top 15 Highest Grossing Films')]"
      ]
     },
     "execution_count": 44,
     "metadata": {},
     "output_type": "execute_result"
    },
    {
     "data": {
      "image/png": "[encoded data removed]",
      "text/plain": [
       "<Figure size 864x360 with 1 Axes>"
      ]
     },
     "metadata": {
      "needs_background": "light"
     },
     "output_type": "display_data"
    }
   ],
   "source": [
    "plt.figure(figsize= (12,5))\n",
    "rating_gross_img = sns.barplot(x= 'averagerating', y= 'title', data= titles_and_gross_df[:15], palette= 'Greens_d')\n",
    "rating_gross_img.set (xlabel = 'Average Rating', ylabel = 'Top 15 Highest Grossing Films')"
   ]
  },
  {
   "cell_type": "markdown",
   "metadata": {},
   "source": [
    "### Elementary, my dear Watson\n",
    "\n",
    "Hmmm. Even though Jurassic World: Fallen Kingdom did well in the box office, the audience members that reviewed it did not like it."
   ]
  },
  {
   "cell_type": "markdown",
   "metadata": {},
   "source": [
    "Now let's take a look at the studios that make these movies:"
   ]
  },
  {
   "cell_type": "code",
   "execution_count": 45,
   "metadata": {},
   "outputs": [],
   "source": [
    "# DataFrame of only top 15 grossing movies\n",
    "top_fifteen_df = titles_and_gross_df[:15]"
   ]
  },
  {
   "cell_type": "code",
   "execution_count": 46,
   "metadata": {},
   "outputs": [
    {
     "data": {
      "text/plain": [
       "[Text(0.5, 0, 'Studio'), Text(0, 0.5, '# of Top 15 Movies')]"
      ]
     },
     "execution_count": 46,
     "metadata": {},
     "output_type": "execute_result"
    },
    {
     "data": {
      "image/png": "[encoded data removed]",
      "text/plain": [
       "<Figure size 504x360 with 1 Axes>"
      ]
     },
     "metadata": {
      "needs_background": "light"
     },
     "output_type": "display_data"
    }
   ],
   "source": [
    "plt.figure(figsize= (7,5))\n",
    "count_studio_img = sns.countplot (x = 'studio', data= top_fifteen_df, palette='husl')\n",
    "count_studio_img.set (xlabel= 'Studio', ylabel= '# of Top 15 Movies')"
   ]
  },
  {
   "cell_type": "markdown",
   "metadata": {},
   "source": [
    "### Nobody puts BV in a corner.\n",
    "WHOA! It looks like if you want a hit, better look to see what \"BV\" or Buena Vista (AKA Disney), is doing. They have made ten out of the top fifteen highest grossing movies!"
   ]
  },
  {
   "cell_type": "markdown",
   "metadata": {},
   "source": [
    "# Return on Investment and Genres"
   ]
  },
  {
   "cell_type": "code",
   "execution_count": 47,
   "metadata": {},
   "outputs": [],
   "source": [
    "movie_budgets_df['difference'] = movie_budgets_df['worldwide_gross'] - movie_budgets_df['production_budget']\n",
    "#Find the net profit"
   ]
  },
  {
   "cell_type": "code",
   "execution_count": 48,
   "metadata": {},
   "outputs": [],
   "source": [
    "movie_budgets_df['roi'] = (movie_budgets_df['difference'] / movie_budgets_df['production_budget']) * 100\n",
    "movie_budgets_df['roi'] = movie_budgets_df['roi'].round(2)\n",
    "#Get the ROI by dividing the net profit by the budget and then multiply by 100 to get into a percent"
   ]
  },
  {
   "cell_type": "markdown",
   "metadata": {},
   "source": [
    "There are our two new columns! Let's run a quick analysis on the movies with the greatest ROI."
   ]
  },
  {
   "cell_type": "code",
   "execution_count": 49,
   "metadata": {},
   "outputs": [],
   "source": [
    "movie_budgets_df = movie_budgets_df.sort_values (by= ['roi'], ascending= False)\n",
    "movie_budgets_df.reset_index(drop=True, inplace=True)"
   ]
  },
  {
   "cell_type": "code",
   "execution_count": 50,
   "metadata": {},
   "outputs": [
    {
     "data": {
      "text/html": [
       "<div>\n",
       "<style scoped>\n",
       "    .dataframe tbody tr th:only-of-type {\n",
       "        vertical-align: middle;\n",
       "    }\n",
       "\n",
       "    .dataframe tbody tr th {\n",
       "        vertical-align: top;\n",
       "    }\n",
       "\n",
       "    .dataframe thead th {\n",
       "        text-align: right;\n",
       "    }\n",
       "</style>\n",
       "<table border=\"1\" class=\"dataframe\">\n",
       "  <thead>\n",
       "    <tr style=\"text-align: right;\">\n",
       "      <th></th>\n",
       "      <th>id</th>\n",
       "      <th>release_date</th>\n",
       "      <th>movie</th>\n",
       "      <th>production_budget</th>\n",
       "      <th>domestic_gross</th>\n",
       "      <th>worldwide_gross</th>\n",
       "      <th>release_m</th>\n",
       "      <th>difference</th>\n",
       "      <th>roi</th>\n",
       "    </tr>\n",
       "  </thead>\n",
       "  <tbody>\n",
       "    <tr>\n",
       "      <th>0</th>\n",
       "      <td>46</td>\n",
       "      <td>1972-06-30</td>\n",
       "      <td>Deep Throat</td>\n",
       "      <td>25000</td>\n",
       "      <td>45000000</td>\n",
       "      <td>45000000</td>\n",
       "      <td>6</td>\n",
       "      <td>44975000</td>\n",
       "      <td>179900.00</td>\n",
       "    </tr>\n",
       "    <tr>\n",
       "      <th>1</th>\n",
       "      <td>14</td>\n",
       "      <td>1980-03-21</td>\n",
       "      <td>Mad Max</td>\n",
       "      <td>200000</td>\n",
       "      <td>8750000</td>\n",
       "      <td>99750000</td>\n",
       "      <td>3</td>\n",
       "      <td>99550000</td>\n",
       "      <td>49775.00</td>\n",
       "    </tr>\n",
       "    <tr>\n",
       "      <th>2</th>\n",
       "      <td>93</td>\n",
       "      <td>2009-09-25</td>\n",
       "      <td>Paranormal Activity</td>\n",
       "      <td>450000</td>\n",
       "      <td>107918810</td>\n",
       "      <td>194183034</td>\n",
       "      <td>9</td>\n",
       "      <td>193733034</td>\n",
       "      <td>43051.79</td>\n",
       "    </tr>\n",
       "    <tr>\n",
       "      <th>3</th>\n",
       "      <td>80</td>\n",
       "      <td>2015-07-10</td>\n",
       "      <td>The Gallows</td>\n",
       "      <td>100000</td>\n",
       "      <td>22764410</td>\n",
       "      <td>41656474</td>\n",
       "      <td>7</td>\n",
       "      <td>41556474</td>\n",
       "      <td>41556.47</td>\n",
       "    </tr>\n",
       "    <tr>\n",
       "      <th>4</th>\n",
       "      <td>7</td>\n",
       "      <td>1999-07-14</td>\n",
       "      <td>The Blair Witch Project</td>\n",
       "      <td>600000</td>\n",
       "      <td>140539099</td>\n",
       "      <td>248300000</td>\n",
       "      <td>7</td>\n",
       "      <td>247700000</td>\n",
       "      <td>41283.33</td>\n",
       "    </tr>\n",
       "    <tr>\n",
       "      <th>5</th>\n",
       "      <td>10</td>\n",
       "      <td>2004-05-07</td>\n",
       "      <td>Super Size Me</td>\n",
       "      <td>65000</td>\n",
       "      <td>11529368</td>\n",
       "      <td>22233808</td>\n",
       "      <td>5</td>\n",
       "      <td>22168808</td>\n",
       "      <td>34105.86</td>\n",
       "    </tr>\n",
       "    <tr>\n",
       "      <th>6</th>\n",
       "      <td>47</td>\n",
       "      <td>1942-08-13</td>\n",
       "      <td>Bambi</td>\n",
       "      <td>858000</td>\n",
       "      <td>102797000</td>\n",
       "      <td>268000000</td>\n",
       "      <td>8</td>\n",
       "      <td>267142000</td>\n",
       "      <td>31135.43</td>\n",
       "    </tr>\n",
       "    <tr>\n",
       "      <th>7</th>\n",
       "      <td>74</td>\n",
       "      <td>1993-02-26</td>\n",
       "      <td>El Mariachi</td>\n",
       "      <td>7000</td>\n",
       "      <td>2040920</td>\n",
       "      <td>2041928</td>\n",
       "      <td>2</td>\n",
       "      <td>2034928</td>\n",
       "      <td>29070.40</td>\n",
       "    </tr>\n",
       "    <tr>\n",
       "      <th>8</th>\n",
       "      <td>77</td>\n",
       "      <td>1968-10-01</td>\n",
       "      <td>Night of the Living Dead</td>\n",
       "      <td>114000</td>\n",
       "      <td>12087064</td>\n",
       "      <td>30087064</td>\n",
       "      <td>10</td>\n",
       "      <td>29973064</td>\n",
       "      <td>26292.16</td>\n",
       "    </tr>\n",
       "    <tr>\n",
       "      <th>9</th>\n",
       "      <td>11</td>\n",
       "      <td>1976-11-21</td>\n",
       "      <td>Rocky</td>\n",
       "      <td>1000000</td>\n",
       "      <td>117235147</td>\n",
       "      <td>225000000</td>\n",
       "      <td>11</td>\n",
       "      <td>224000000</td>\n",
       "      <td>22400.00</td>\n",
       "    </tr>\n",
       "    <tr>\n",
       "      <th>10</th>\n",
       "      <td>37</td>\n",
       "      <td>1978-10-17</td>\n",
       "      <td>Halloween</td>\n",
       "      <td>325000</td>\n",
       "      <td>47000000</td>\n",
       "      <td>70000000</td>\n",
       "      <td>10</td>\n",
       "      <td>69675000</td>\n",
       "      <td>21438.46</td>\n",
       "    </tr>\n",
       "    <tr>\n",
       "      <th>11</th>\n",
       "      <td>16</td>\n",
       "      <td>1995-08-09</td>\n",
       "      <td>The Brothers McMullen</td>\n",
       "      <td>50000</td>\n",
       "      <td>10426506</td>\n",
       "      <td>10426506</td>\n",
       "      <td>8</td>\n",
       "      <td>10376506</td>\n",
       "      <td>20753.01</td>\n",
       "    </tr>\n",
       "    <tr>\n",
       "      <th>12</th>\n",
       "      <td>66</td>\n",
       "      <td>1974-10-18</td>\n",
       "      <td>The Texas Chainsaw Massacre</td>\n",
       "      <td>140000</td>\n",
       "      <td>26572439</td>\n",
       "      <td>26572439</td>\n",
       "      <td>10</td>\n",
       "      <td>26432439</td>\n",
       "      <td>18880.31</td>\n",
       "    </tr>\n",
       "    <tr>\n",
       "      <th>13</th>\n",
       "      <td>73</td>\n",
       "      <td>1973-08-11</td>\n",
       "      <td>American Graffiti</td>\n",
       "      <td>777000</td>\n",
       "      <td>115000000</td>\n",
       "      <td>140000000</td>\n",
       "      <td>8</td>\n",
       "      <td>139223000</td>\n",
       "      <td>17918.02</td>\n",
       "    </tr>\n",
       "    <tr>\n",
       "      <th>14</th>\n",
       "      <td>82</td>\n",
       "      <td>2005-08-05</td>\n",
       "      <td>My Date With Drew</td>\n",
       "      <td>1100</td>\n",
       "      <td>181041</td>\n",
       "      <td>181041</td>\n",
       "      <td>8</td>\n",
       "      <td>179941</td>\n",
       "      <td>16358.27</td>\n",
       "    </tr>\n",
       "  </tbody>\n",
       "</table>\n",
       "</div>"
      ],
      "text/plain": [
       "    id release_date                        movie  production_budget  \\\n",
       "0   46   1972-06-30                  Deep Throat              25000   \n",
       "1   14   1980-03-21                      Mad Max             200000   \n",
       "2   93   2009-09-25          Paranormal Activity             450000   \n",
       "3   80   2015-07-10                  The Gallows             100000   \n",
       "4    7   1999-07-14      The Blair Witch Project             600000   \n",
       "5   10   2004-05-07                Super Size Me              65000   \n",
       "6   47   1942-08-13                        Bambi             858000   \n",
       "7   74   1993-02-26                  El Mariachi               7000   \n",
       "8   77   1968-10-01     Night of the Living Dead             114000   \n",
       "9   11   1976-11-21                        Rocky            1000000   \n",
       "10  37   1978-10-17                    Halloween             325000   \n",
       "11  16   1995-08-09        The Brothers McMullen              50000   \n",
       "12  66   1974-10-18  The Texas Chainsaw Massacre             140000   \n",
       "13  73   1973-08-11            American Graffiti             777000   \n",
       "14  82   2005-08-05            My Date With Drew               1100   \n",
       "\n",
       "    domestic_gross  worldwide_gross  release_m  difference        roi  \n",
       "0         45000000         45000000          6    44975000  179900.00  \n",
       "1          8750000         99750000          3    99550000   49775.00  \n",
       "2        107918810        194183034          9   193733034   43051.79  \n",
       "3         22764410         41656474          7    41556474   41556.47  \n",
       "4        140539099        248300000          7   247700000   41283.33  \n",
       "5         11529368         22233808          5    22168808   34105.86  \n",
       "6        102797000        268000000          8   267142000   31135.43  \n",
       "7          2040920          2041928          2     2034928   29070.40  \n",
       "8         12087064         30087064         10    29973064   26292.16  \n",
       "9        117235147        225000000         11   224000000   22400.00  \n",
       "10        47000000         70000000         10    69675000   21438.46  \n",
       "11        10426506         10426506          8    10376506   20753.01  \n",
       "12        26572439         26572439         10    26432439   18880.31  \n",
       "13       115000000        140000000          8   139223000   17918.02  \n",
       "14          181041           181041          8      179941   16358.27  "
      ]
     },
     "execution_count": 50,
     "metadata": {},
     "output_type": "execute_result"
    }
   ],
   "source": [
    "movie_budgets_df.head(15)\n",
    "# Hmmmm... Looking at the years, most of these movies are over 20 years old. \n",
    "# Let's see if we can find some newer data to look at.\n",
    "\n",
    "#But already it looks like Horror or Thriller-type movies have an excellent ROI"
   ]
  },
  {
   "cell_type": "code",
   "execution_count": 51,
   "metadata": {},
   "outputs": [],
   "source": [
    "# Let's make a year column so we can sort (and eliminate) them easier\n",
    "movie_budgets_df ['release_y'] = movie_budgets_df ['release_date'].dt.year"
   ]
  },
  {
   "cell_type": "code",
   "execution_count": 52,
   "metadata": {},
   "outputs": [],
   "source": [
    "# Now we can arrange them by the newest years first\n",
    "movie_budgets_df.sort_values(by= ['release_y'], ascending= False, inplace=True)\n",
    "movie_budgets_df.reset_index(drop=True, inplace=True)"
   ]
  },
  {
   "cell_type": "code",
   "execution_count": 53,
   "metadata": {
    "scrolled": true
   },
   "outputs": [
    {
     "data": {
      "text/html": [
       "<div>\n",
       "<style scoped>\n",
       "    .dataframe tbody tr th:only-of-type {\n",
       "        vertical-align: middle;\n",
       "    }\n",
       "\n",
       "    .dataframe tbody tr th {\n",
       "        vertical-align: top;\n",
       "    }\n",
       "\n",
       "    .dataframe thead th {\n",
       "        text-align: right;\n",
       "    }\n",
       "</style>\n",
       "<table border=\"1\" class=\"dataframe\">\n",
       "  <thead>\n",
       "    <tr style=\"text-align: right;\">\n",
       "      <th></th>\n",
       "      <th>id</th>\n",
       "      <th>release_date</th>\n",
       "      <th>movie</th>\n",
       "      <th>production_budget</th>\n",
       "      <th>domestic_gross</th>\n",
       "      <th>worldwide_gross</th>\n",
       "      <th>release_m</th>\n",
       "      <th>difference</th>\n",
       "      <th>roi</th>\n",
       "      <th>release_y</th>\n",
       "    </tr>\n",
       "  </thead>\n",
       "  <tbody>\n",
       "    <tr>\n",
       "      <th>0</th>\n",
       "      <td>36</td>\n",
       "      <td>2020-02-21</td>\n",
       "      <td>Call of the Wild</td>\n",
       "      <td>82000000</td>\n",
       "      <td>0</td>\n",
       "      <td>0</td>\n",
       "      <td>2</td>\n",
       "      <td>-82000000</td>\n",
       "      <td>-100.00</td>\n",
       "      <td>2020</td>\n",
       "    </tr>\n",
       "    <tr>\n",
       "      <th>1</th>\n",
       "      <td>95</td>\n",
       "      <td>2020-12-31</td>\n",
       "      <td>Moonfall</td>\n",
       "      <td>150000000</td>\n",
       "      <td>0</td>\n",
       "      <td>0</td>\n",
       "      <td>12</td>\n",
       "      <td>-150000000</td>\n",
       "      <td>-100.00</td>\n",
       "      <td>2020</td>\n",
       "    </tr>\n",
       "    <tr>\n",
       "      <th>2</th>\n",
       "      <td>6</td>\n",
       "      <td>2020-12-31</td>\n",
       "      <td>Hannibal the Conqueror</td>\n",
       "      <td>50000000</td>\n",
       "      <td>0</td>\n",
       "      <td>0</td>\n",
       "      <td>12</td>\n",
       "      <td>-50000000</td>\n",
       "      <td>-100.00</td>\n",
       "      <td>2020</td>\n",
       "    </tr>\n",
       "    <tr>\n",
       "      <th>3</th>\n",
       "      <td>75</td>\n",
       "      <td>2019-05-03</td>\n",
       "      <td>Long Shot</td>\n",
       "      <td>40000000</td>\n",
       "      <td>30202860</td>\n",
       "      <td>43711031</td>\n",
       "      <td>5</td>\n",
       "      <td>3711031</td>\n",
       "      <td>9.28</td>\n",
       "      <td>2019</td>\n",
       "    </tr>\n",
       "    <tr>\n",
       "      <th>4</th>\n",
       "      <td>81</td>\n",
       "      <td>2019-05-24</td>\n",
       "      <td>Aladdin</td>\n",
       "      <td>182000000</td>\n",
       "      <td>246734314</td>\n",
       "      <td>619234314</td>\n",
       "      <td>5</td>\n",
       "      <td>437234314</td>\n",
       "      <td>240.24</td>\n",
       "      <td>2019</td>\n",
       "    </tr>\n",
       "  </tbody>\n",
       "</table>\n",
       "</div>"
      ],
      "text/plain": [
       "   id release_date                   movie  production_budget  domestic_gross  \\\n",
       "0  36   2020-02-21        Call of the Wild           82000000               0   \n",
       "1  95   2020-12-31                Moonfall          150000000               0   \n",
       "2   6   2020-12-31  Hannibal the Conqueror           50000000               0   \n",
       "3  75   2019-05-03               Long Shot           40000000        30202860   \n",
       "4  81   2019-05-24                 Aladdin          182000000       246734314   \n",
       "\n",
       "   worldwide_gross  release_m  difference     roi  release_y  \n",
       "0                0          2   -82000000 -100.00       2020  \n",
       "1                0         12  -150000000 -100.00       2020  \n",
       "2                0         12   -50000000 -100.00       2020  \n",
       "3         43711031          5     3711031    9.28       2019  \n",
       "4        619234314          5   437234314  240.24       2019  "
      ]
     },
     "execution_count": 53,
     "metadata": {},
     "output_type": "execute_result"
    }
   ],
   "source": [
    "movie_budgets_df.head()"
   ]
  },
  {
   "cell_type": "code",
   "execution_count": 54,
   "metadata": {},
   "outputs": [],
   "source": [
    "# Well, it looks like there are some new ones that haven't made any money. \n",
    "# That isn't really helpful, so let's look at worldwide gross and take out any values of \"0\"\n",
    "movie_budgets_df['worldwide_gross']= movie_budgets_df['worldwide_gross'].replace(0, np.nan)\n",
    "movie_budgets_df.dropna(inplace= True)\n",
    "movie_budgets_df.reset_index (inplace=True, drop=True)"
   ]
  },
  {
   "cell_type": "code",
   "execution_count": 55,
   "metadata": {},
   "outputs": [
    {
     "data": {
      "text/html": [
       "<div>\n",
       "<style scoped>\n",
       "    .dataframe tbody tr th:only-of-type {\n",
       "        vertical-align: middle;\n",
       "    }\n",
       "\n",
       "    .dataframe tbody tr th {\n",
       "        vertical-align: top;\n",
       "    }\n",
       "\n",
       "    .dataframe thead th {\n",
       "        text-align: right;\n",
       "    }\n",
       "</style>\n",
       "<table border=\"1\" class=\"dataframe\">\n",
       "  <thead>\n",
       "    <tr style=\"text-align: right;\">\n",
       "      <th></th>\n",
       "      <th>id</th>\n",
       "      <th>release_date</th>\n",
       "      <th>movie</th>\n",
       "      <th>production_budget</th>\n",
       "      <th>domestic_gross</th>\n",
       "      <th>worldwide_gross</th>\n",
       "      <th>release_m</th>\n",
       "      <th>difference</th>\n",
       "      <th>roi</th>\n",
       "      <th>release_y</th>\n",
       "    </tr>\n",
       "  </thead>\n",
       "  <tbody>\n",
       "    <tr>\n",
       "      <th>0</th>\n",
       "      <td>75</td>\n",
       "      <td>2019-05-03</td>\n",
       "      <td>Long Shot</td>\n",
       "      <td>40000000</td>\n",
       "      <td>30202860</td>\n",
       "      <td>43711031.0</td>\n",
       "      <td>5</td>\n",
       "      <td>3711031</td>\n",
       "      <td>9.28</td>\n",
       "      <td>2019</td>\n",
       "    </tr>\n",
       "    <tr>\n",
       "      <th>1</th>\n",
       "      <td>81</td>\n",
       "      <td>2019-05-24</td>\n",
       "      <td>Aladdin</td>\n",
       "      <td>182000000</td>\n",
       "      <td>246734314</td>\n",
       "      <td>619234314.0</td>\n",
       "      <td>5</td>\n",
       "      <td>437234314</td>\n",
       "      <td>240.24</td>\n",
       "      <td>2019</td>\n",
       "    </tr>\n",
       "    <tr>\n",
       "      <th>2</th>\n",
       "      <td>21</td>\n",
       "      <td>2019-02-08</td>\n",
       "      <td>What Men Want</td>\n",
       "      <td>20000000</td>\n",
       "      <td>54611903</td>\n",
       "      <td>69911903.0</td>\n",
       "      <td>2</td>\n",
       "      <td>49911903</td>\n",
       "      <td>249.56</td>\n",
       "      <td>2019</td>\n",
       "    </tr>\n",
       "    <tr>\n",
       "      <th>3</th>\n",
       "      <td>3</td>\n",
       "      <td>2019-06-07</td>\n",
       "      <td>Dark Phoenix</td>\n",
       "      <td>350000000</td>\n",
       "      <td>42762350</td>\n",
       "      <td>149762350.0</td>\n",
       "      <td>6</td>\n",
       "      <td>-200237650</td>\n",
       "      <td>-57.21</td>\n",
       "      <td>2019</td>\n",
       "    </tr>\n",
       "    <tr>\n",
       "      <th>4</th>\n",
       "      <td>86</td>\n",
       "      <td>2019-02-14</td>\n",
       "      <td>Fighting With My Family</td>\n",
       "      <td>11000000</td>\n",
       "      <td>22958583</td>\n",
       "      <td>39049922.0</td>\n",
       "      <td>2</td>\n",
       "      <td>28049922</td>\n",
       "      <td>255.00</td>\n",
       "      <td>2019</td>\n",
       "    </tr>\n",
       "  </tbody>\n",
       "</table>\n",
       "</div>"
      ],
      "text/plain": [
       "   id release_date                    movie  production_budget  \\\n",
       "0  75   2019-05-03                Long Shot           40000000   \n",
       "1  81   2019-05-24                  Aladdin          182000000   \n",
       "2  21   2019-02-08            What Men Want           20000000   \n",
       "3   3   2019-06-07             Dark Phoenix          350000000   \n",
       "4  86   2019-02-14  Fighting With My Family           11000000   \n",
       "\n",
       "   domestic_gross  worldwide_gross  release_m  difference     roi  release_y  \n",
       "0        30202860       43711031.0          5     3711031    9.28       2019  \n",
       "1       246734314      619234314.0          5   437234314  240.24       2019  \n",
       "2        54611903       69911903.0          2    49911903  249.56       2019  \n",
       "3        42762350      149762350.0          6  -200237650  -57.21       2019  \n",
       "4        22958583       39049922.0          2    28049922  255.00       2019  "
      ]
     },
     "execution_count": 55,
     "metadata": {},
     "output_type": "execute_result"
    }
   ],
   "source": [
    "#Much better!\n",
    "movie_budgets_df.head()"
   ]
  },
  {
   "cell_type": "code",
   "execution_count": 56,
   "metadata": {},
   "outputs": [
    {
     "data": {
      "text/plain": [
       "2140"
      ]
     },
     "execution_count": 56,
     "metadata": {},
     "output_type": "execute_result"
    }
   ],
   "source": [
    "# Now we can eliminate some older movies. \n",
    "# Honestly, it seems like looking at movie trends from \n",
    "# the past ten years would be the most helpful.\n",
    "recent_movie_budgets_df = movie_budgets_df[:2140]\n",
    "len(recent_movie_budgets_df)\n",
    "# recent_movie_budgets_df.head()"
   ]
  },
  {
   "cell_type": "markdown",
   "metadata": {},
   "source": [
    "Let's merge the cleaned up ROI with the original DataFrame that has the genres in it."
   ]
  },
  {
   "cell_type": "code",
   "execution_count": 57,
   "metadata": {},
   "outputs": [],
   "source": [
    "genres_and_roi_df = pd.merge(recent_movie_budgets_df, title_basics_df, how= 'inner', left_on= 'movie', right_on= 'primary_title'  )"
   ]
  },
  {
   "cell_type": "code",
   "execution_count": 58,
   "metadata": {},
   "outputs": [
    {
     "data": {
      "text/plain": [
       "id                     0\n",
       "release_date           0\n",
       "movie                  0\n",
       "production_budget      0\n",
       "domestic_gross         0\n",
       "worldwide_gross        0\n",
       "release_m              0\n",
       "difference             0\n",
       "roi                    0\n",
       "release_y              0\n",
       "tconst                 0\n",
       "primary_title          0\n",
       "original_title         0\n",
       "start_year             0\n",
       "runtime_minutes      188\n",
       "genres                31\n",
       "dtype: int64"
      ]
     },
     "execution_count": 58,
     "metadata": {},
     "output_type": "execute_result"
    }
   ],
   "source": [
    "# genres_and_roi_df.head()\n",
    "genres_and_roi_df.isna().sum()"
   ]
  },
  {
   "cell_type": "code",
   "execution_count": 59,
   "metadata": {},
   "outputs": [],
   "source": [
    "# Drop columns with NaN values before dropping NaN to reduce loss of data for genres\n",
    "genres_and_roi_df.drop(columns= ['original_title', 'runtime_minutes', 'tconst', 'start_year'], inplace= True)"
   ]
  },
  {
   "cell_type": "code",
   "execution_count": 60,
   "metadata": {},
   "outputs": [],
   "source": [
    "# Now drop those missing values\n",
    "genres_and_roi_df.dropna(axis=0, inplace= True)"
   ]
  },
  {
   "cell_type": "code",
   "execution_count": 61,
   "metadata": {},
   "outputs": [
    {
     "name": "stdout",
     "output_type": "stream",
     "text": [
      "2366\n"
     ]
    },
    {
     "data": {
      "text/plain": [
       "id                   0\n",
       "release_date         0\n",
       "movie                0\n",
       "production_budget    0\n",
       "domestic_gross       0\n",
       "worldwide_gross      0\n",
       "release_m            0\n",
       "difference           0\n",
       "roi                  0\n",
       "release_y            0\n",
       "primary_title        0\n",
       "genres               0\n",
       "dtype: int64"
      ]
     },
     "execution_count": 61,
     "metadata": {},
     "output_type": "execute_result"
    }
   ],
   "source": [
    "print (len (genres_and_roi_df))\n",
    "genres_and_roi_df.isna().sum()"
   ]
  },
  {
   "cell_type": "code",
   "execution_count": 62,
   "metadata": {},
   "outputs": [
    {
     "data": {
      "text/html": [
       "<div>\n",
       "<style scoped>\n",
       "    .dataframe tbody tr th:only-of-type {\n",
       "        vertical-align: middle;\n",
       "    }\n",
       "\n",
       "    .dataframe tbody tr th {\n",
       "        vertical-align: top;\n",
       "    }\n",
       "\n",
       "    .dataframe thead th {\n",
       "        text-align: right;\n",
       "    }\n",
       "</style>\n",
       "<table border=\"1\" class=\"dataframe\">\n",
       "  <thead>\n",
       "    <tr style=\"text-align: right;\">\n",
       "      <th></th>\n",
       "      <th>id</th>\n",
       "      <th>release_date</th>\n",
       "      <th>movie</th>\n",
       "      <th>production_budget</th>\n",
       "      <th>domestic_gross</th>\n",
       "      <th>worldwide_gross</th>\n",
       "      <th>release_m</th>\n",
       "      <th>difference</th>\n",
       "      <th>roi</th>\n",
       "      <th>release_y</th>\n",
       "      <th>primary_title</th>\n",
       "      <th>genres</th>\n",
       "    </tr>\n",
       "  </thead>\n",
       "  <tbody>\n",
       "    <tr>\n",
       "      <th>1</th>\n",
       "      <td>75</td>\n",
       "      <td>2019-05-03</td>\n",
       "      <td>Long Shot</td>\n",
       "      <td>40000000</td>\n",
       "      <td>30202860</td>\n",
       "      <td>43711031.0</td>\n",
       "      <td>5</td>\n",
       "      <td>3711031</td>\n",
       "      <td>9.28</td>\n",
       "      <td>2019</td>\n",
       "      <td>Long Shot</td>\n",
       "      <td>Biography,Documentary</td>\n",
       "    </tr>\n",
       "    <tr>\n",
       "      <th>3</th>\n",
       "      <td>81</td>\n",
       "      <td>2019-05-24</td>\n",
       "      <td>Aladdin</td>\n",
       "      <td>182000000</td>\n",
       "      <td>246734314</td>\n",
       "      <td>619234314.0</td>\n",
       "      <td>5</td>\n",
       "      <td>437234314</td>\n",
       "      <td>240.24</td>\n",
       "      <td>2019</td>\n",
       "      <td>Aladdin</td>\n",
       "      <td>Fantasy</td>\n",
       "    </tr>\n",
       "    <tr>\n",
       "      <th>9</th>\n",
       "      <td>93</td>\n",
       "      <td>2019-01-25</td>\n",
       "      <td>Serenity</td>\n",
       "      <td>25000000</td>\n",
       "      <td>8547045</td>\n",
       "      <td>11367029.0</td>\n",
       "      <td>1</td>\n",
       "      <td>-13632971</td>\n",
       "      <td>-54.53</td>\n",
       "      <td>2019</td>\n",
       "      <td>Serenity</td>\n",
       "      <td>Drama,Mystery,Sci-Fi</td>\n",
       "    </tr>\n",
       "    <tr>\n",
       "      <th>29</th>\n",
       "      <td>72</td>\n",
       "      <td>2019-05-03</td>\n",
       "      <td>The Intruder</td>\n",
       "      <td>8000000</td>\n",
       "      <td>35095904</td>\n",
       "      <td>36005871.0</td>\n",
       "      <td>5</td>\n",
       "      <td>28005871</td>\n",
       "      <td>350.07</td>\n",
       "      <td>2019</td>\n",
       "      <td>The Intruder</td>\n",
       "      <td>Drama,Horror,Mystery</td>\n",
       "    </tr>\n",
       "    <tr>\n",
       "      <th>32</th>\n",
       "      <td>100</td>\n",
       "      <td>2019-01-18</td>\n",
       "      <td>Glass</td>\n",
       "      <td>20000000</td>\n",
       "      <td>111035005</td>\n",
       "      <td>245303505.0</td>\n",
       "      <td>1</td>\n",
       "      <td>225303505</td>\n",
       "      <td>1126.52</td>\n",
       "      <td>2019</td>\n",
       "      <td>Glass</td>\n",
       "      <td>Crime,Horror,Mystery</td>\n",
       "    </tr>\n",
       "    <tr>\n",
       "      <th>...</th>\n",
       "      <td>...</td>\n",
       "      <td>...</td>\n",
       "      <td>...</td>\n",
       "      <td>...</td>\n",
       "      <td>...</td>\n",
       "      <td>...</td>\n",
       "      <td>...</td>\n",
       "      <td>...</td>\n",
       "      <td>...</td>\n",
       "      <td>...</td>\n",
       "      <td>...</td>\n",
       "      <td>...</td>\n",
       "    </tr>\n",
       "    <tr>\n",
       "      <th>2387</th>\n",
       "      <td>36</td>\n",
       "      <td>2009-04-22</td>\n",
       "      <td>Earth</td>\n",
       "      <td>47000000</td>\n",
       "      <td>32011576</td>\n",
       "      <td>116773317.0</td>\n",
       "      <td>4</td>\n",
       "      <td>69773317</td>\n",
       "      <td>148.45</td>\n",
       "      <td>2009</td>\n",
       "      <td>Earth</td>\n",
       "      <td>Documentary,Fantasy,Mystery</td>\n",
       "    </tr>\n",
       "    <tr>\n",
       "      <th>2388</th>\n",
       "      <td>36</td>\n",
       "      <td>2009-04-22</td>\n",
       "      <td>Earth</td>\n",
       "      <td>47000000</td>\n",
       "      <td>32011576</td>\n",
       "      <td>116773317.0</td>\n",
       "      <td>4</td>\n",
       "      <td>69773317</td>\n",
       "      <td>148.45</td>\n",
       "      <td>2009</td>\n",
       "      <td>Earth</td>\n",
       "      <td>Documentary</td>\n",
       "    </tr>\n",
       "    <tr>\n",
       "      <th>2389</th>\n",
       "      <td>36</td>\n",
       "      <td>2009-04-22</td>\n",
       "      <td>Earth</td>\n",
       "      <td>47000000</td>\n",
       "      <td>32011576</td>\n",
       "      <td>116773317.0</td>\n",
       "      <td>4</td>\n",
       "      <td>69773317</td>\n",
       "      <td>148.45</td>\n",
       "      <td>2009</td>\n",
       "      <td>Earth</td>\n",
       "      <td>Drama</td>\n",
       "    </tr>\n",
       "    <tr>\n",
       "      <th>2390</th>\n",
       "      <td>36</td>\n",
       "      <td>2009-04-22</td>\n",
       "      <td>Earth</td>\n",
       "      <td>47000000</td>\n",
       "      <td>32011576</td>\n",
       "      <td>116773317.0</td>\n",
       "      <td>4</td>\n",
       "      <td>69773317</td>\n",
       "      <td>148.45</td>\n",
       "      <td>2009</td>\n",
       "      <td>Earth</td>\n",
       "      <td>Documentary</td>\n",
       "    </tr>\n",
       "    <tr>\n",
       "      <th>2395</th>\n",
       "      <td>12</td>\n",
       "      <td>2009-03-20</td>\n",
       "      <td>Duplicity</td>\n",
       "      <td>60000000</td>\n",
       "      <td>40572825</td>\n",
       "      <td>81079566.0</td>\n",
       "      <td>3</td>\n",
       "      <td>21079566</td>\n",
       "      <td>35.13</td>\n",
       "      <td>2009</td>\n",
       "      <td>Duplicity</td>\n",
       "      <td>Mystery</td>\n",
       "    </tr>\n",
       "  </tbody>\n",
       "</table>\n",
       "<p>742 rows × 12 columns</p>\n",
       "</div>"
      ],
      "text/plain": [
       "       id release_date         movie  production_budget  domestic_gross  \\\n",
       "1      75   2019-05-03     Long Shot           40000000        30202860   \n",
       "3      81   2019-05-24       Aladdin          182000000       246734314   \n",
       "9      93   2019-01-25      Serenity           25000000         8547045   \n",
       "29     72   2019-05-03  The Intruder            8000000        35095904   \n",
       "32    100   2019-01-18         Glass           20000000       111035005   \n",
       "...   ...          ...           ...                ...             ...   \n",
       "2387   36   2009-04-22         Earth           47000000        32011576   \n",
       "2388   36   2009-04-22         Earth           47000000        32011576   \n",
       "2389   36   2009-04-22         Earth           47000000        32011576   \n",
       "2390   36   2009-04-22         Earth           47000000        32011576   \n",
       "2395   12   2009-03-20     Duplicity           60000000        40572825   \n",
       "\n",
       "      worldwide_gross  release_m  difference      roi  release_y  \\\n",
       "1          43711031.0          5     3711031     9.28       2019   \n",
       "3         619234314.0          5   437234314   240.24       2019   \n",
       "9          11367029.0          1   -13632971   -54.53       2019   \n",
       "29         36005871.0          5    28005871   350.07       2019   \n",
       "32        245303505.0          1   225303505  1126.52       2019   \n",
       "...               ...        ...         ...      ...        ...   \n",
       "2387      116773317.0          4    69773317   148.45       2009   \n",
       "2388      116773317.0          4    69773317   148.45       2009   \n",
       "2389      116773317.0          4    69773317   148.45       2009   \n",
       "2390      116773317.0          4    69773317   148.45       2009   \n",
       "2395       81079566.0          3    21079566    35.13       2009   \n",
       "\n",
       "     primary_title                       genres  \n",
       "1        Long Shot        Biography,Documentary  \n",
       "3          Aladdin                      Fantasy  \n",
       "9         Serenity         Drama,Mystery,Sci-Fi  \n",
       "29    The Intruder         Drama,Horror,Mystery  \n",
       "32           Glass         Crime,Horror,Mystery  \n",
       "...            ...                          ...  \n",
       "2387         Earth  Documentary,Fantasy,Mystery  \n",
       "2388         Earth                  Documentary  \n",
       "2389         Earth                        Drama  \n",
       "2390         Earth                  Documentary  \n",
       "2395     Duplicity                      Mystery  \n",
       "\n",
       "[742 rows x 12 columns]"
      ]
     },
     "execution_count": 62,
     "metadata": {},
     "output_type": "execute_result"
    }
   ],
   "source": [
    "#Better check for duplicates!\n",
    "dupd_df = genres_and_roi_df[genres_and_roi_df.duplicated(subset= 'movie')]\n",
    "dupd_df"
   ]
  },
  {
   "cell_type": "code",
   "execution_count": 63,
   "metadata": {},
   "outputs": [
    {
     "data": {
      "text/html": [
       "<div>\n",
       "<style scoped>\n",
       "    .dataframe tbody tr th:only-of-type {\n",
       "        vertical-align: middle;\n",
       "    }\n",
       "\n",
       "    .dataframe tbody tr th {\n",
       "        vertical-align: top;\n",
       "    }\n",
       "\n",
       "    .dataframe thead th {\n",
       "        text-align: right;\n",
       "    }\n",
       "</style>\n",
       "<table border=\"1\" class=\"dataframe\">\n",
       "  <thead>\n",
       "    <tr style=\"text-align: right;\">\n",
       "      <th></th>\n",
       "      <th>id</th>\n",
       "      <th>release_date</th>\n",
       "      <th>movie</th>\n",
       "      <th>production_budget</th>\n",
       "      <th>domestic_gross</th>\n",
       "      <th>worldwide_gross</th>\n",
       "      <th>release_m</th>\n",
       "      <th>difference</th>\n",
       "      <th>roi</th>\n",
       "      <th>release_y</th>\n",
       "      <th>primary_title</th>\n",
       "      <th>genres</th>\n",
       "    </tr>\n",
       "  </thead>\n",
       "  <tbody>\n",
       "    <tr>\n",
       "      <th>39</th>\n",
       "      <td>88</td>\n",
       "      <td>2019-03-22</td>\n",
       "      <td>Us</td>\n",
       "      <td>20000000</td>\n",
       "      <td>175006930</td>\n",
       "      <td>254210310.0</td>\n",
       "      <td>3</td>\n",
       "      <td>234210310</td>\n",
       "      <td>1171.05</td>\n",
       "      <td>2019</td>\n",
       "      <td>Us</td>\n",
       "      <td>Drama</td>\n",
       "    </tr>\n",
       "    <tr>\n",
       "      <th>40</th>\n",
       "      <td>88</td>\n",
       "      <td>2019-03-22</td>\n",
       "      <td>Us</td>\n",
       "      <td>20000000</td>\n",
       "      <td>175006930</td>\n",
       "      <td>254210310.0</td>\n",
       "      <td>3</td>\n",
       "      <td>234210310</td>\n",
       "      <td>1171.05</td>\n",
       "      <td>2019</td>\n",
       "      <td>Us</td>\n",
       "      <td>Comedy</td>\n",
       "    </tr>\n",
       "    <tr>\n",
       "      <th>41</th>\n",
       "      <td>88</td>\n",
       "      <td>2019-03-22</td>\n",
       "      <td>Us</td>\n",
       "      <td>20000000</td>\n",
       "      <td>175006930</td>\n",
       "      <td>254210310.0</td>\n",
       "      <td>3</td>\n",
       "      <td>234210310</td>\n",
       "      <td>1171.05</td>\n",
       "      <td>2019</td>\n",
       "      <td>Us</td>\n",
       "      <td>Horror,Mystery,Thriller</td>\n",
       "    </tr>\n",
       "  </tbody>\n",
       "</table>\n",
       "</div>"
      ],
      "text/plain": [
       "    id release_date movie  production_budget  domestic_gross  worldwide_gross  \\\n",
       "39  88   2019-03-22    Us           20000000       175006930      254210310.0   \n",
       "40  88   2019-03-22    Us           20000000       175006930      254210310.0   \n",
       "41  88   2019-03-22    Us           20000000       175006930      254210310.0   \n",
       "\n",
       "    release_m  difference      roi  release_y primary_title  \\\n",
       "39          3   234210310  1171.05       2019            Us   \n",
       "40          3   234210310  1171.05       2019            Us   \n",
       "41          3   234210310  1171.05       2019            Us   \n",
       "\n",
       "                     genres  \n",
       "39                    Drama  \n",
       "40                   Comedy  \n",
       "41  Horror,Mystery,Thriller  "
      ]
     },
     "execution_count": 63,
     "metadata": {},
     "output_type": "execute_result"
    }
   ],
   "source": [
    "# Whoa! 684 rows! Let's investigate some.\n",
    "genres_and_roi_df[genres_and_roi_df.movie == 'Us']\n",
    "# After checking a few different ones, it looks like all duplicates are exactly that.\n",
    "# Get 'em outta here!"
   ]
  },
  {
   "cell_type": "code",
   "execution_count": 64,
   "metadata": {},
   "outputs": [],
   "source": [
    "genres_and_roi_df.drop_duplicates(subset='movie', inplace= True)\n",
    "genres_and_roi_df.reset_index(drop=True, inplace=True)\n",
    "# genres_and_roi_df.head(10)"
   ]
  },
  {
   "cell_type": "markdown",
   "metadata": {},
   "source": [
    "YAY! Now we can work on those genres."
   ]
  },
  {
   "cell_type": "code",
   "execution_count": 65,
   "metadata": {},
   "outputs": [],
   "source": [
    "genres_and_roi_df['genres_split'] = genres_and_roi_df['genres'].map (lambda x: x.split(',') if x else x) \n",
    "# genres_and_roi_df.head()"
   ]
  },
  {
   "cell_type": "code",
   "execution_count": 66,
   "metadata": {},
   "outputs": [],
   "source": [
    "all_genres = set ()\n",
    "for genre in genres_and_roi_df['genres_split']:\n",
    "    if genre:\n",
    "        all_genres.update(genre)"
   ]
  },
  {
   "cell_type": "code",
   "execution_count": 67,
   "metadata": {},
   "outputs": [],
   "source": [
    "y = 'N/A'\n",
    "genres_and_roi_df['one_genre'] = genres_and_roi_df['genres_split'].map (lambda x: x[0])\n",
    "genres_and_roi_df['two_genre'] = genres_and_roi_df['genres_split'].map (lambda x: y if len(x) < 2 else x[1])\n",
    "genres_and_roi_df['three_genre'] = genres_and_roi_df['genres_split'].map (lambda x: y if len (x) < 3 else x[2])"
   ]
  },
  {
   "cell_type": "markdown",
   "metadata": {},
   "source": [
    "Great! Now that we have the genres separated let's get rid of columns we don't need and check these puppies out!"
   ]
  },
  {
   "cell_type": "code",
   "execution_count": 68,
   "metadata": {},
   "outputs": [],
   "source": [
    "genres_and_roi_df.drop (columns= ['genres', 'genres_split'], inplace= True)\n",
    "# genres_and_roi_df.head()"
   ]
  },
  {
   "cell_type": "code",
   "execution_count": 69,
   "metadata": {},
   "outputs": [
    {
     "data": {
      "text/plain": [
       "<AxesSubplot:title={'center':'Third Genre Listed'}, xlabel='count', ylabel='three_genre'>"
      ]
     },
     "execution_count": 69,
     "metadata": {},
     "output_type": "execute_result"
    },
    {
     "data": {
      "image/png": "[encoded data removed]",
      "text/plain": [
       "<Figure size 576x1440 with 3 Axes>"
      ]
     },
     "metadata": {
      "needs_background": "light"
     },
     "output_type": "display_data"
    }
   ],
   "source": [
    "fig, axes = plt.subplots (3, 1, sharex= True, figsize = (8, 20))\n",
    "\n",
    "fig.suptitle('Genres by Position in Column')\n",
    "\n",
    "axes[0].set_title ('First Genre Listed')\n",
    "axes[1].set_title ('Second Genre Listed')\n",
    "axes[2].set_title ('Third Genre Listed')\n",
    "\n",
    "sns.countplot (ax= axes[0], y= 'one_genre', data= genres_and_roi_df)\n",
    "sns.countplot (ax= axes[1], y= 'two_genre', data= genres_and_roi_df)\n",
    "sns.countplot (ax= axes[2], y= 'three_genre', data= genres_and_roi_df)"
   ]
  },
  {
   "cell_type": "markdown",
   "metadata": {},
   "source": [
    "### Alright, alright, alright. \n",
    "\n",
    "Looks like action and drama are the real winners when looking at the movies that have been released in the past ten years. What else can we look at?\n",
    "\n",
    "Maybe genre and ROI?"
   ]
  },
  {
   "cell_type": "code",
   "execution_count": 70,
   "metadata": {},
   "outputs": [],
   "source": [
    "grouped_genres_df = genres_and_roi_df.groupby(by= ['one_genre'], as_index= False).sum()\n",
    "grouped_genres2_df = genres_and_roi_df.groupby(by= ['two_genre'], as_index= False).sum()\n",
    "grouped_genres3_df = genres_and_roi_df.groupby (by=['three_genre'], as_index= False).sum()"
   ]
  },
  {
   "cell_type": "code",
   "execution_count": 71,
   "metadata": {},
   "outputs": [
    {
     "data": {
      "text/plain": [
       "<AxesSubplot:title={'center':'Third Genre Listed'}, xlabel='roi', ylabel='three_genre'>"
      ]
     },
     "execution_count": 71,
     "metadata": {},
     "output_type": "execute_result"
    },
    {
     "data": {
      "image/png": "[encoded data removed]",
      "text/plain": [
       "<Figure size 1800x576 with 3 Axes>"
      ]
     },
     "metadata": {
      "needs_background": "light"
     },
     "output_type": "display_data"
    }
   ],
   "source": [
    "fig, axes = plt.subplots (1, 3, figsize= (25, 8))\n",
    "\n",
    "fig.suptitle ('Genres and their ROI')\n",
    "axes[0].set_title ('First Genre Listed')\n",
    "axes[1].set_title ('Second Genre Listed')\n",
    "axes[2].set_title ('Third Genre Listed')\n",
    "\n",
    "sns.barplot (ax= axes[0], x= 'roi', y= 'one_genre', data= grouped_genres_df)\n",
    "sns.barplot (ax= axes[1], x= 'roi', y= 'two_genre', data= grouped_genres2_df)\n",
    "sns.barplot (ax= axes[2], x= 'roi', y= 'three_genre', data= grouped_genres3_df)"
   ]
  },
  {
   "cell_type": "code",
   "execution_count": 72,
   "metadata": {},
   "outputs": [
    {
     "data": {
      "text/html": [
       "<div>\n",
       "<style scoped>\n",
       "    .dataframe tbody tr th:only-of-type {\n",
       "        vertical-align: middle;\n",
       "    }\n",
       "\n",
       "    .dataframe tbody tr th {\n",
       "        vertical-align: top;\n",
       "    }\n",
       "\n",
       "    .dataframe thead th {\n",
       "        text-align: right;\n",
       "    }\n",
       "</style>\n",
       "<table border=\"1\" class=\"dataframe\">\n",
       "  <thead>\n",
       "    <tr style=\"text-align: right;\">\n",
       "      <th></th>\n",
       "      <th>id</th>\n",
       "      <th>release_date</th>\n",
       "      <th>movie</th>\n",
       "      <th>production_budget</th>\n",
       "      <th>domestic_gross</th>\n",
       "      <th>worldwide_gross</th>\n",
       "      <th>release_m</th>\n",
       "      <th>difference</th>\n",
       "      <th>roi</th>\n",
       "      <th>release_y</th>\n",
       "      <th>primary_title</th>\n",
       "      <th>one_genre</th>\n",
       "      <th>two_genre</th>\n",
       "      <th>three_genre</th>\n",
       "    </tr>\n",
       "  </thead>\n",
       "  <tbody>\n",
       "    <tr>\n",
       "      <th>21</th>\n",
       "      <td>36</td>\n",
       "      <td>2019-02-08</td>\n",
       "      <td>The Prodigy</td>\n",
       "      <td>6000000</td>\n",
       "      <td>14856291</td>\n",
       "      <td>1.978971e+07</td>\n",
       "      <td>2</td>\n",
       "      <td>13789712</td>\n",
       "      <td>229.83</td>\n",
       "      <td>2019</td>\n",
       "      <td>The Prodigy</td>\n",
       "      <td>Horror</td>\n",
       "      <td>Thriller</td>\n",
       "      <td>N/A</td>\n",
       "    </tr>\n",
       "    <tr>\n",
       "      <th>25</th>\n",
       "      <td>72</td>\n",
       "      <td>2019-05-03</td>\n",
       "      <td>The Intruder</td>\n",
       "      <td>8000000</td>\n",
       "      <td>35095904</td>\n",
       "      <td>3.600587e+07</td>\n",
       "      <td>5</td>\n",
       "      <td>28005871</td>\n",
       "      <td>350.07</td>\n",
       "      <td>2019</td>\n",
       "      <td>The Intruder</td>\n",
       "      <td>Horror</td>\n",
       "      <td>N/A</td>\n",
       "      <td>N/A</td>\n",
       "    </tr>\n",
       "    <tr>\n",
       "      <th>28</th>\n",
       "      <td>48</td>\n",
       "      <td>2019-02-01</td>\n",
       "      <td>Braid</td>\n",
       "      <td>1660000</td>\n",
       "      <td>0</td>\n",
       "      <td>8.074500e+04</td>\n",
       "      <td>2</td>\n",
       "      <td>-1579255</td>\n",
       "      <td>-95.14</td>\n",
       "      <td>2019</td>\n",
       "      <td>Braid</td>\n",
       "      <td>Horror</td>\n",
       "      <td>Mystery</td>\n",
       "      <td>Thriller</td>\n",
       "    </tr>\n",
       "    <tr>\n",
       "      <th>35</th>\n",
       "      <td>61</td>\n",
       "      <td>2019-04-05</td>\n",
       "      <td>Pet Sematary</td>\n",
       "      <td>21000000</td>\n",
       "      <td>54724696</td>\n",
       "      <td>1.095011e+08</td>\n",
       "      <td>4</td>\n",
       "      <td>88501146</td>\n",
       "      <td>421.43</td>\n",
       "      <td>2019</td>\n",
       "      <td>Pet Sematary</td>\n",
       "      <td>Horror</td>\n",
       "      <td>Mystery</td>\n",
       "      <td>Thriller</td>\n",
       "    </tr>\n",
       "    <tr>\n",
       "      <th>38</th>\n",
       "      <td>37</td>\n",
       "      <td>2018-11-30</td>\n",
       "      <td>The Possession of Hannah Grace</td>\n",
       "      <td>6000000</td>\n",
       "      <td>14836174</td>\n",
       "      <td>4.278539e+07</td>\n",
       "      <td>11</td>\n",
       "      <td>36785387</td>\n",
       "      <td>613.09</td>\n",
       "      <td>2018</td>\n",
       "      <td>The Possession of Hannah Grace</td>\n",
       "      <td>Horror</td>\n",
       "      <td>Mystery</td>\n",
       "      <td>Thriller</td>\n",
       "    </tr>\n",
       "    <tr>\n",
       "      <th>...</th>\n",
       "      <td>...</td>\n",
       "      <td>...</td>\n",
       "      <td>...</td>\n",
       "      <td>...</td>\n",
       "      <td>...</td>\n",
       "      <td>...</td>\n",
       "      <td>...</td>\n",
       "      <td>...</td>\n",
       "      <td>...</td>\n",
       "      <td>...</td>\n",
       "      <td>...</td>\n",
       "      <td>...</td>\n",
       "      <td>...</td>\n",
       "      <td>...</td>\n",
       "    </tr>\n",
       "    <tr>\n",
       "      <th>1576</th>\n",
       "      <td>68</td>\n",
       "      <td>2010-10-08</td>\n",
       "      <td>My Soul to Take</td>\n",
       "      <td>25000000</td>\n",
       "      <td>14744435</td>\n",
       "      <td>1.672747e+07</td>\n",
       "      <td>10</td>\n",
       "      <td>-8272530</td>\n",
       "      <td>-33.09</td>\n",
       "      <td>2010</td>\n",
       "      <td>My Soul to Take</td>\n",
       "      <td>Horror</td>\n",
       "      <td>Mystery</td>\n",
       "      <td>Thriller</td>\n",
       "    </tr>\n",
       "    <tr>\n",
       "      <th>1595</th>\n",
       "      <td>84</td>\n",
       "      <td>2009-05-08</td>\n",
       "      <td>Julia</td>\n",
       "      <td>6000000</td>\n",
       "      <td>65108</td>\n",
       "      <td>1.365108e+06</td>\n",
       "      <td>5</td>\n",
       "      <td>-4634892</td>\n",
       "      <td>-77.25</td>\n",
       "      <td>2009</td>\n",
       "      <td>Julia</td>\n",
       "      <td>Horror</td>\n",
       "      <td>Thriller</td>\n",
       "      <td>N/A</td>\n",
       "    </tr>\n",
       "    <tr>\n",
       "      <th>1599</th>\n",
       "      <td>35</td>\n",
       "      <td>2009-01-09</td>\n",
       "      <td>The Unborn</td>\n",
       "      <td>16000000</td>\n",
       "      <td>42670410</td>\n",
       "      <td>7.820881e+07</td>\n",
       "      <td>1</td>\n",
       "      <td>62208812</td>\n",
       "      <td>388.81</td>\n",
       "      <td>2009</td>\n",
       "      <td>The Unborn</td>\n",
       "      <td>Horror</td>\n",
       "      <td>N/A</td>\n",
       "      <td>N/A</td>\n",
       "    </tr>\n",
       "    <tr>\n",
       "      <th>1608</th>\n",
       "      <td>100</td>\n",
       "      <td>2009-12-18</td>\n",
       "      <td>Nine</td>\n",
       "      <td>80000000</td>\n",
       "      <td>19676965</td>\n",
       "      <td>5.350886e+07</td>\n",
       "      <td>12</td>\n",
       "      <td>-26491142</td>\n",
       "      <td>-33.11</td>\n",
       "      <td>2009</td>\n",
       "      <td>Nine</td>\n",
       "      <td>Horror</td>\n",
       "      <td>N/A</td>\n",
       "      <td>N/A</td>\n",
       "    </tr>\n",
       "    <tr>\n",
       "      <th>1612</th>\n",
       "      <td>1</td>\n",
       "      <td>2009-12-18</td>\n",
       "      <td>Avatar</td>\n",
       "      <td>425000000</td>\n",
       "      <td>760507625</td>\n",
       "      <td>2.776345e+09</td>\n",
       "      <td>12</td>\n",
       "      <td>2351345279</td>\n",
       "      <td>553.26</td>\n",
       "      <td>2009</td>\n",
       "      <td>Avatar</td>\n",
       "      <td>Horror</td>\n",
       "      <td>N/A</td>\n",
       "      <td>N/A</td>\n",
       "    </tr>\n",
       "  </tbody>\n",
       "</table>\n",
       "<p>91 rows × 14 columns</p>\n",
       "</div>"
      ],
      "text/plain": [
       "       id release_date                           movie  production_budget  \\\n",
       "21     36   2019-02-08                     The Prodigy            6000000   \n",
       "25     72   2019-05-03                    The Intruder            8000000   \n",
       "28     48   2019-02-01                           Braid            1660000   \n",
       "35     61   2019-04-05                    Pet Sematary           21000000   \n",
       "38     37   2018-11-30  The Possession of Hannah Grace            6000000   \n",
       "...   ...          ...                             ...                ...   \n",
       "1576   68   2010-10-08                 My Soul to Take           25000000   \n",
       "1595   84   2009-05-08                           Julia            6000000   \n",
       "1599   35   2009-01-09                      The Unborn           16000000   \n",
       "1608  100   2009-12-18                            Nine           80000000   \n",
       "1612    1   2009-12-18                          Avatar          425000000   \n",
       "\n",
       "      domestic_gross  worldwide_gross  release_m  difference     roi  \\\n",
       "21          14856291     1.978971e+07          2    13789712  229.83   \n",
       "25          35095904     3.600587e+07          5    28005871  350.07   \n",
       "28                 0     8.074500e+04          2    -1579255  -95.14   \n",
       "35          54724696     1.095011e+08          4    88501146  421.43   \n",
       "38          14836174     4.278539e+07         11    36785387  613.09   \n",
       "...              ...              ...        ...         ...     ...   \n",
       "1576        14744435     1.672747e+07         10    -8272530  -33.09   \n",
       "1595           65108     1.365108e+06          5    -4634892  -77.25   \n",
       "1599        42670410     7.820881e+07          1    62208812  388.81   \n",
       "1608        19676965     5.350886e+07         12   -26491142  -33.11   \n",
       "1612       760507625     2.776345e+09         12  2351345279  553.26   \n",
       "\n",
       "      release_y                   primary_title one_genre two_genre  \\\n",
       "21         2019                     The Prodigy    Horror  Thriller   \n",
       "25         2019                    The Intruder    Horror       N/A   \n",
       "28         2019                           Braid    Horror   Mystery   \n",
       "35         2019                    Pet Sematary    Horror   Mystery   \n",
       "38         2018  The Possession of Hannah Grace    Horror   Mystery   \n",
       "...         ...                             ...       ...       ...   \n",
       "1576       2010                 My Soul to Take    Horror   Mystery   \n",
       "1595       2009                           Julia    Horror  Thriller   \n",
       "1599       2009                      The Unborn    Horror       N/A   \n",
       "1608       2009                            Nine    Horror       N/A   \n",
       "1612       2009                          Avatar    Horror       N/A   \n",
       "\n",
       "     three_genre  \n",
       "21           N/A  \n",
       "25           N/A  \n",
       "28      Thriller  \n",
       "35      Thriller  \n",
       "38      Thriller  \n",
       "...          ...  \n",
       "1576    Thriller  \n",
       "1595         N/A  \n",
       "1599         N/A  \n",
       "1608         N/A  \n",
       "1612         N/A  \n",
       "\n",
       "[91 rows x 14 columns]"
      ]
     },
     "execution_count": 72,
     "metadata": {},
     "output_type": "execute_result"
    }
   ],
   "source": [
    "#Is that right? Well, let's check\n",
    "genres_and_roi_df[genres_and_roi_df.one_genre == 'Horror']\n",
    "# genres_and_roi_df[genres_and_roi_df.two_genre == 'Mystery']"
   ]
  },
  {
   "cell_type": "markdown",
   "metadata": {},
   "source": [
    "### It's alive! It's alive!\n",
    "\n",
    "Welp. It looks like if you want to make a decent return on your investment, give making a horror/mystery/thriller a go!\n",
    "\n",
    "Of course, it's important to point out that a lot of those movies will contain all three of those genres in that order, making them all successes. If the campy horror flicks don't suit you, drama hits high on the list as well.\n",
    "\n",
    "We saw before that Action/Adventure movies do well in box offices, but it looks like the cost to make them cuts into the profits."
   ]
  },
  {
   "cell_type": "code",
   "execution_count": null,
   "metadata": {},
   "outputs": [],
   "source": []
  }
 ],
 "metadata": {
  "kernelspec": {
   "display_name": "Python 3",
   "language": "python",
   "name": "python3"
  },
  "language_info": {
   "codemirror_mode": {
    "name": "ipython",
    "version": 3
   },
   "file_extension": ".py",
   "mimetype": "text/x-python",
   "name": "python",
   "nbconvert_exporter": "python",
   "pygments_lexer": "ipython3",
   "version": "3.8.5"
  },
  "toc": {
   "base_numbering": 1,
   "nav_menu": {},
   "number_sections": true,
   "sideBar": true,
   "skip_h1_title": false,
   "title_cell": "Table of Contents",
   "title_sidebar": "Contents",
   "toc_cell": false,
   "toc_position": {},
   "toc_section_display": true,
   "toc_window_display": true
  },
  "varInspector": {
   "cols": {
    "lenName": 16,
    "lenType": 16,
    "lenVar": 40
   },
   "kernels_config": {
    "python": {
     "delete_cmd_postfix": "",
     "delete_cmd_prefix": "del ",
     "library": "var_list.py",
     "varRefreshCmd": "print(var_dic_list())"
    },
    "r": {
     "delete_cmd_postfix": ") ",
     "delete_cmd_prefix": "rm(",
     "library": "var_list.r",
     "varRefreshCmd": "cat(var_dic_list()) "
    }
   },
   "types_to_exclude": [
    "module",
    "function",
    "builtin_function_or_method",
    "instance",
    "_Feature"
   ],
   "window_display": false
  }
 },
 "nbformat": 4,
 "nbformat_minor": 2
}
